{
 "cells": [
  {
   "cell_type": "markdown",
   "metadata": {},
   "source": [
    "### Spark Initialization"
   ]
  },
  {
   "cell_type": "code",
   "execution_count": 1,
   "metadata": {},
   "outputs": [],
   "source": [
    "from pyspark.sql import SparkSession\n",
    "from IPython.display import display\n",
    "\n",
    "# Initialize SparkSession\n",
    "spark = SparkSession.builder \\\n",
    "    .appName(\"Test PySpark Installation\") \\\n",
    "    .getOrCreate()"
   ]
  },
  {
   "cell_type": "markdown",
   "metadata": {},
   "source": [
    "### Data Reading CSV"
   ]
  },
  {
   "cell_type": "code",
   "execution_count": 2,
   "metadata": {},
   "outputs": [],
   "source": [
    "df=spark.read.format('csv')\\\n",
    "            .option('inferSchema',True)\\\n",
    "            .option('header',True)\\\n",
    "            .load('BigMart_Sales.csv')"
   ]
  },
  {
   "cell_type": "markdown",
   "metadata": {},
   "source": [
    "Viewing Data"
   ]
  },
  {
   "cell_type": "code",
   "execution_count": 3,
   "metadata": {},
   "outputs": [
    {
     "name": "stdout",
     "output_type": "stream",
     "text": [
      "+---------------+-----------+----------------+---------------+--------------------+--------+-----------------+-------------------------+-----------+--------------------+-----------------+-----------------+\n",
      "|Item_Identifier|Item_Weight|Item_Fat_Content|Item_Visibility|           Item_Type|Item_MRP|Outlet_Identifier|Outlet_Establishment_Year|Outlet_Size|Outlet_Location_Type|      Outlet_Type|Item_Outlet_Sales|\n",
      "+---------------+-----------+----------------+---------------+--------------------+--------+-----------------+-------------------------+-----------+--------------------+-----------------+-----------------+\n",
      "|          FDA15|        9.3|         Low Fat|    0.016047301|               Dairy|249.8092|           OUT049|                     1999|     Medium|              Tier 1|Supermarket Type1|         3735.138|\n",
      "|          DRC01|       5.92|         Regular|    0.019278216|         Soft Drinks| 48.2692|           OUT018|                     2009|     Medium|              Tier 3|Supermarket Type2|         443.4228|\n",
      "|          FDN15|       17.5|         Low Fat|    0.016760075|                Meat| 141.618|           OUT049|                     1999|     Medium|              Tier 1|Supermarket Type1|          2097.27|\n",
      "|          FDX07|       19.2|         Regular|            0.0|Fruits and Vegeta...| 182.095|           OUT010|                     1998|       NULL|              Tier 3|    Grocery Store|           732.38|\n",
      "|          NCD19|       8.93|         Low Fat|            0.0|           Household| 53.8614|           OUT013|                     1987|       High|              Tier 3|Supermarket Type1|         994.7052|\n",
      "|          FDP36|     10.395|         Regular|            0.0|        Baking Goods| 51.4008|           OUT018|                     2009|     Medium|              Tier 3|Supermarket Type2|         556.6088|\n",
      "|          FDO10|      13.65|         Regular|    0.012741089|         Snack Foods| 57.6588|           OUT013|                     1987|       High|              Tier 3|Supermarket Type1|         343.5528|\n",
      "|          FDP10|       NULL|         Low Fat|    0.127469857|         Snack Foods|107.7622|           OUT027|                     1985|     Medium|              Tier 3|Supermarket Type3|        4022.7636|\n",
      "|          FDH17|       16.2|         Regular|    0.016687114|        Frozen Foods| 96.9726|           OUT045|                     2002|       NULL|              Tier 2|Supermarket Type1|        1076.5986|\n",
      "|          FDU28|       19.2|         Regular|     0.09444959|        Frozen Foods|187.8214|           OUT017|                     2007|       NULL|              Tier 2|Supermarket Type1|         4710.535|\n",
      "|          FDY07|       11.8|         Low Fat|            0.0|Fruits and Vegeta...| 45.5402|           OUT049|                     1999|     Medium|              Tier 1|Supermarket Type1|        1516.0266|\n",
      "|          FDA03|       18.5|         Regular|    0.045463773|               Dairy|144.1102|           OUT046|                     1997|      Small|              Tier 1|Supermarket Type1|         2187.153|\n",
      "|          FDX32|       15.1|         Regular|      0.1000135|Fruits and Vegeta...|145.4786|           OUT049|                     1999|     Medium|              Tier 1|Supermarket Type1|        1589.2646|\n",
      "|          FDS46|       17.6|         Regular|    0.047257328|         Snack Foods|119.6782|           OUT046|                     1997|      Small|              Tier 1|Supermarket Type1|        2145.2076|\n",
      "|          FDF32|      16.35|         Low Fat|      0.0680243|Fruits and Vegeta...|196.4426|           OUT013|                     1987|       High|              Tier 3|Supermarket Type1|         1977.426|\n",
      "|          FDP49|        9.0|         Regular|    0.069088961|           Breakfast| 56.3614|           OUT046|                     1997|      Small|              Tier 1|Supermarket Type1|        1547.3192|\n",
      "|          NCB42|       11.8|         Low Fat|    0.008596051|  Health and Hygiene|115.3492|           OUT018|                     2009|     Medium|              Tier 3|Supermarket Type2|        1621.8888|\n",
      "|          FDP49|        9.0|         Regular|    0.069196376|           Breakfast| 54.3614|           OUT049|                     1999|     Medium|              Tier 1|Supermarket Type1|         718.3982|\n",
      "|          DRI11|       NULL|         Low Fat|    0.034237682|         Hard Drinks|113.2834|           OUT027|                     1985|     Medium|              Tier 3|Supermarket Type3|         2303.668|\n",
      "|          FDU02|      13.35|         Low Fat|     0.10249212|               Dairy|230.5352|           OUT035|                     2004|      Small|              Tier 2|Supermarket Type1|        2748.4224|\n",
      "+---------------+-----------+----------------+---------------+--------------------+--------+-----------------+-------------------------+-----------+--------------------+-----------------+-----------------+\n",
      "only showing top 20 rows\n",
      "\n"
     ]
    }
   ],
   "source": [
    "#it is an Action\n",
    "df.show() \n"
   ]
  },
  {
   "cell_type": "markdown",
   "metadata": {},
   "source": [
    "### Data Reading Json"
   ]
  },
  {
   "cell_type": "code",
   "execution_count": 18,
   "metadata": {},
   "outputs": [],
   "source": [
    "df_json=spark.read.format('json')\\\n",
    "                    .option('inferSchema',True)\\\n",
    "                    .option('header',True)\\\n",
    "                    .option('mulltiline',False)\\\n",
    "                    .load('drivers.json')"
   ]
  },
  {
   "cell_type": "code",
   "execution_count": 19,
   "metadata": {},
   "outputs": [
    {
     "name": "stdout",
     "output_type": "stream",
     "text": [
      "+----+----------+--------+----------+--------------------+-----------+------+--------------------+\n",
      "|code|       dob|driverId| driverRef|                name|nationality|number|                 url|\n",
      "+----+----------+--------+----------+--------------------+-----------+------+--------------------+\n",
      "| HAM|1985-01-07|       1|  hamilton|   {Lewis, Hamilton}|    British|    44|http://en.wikiped...|\n",
      "| HEI|1977-05-10|       2|  heidfeld|    {Nick, Heidfeld}|     German|    \\N|http://en.wikiped...|\n",
      "| ROS|1985-06-27|       3|   rosberg|     {Nico, Rosberg}|     German|     6|http://en.wikiped...|\n",
      "| ALO|1981-07-29|       4|    alonso|  {Fernando, Alonso}|    Spanish|    14|http://en.wikiped...|\n",
      "| KOV|1981-10-19|       5|kovalainen|{Heikki, Kovalainen}|    Finnish|    \\N|http://en.wikiped...|\n",
      "| NAK|1985-01-11|       6|  nakajima|  {Kazuki, Nakajima}|   Japanese|    \\N|http://en.wikiped...|\n",
      "| BOU|1979-02-28|       7|  bourdais|{Sébastien, Bourd...|     French|    \\N|http://en.wikiped...|\n",
      "| RAI|1979-10-17|       8| raikkonen|   {Kimi, Räikkönen}|    Finnish|     7|http://en.wikiped...|\n",
      "| KUB|1984-12-07|       9|    kubica|    {Robert, Kubica}|     Polish|    88|http://en.wikiped...|\n",
      "| GLO|1982-03-18|      10|     glock|       {Timo, Glock}|     German|    \\N|http://en.wikiped...|\n",
      "| SAT|1977-01-28|      11|      sato|      {Takuma, Sato}|   Japanese|    \\N|http://en.wikiped...|\n",
      "| PIQ|1985-07-25|      12| piquet_jr|{Nelson, Piquet Jr.}|  Brazilian|    \\N|http://en.wikiped...|\n",
      "| MAS|1981-04-25|      13|     massa|     {Felipe, Massa}|  Brazilian|    19|http://en.wikiped...|\n",
      "| COU|1971-03-27|      14| coulthard|  {David, Coulthard}|    British|    \\N|http://en.wikiped...|\n",
      "| TRU|1974-07-13|      15|    trulli|     {Jarno, Trulli}|    Italian|    \\N|http://en.wikiped...|\n",
      "| SUT|1983-01-11|      16|     sutil|     {Adrian, Sutil}|     German|    99|http://en.wikiped...|\n",
      "| WEB|1976-08-27|      17|    webber|      {Mark, Webber}| Australian|    \\N|http://en.wikiped...|\n",
      "| BUT|1980-01-19|      18|    button|    {Jenson, Button}|    British|    22|http://en.wikiped...|\n",
      "| DAV|1979-04-18|      19|  davidson| {Anthony, Davidson}|    British|    \\N|http://en.wikiped...|\n",
      "| VET|1987-07-03|      20|    vettel| {Sebastian, Vettel}|     German|     5|http://en.wikiped...|\n",
      "+----+----------+--------+----------+--------------------+-----------+------+--------------------+\n",
      "only showing top 20 rows\n",
      "\n"
     ]
    }
   ],
   "source": [
    "df_json.show()"
   ]
  },
  {
   "cell_type": "markdown",
   "metadata": {},
   "source": [
    "### SCHEMA - DDL and StructType()"
   ]
  },
  {
   "cell_type": "markdown",
   "metadata": {},
   "source": [
    "The below schema is what the schema we get if we infer schema to TRUE"
   ]
  },
  {
   "cell_type": "code",
   "execution_count": 43,
   "metadata": {},
   "outputs": [
    {
     "name": "stdout",
     "output_type": "stream",
     "text": [
      "root\n",
      " |-- Item_Identifier: string (nullable = true)\n",
      " |-- Item_Weight: double (nullable = true)\n",
      " |-- Item_Fat_Content: string (nullable = true)\n",
      " |-- Item_Visibility: double (nullable = true)\n",
      " |-- Item_Type: string (nullable = true)\n",
      " |-- Item_MRP: double (nullable = true)\n",
      " |-- Outlet_Identifier: string (nullable = true)\n",
      " |-- Outlet_Establishment_Year: integer (nullable = true)\n",
      " |-- Outlet_Size: string (nullable = true)\n",
      " |-- Outlet_Location_Type: string (nullable = true)\n",
      " |-- Outlet_Type: string (nullable = true)\n",
      " |-- Item_Outlet_Sales: double (nullable = true)\n",
      "\n"
     ]
    }
   ],
   "source": [
    "df.printSchema()"
   ]
  },
  {
   "cell_type": "markdown",
   "metadata": {},
   "source": [
    "### Schema Definition"
   ]
  },
  {
   "cell_type": "code",
   "execution_count": 22,
   "metadata": {},
   "outputs": [],
   "source": [
    "my_ddl_schema='''\n",
    "            Item_Identifier STRING,\n",
    "            Item_Weight STRING,\n",
    "            Itemp_Fat_Content STRING,\n",
    "            Item_Visibility DOUBLE,\n",
    "            Item_Type STRING,\n",
    "            Item_MRP DOUBLE,\n",
    "            Outlet_Identifier STRING,\n",
    "            Outlet_Establishment_Year INT,\n",
    "            Outlet_Size String,\n",
    "            Outlet_Location_Type STRING,\n",
    "            Outlet_Type STRING,\n",
    "            Item_Outlet_Sales DOUBLE\n",
    "            '''"
   ]
  },
  {
   "cell_type": "code",
   "execution_count": 24,
   "metadata": {},
   "outputs": [],
   "source": [
    "df=spark.read.format('csv')\\\n",
    "                .schema(my_ddl_schema)\\\n",
    "                .option('header',True)\\\n",
    "                .load('BigMart_Sales.csv')"
   ]
  },
  {
   "cell_type": "code",
   "execution_count": 27,
   "metadata": {},
   "outputs": [
    {
     "name": "stdout",
     "output_type": "stream",
     "text": [
      "+---------------+-----------+-----------------+---------------+--------------------+--------+-----------------+-------------------------+-----------+--------------------+-----------------+-----------------+\n",
      "|Item_Identifier|Item_Weight|Itemp_Fat_Content|Item_Visibility|           Item_Type|Item_MRP|Outlet_Identifier|Outlet_Establishment_Year|Outlet_Size|Outlet_Location_Type|      Outlet_Type|Item_Outlet_Sales|\n",
      "+---------------+-----------+-----------------+---------------+--------------------+--------+-----------------+-------------------------+-----------+--------------------+-----------------+-----------------+\n",
      "|          FDA15|        9.3|          Low Fat|    0.016047301|               Dairy|249.8092|           OUT049|                     1999|     Medium|              Tier 1|Supermarket Type1|         3735.138|\n",
      "|          DRC01|       5.92|          Regular|    0.019278216|         Soft Drinks| 48.2692|           OUT018|                     2009|     Medium|              Tier 3|Supermarket Type2|         443.4228|\n",
      "|          FDN15|       17.5|          Low Fat|    0.016760075|                Meat| 141.618|           OUT049|                     1999|     Medium|              Tier 1|Supermarket Type1|          2097.27|\n",
      "|          FDX07|       19.2|          Regular|            0.0|Fruits and Vegeta...| 182.095|           OUT010|                     1998|       NULL|              Tier 3|    Grocery Store|           732.38|\n",
      "|          NCD19|       8.93|          Low Fat|            0.0|           Household| 53.8614|           OUT013|                     1987|       High|              Tier 3|Supermarket Type1|         994.7052|\n",
      "|          FDP36|     10.395|          Regular|            0.0|        Baking Goods| 51.4008|           OUT018|                     2009|     Medium|              Tier 3|Supermarket Type2|         556.6088|\n",
      "|          FDO10|      13.65|          Regular|    0.012741089|         Snack Foods| 57.6588|           OUT013|                     1987|       High|              Tier 3|Supermarket Type1|         343.5528|\n",
      "|          FDP10|       NULL|          Low Fat|    0.127469857|         Snack Foods|107.7622|           OUT027|                     1985|     Medium|              Tier 3|Supermarket Type3|        4022.7636|\n",
      "|          FDH17|       16.2|          Regular|    0.016687114|        Frozen Foods| 96.9726|           OUT045|                     2002|       NULL|              Tier 2|Supermarket Type1|        1076.5986|\n",
      "|          FDU28|       19.2|          Regular|     0.09444959|        Frozen Foods|187.8214|           OUT017|                     2007|       NULL|              Tier 2|Supermarket Type1|         4710.535|\n",
      "|          FDY07|       11.8|          Low Fat|            0.0|Fruits and Vegeta...| 45.5402|           OUT049|                     1999|     Medium|              Tier 1|Supermarket Type1|        1516.0266|\n",
      "|          FDA03|       18.5|          Regular|    0.045463773|               Dairy|144.1102|           OUT046|                     1997|      Small|              Tier 1|Supermarket Type1|         2187.153|\n",
      "|          FDX32|       15.1|          Regular|      0.1000135|Fruits and Vegeta...|145.4786|           OUT049|                     1999|     Medium|              Tier 1|Supermarket Type1|        1589.2646|\n",
      "|          FDS46|       17.6|          Regular|    0.047257328|         Snack Foods|119.6782|           OUT046|                     1997|      Small|              Tier 1|Supermarket Type1|        2145.2076|\n",
      "|          FDF32|      16.35|          Low Fat|      0.0680243|Fruits and Vegeta...|196.4426|           OUT013|                     1987|       High|              Tier 3|Supermarket Type1|         1977.426|\n",
      "|          FDP49|          9|          Regular|    0.069088961|           Breakfast| 56.3614|           OUT046|                     1997|      Small|              Tier 1|Supermarket Type1|        1547.3192|\n",
      "|          NCB42|       11.8|          Low Fat|    0.008596051|  Health and Hygiene|115.3492|           OUT018|                     2009|     Medium|              Tier 3|Supermarket Type2|        1621.8888|\n",
      "|          FDP49|          9|          Regular|    0.069196376|           Breakfast| 54.3614|           OUT049|                     1999|     Medium|              Tier 1|Supermarket Type1|         718.3982|\n",
      "|          DRI11|       NULL|          Low Fat|    0.034237682|         Hard Drinks|113.2834|           OUT027|                     1985|     Medium|              Tier 3|Supermarket Type3|         2303.668|\n",
      "|          FDU02|      13.35|          Low Fat|     0.10249212|               Dairy|230.5352|           OUT035|                     2004|      Small|              Tier 2|Supermarket Type1|        2748.4224|\n",
      "+---------------+-----------+-----------------+---------------+--------------------+--------+-----------------+-------------------------+-----------+--------------------+-----------------+-----------------+\n",
      "only showing top 20 rows\n",
      "\n",
      "root\n",
      " |-- Item_Identifier: string (nullable = true)\n",
      " |-- Item_Weight: string (nullable = true)\n",
      " |-- Itemp_Fat_Content: string (nullable = true)\n",
      " |-- Item_Visibility: double (nullable = true)\n",
      " |-- Item_Type: string (nullable = true)\n",
      " |-- Item_MRP: double (nullable = true)\n",
      " |-- Outlet_Identifier: string (nullable = true)\n",
      " |-- Outlet_Establishment_Year: integer (nullable = true)\n",
      " |-- Outlet_Size: string (nullable = true)\n",
      " |-- Outlet_Location_Type: string (nullable = true)\n",
      " |-- Outlet_Type: string (nullable = true)\n",
      " |-- Item_Outlet_Sales: double (nullable = true)\n",
      "\n"
     ]
    }
   ],
   "source": [
    "df.show()\n",
    "df.printSchema()"
   ]
  },
  {
   "cell_type": "markdown",
   "metadata": {},
   "source": [
    "### StructType() Schema"
   ]
  },
  {
   "cell_type": "code",
   "execution_count": 3,
   "metadata": {},
   "outputs": [],
   "source": [
    "from pyspark.sql.types import *\n",
    "from pyspark.sql.functions import *"
   ]
  },
  {
   "cell_type": "code",
   "execution_count": 31,
   "metadata": {},
   "outputs": [],
   "source": [
    "struct_schema=StructType([\n",
    "    StructField('Item_Identifier',StringType(),True),\n",
    "    StructField('Item_Weight',StringType(),True),\n",
    "    StructField('Itemp_Fat_Content',StringType(),True),\n",
    "    StructField('Item_Visibility',StringType(),True),\n",
    "    StructField('Item_Type',StringType(),True),\n",
    "    StructField('Item_MRP',StringType(),True),\n",
    "    StructField('Outlet_Identifier',StringType(),True),\n",
    "    StructField('Outlet_Establishment',StringType(),True),\n",
    "    StructField('Outlet_Size',StringType(),True),\n",
    "    StructField('Outlet_Location_Type',StringType(),True),\n",
    "    StructField('Outlet_Type',StringType(),True),\n",
    "    StructField('Item_Outlet_Sales',StringType(),True)\n",
    "])"
   ]
  },
  {
   "cell_type": "code",
   "execution_count": 32,
   "metadata": {},
   "outputs": [],
   "source": [
    "df=spark.read.format('csv')\\\n",
    "            .schema(struct_schema)\\\n",
    "            .option('Header',True)\\\n",
    "            .load('BigMart_Sales.csv')"
   ]
  },
  {
   "cell_type": "code",
   "execution_count": 35,
   "metadata": {},
   "outputs": [
    {
     "name": "stdout",
     "output_type": "stream",
     "text": [
      "root\n",
      " |-- Item_Identifier: string (nullable = true)\n",
      " |-- Item_Weight: double (nullable = true)\n",
      " |-- Item_Fat_Content: string (nullable = true)\n",
      " |-- Item_Visibility: double (nullable = true)\n",
      " |-- Item_Type: string (nullable = true)\n",
      " |-- Item_MRP: double (nullable = true)\n",
      " |-- Outlet_Identifier: string (nullable = true)\n",
      " |-- Outlet_Establishment_Year: integer (nullable = true)\n",
      " |-- Outlet_Size: string (nullable = true)\n",
      " |-- Outlet_Location_Type: string (nullable = true)\n",
      " |-- Outlet_Type: string (nullable = true)\n",
      " |-- Item_Outlet_Sales: double (nullable = true)\n",
      "\n"
     ]
    }
   ],
   "source": [
    "df.printSchema()"
   ]
  },
  {
   "cell_type": "markdown",
   "metadata": {},
   "source": [
    "## SELECT - To select required columns"
   ]
  },
  {
   "cell_type": "code",
   "execution_count": 39,
   "metadata": {},
   "outputs": [
    {
     "name": "stdout",
     "output_type": "stream",
     "text": [
      "+---------------+-----------+----------------+\n",
      "|Item_Identifier|Item_Weight|Item_Fat_Content|\n",
      "+---------------+-----------+----------------+\n",
      "|          FDA15|        9.3|         Low Fat|\n",
      "|          DRC01|       5.92|         Regular|\n",
      "|          FDN15|       17.5|         Low Fat|\n",
      "|          FDX07|       19.2|         Regular|\n",
      "|          NCD19|       8.93|         Low Fat|\n",
      "|          FDP36|     10.395|         Regular|\n",
      "|          FDO10|      13.65|         Regular|\n",
      "|          FDP10|       NULL|         Low Fat|\n",
      "|          FDH17|       16.2|         Regular|\n",
      "|          FDU28|       19.2|         Regular|\n",
      "|          FDY07|       11.8|         Low Fat|\n",
      "|          FDA03|       18.5|         Regular|\n",
      "|          FDX32|       15.1|         Regular|\n",
      "|          FDS46|       17.6|         Regular|\n",
      "|          FDF32|      16.35|         Low Fat|\n",
      "|          FDP49|        9.0|         Regular|\n",
      "|          NCB42|       11.8|         Low Fat|\n",
      "|          FDP49|        9.0|         Regular|\n",
      "|          DRI11|       NULL|         Low Fat|\n",
      "|          FDU02|      13.35|         Low Fat|\n",
      "+---------------+-----------+----------------+\n",
      "only showing top 20 rows\n",
      "\n"
     ]
    }
   ],
   "source": [
    "df_select=df.select('Item_Identifier','Item_Weight','Item_Fat_Content')\n",
    "df_select.show()"
   ]
  },
  {
   "cell_type": "markdown",
   "metadata": {},
   "source": [
    "### COL"
   ]
  },
  {
   "cell_type": "code",
   "execution_count": 42,
   "metadata": {},
   "outputs": [
    {
     "name": "stdout",
     "output_type": "stream",
     "text": [
      "+---------------+-----------+----------------+\n",
      "|Item_Identifier|Item_Weight|Item_Fat_Content|\n",
      "+---------------+-----------+----------------+\n",
      "|          FDA15|        9.3|         Low Fat|\n",
      "|          DRC01|       5.92|         Regular|\n",
      "|          FDN15|       17.5|         Low Fat|\n",
      "|          FDX07|       19.2|         Regular|\n",
      "|          NCD19|       8.93|         Low Fat|\n",
      "|          FDP36|     10.395|         Regular|\n",
      "|          FDO10|      13.65|         Regular|\n",
      "|          FDP10|       NULL|         Low Fat|\n",
      "|          FDH17|       16.2|         Regular|\n",
      "|          FDU28|       19.2|         Regular|\n",
      "|          FDY07|       11.8|         Low Fat|\n",
      "|          FDA03|       18.5|         Regular|\n",
      "|          FDX32|       15.1|         Regular|\n",
      "|          FDS46|       17.6|         Regular|\n",
      "|          FDF32|      16.35|         Low Fat|\n",
      "|          FDP49|        9.0|         Regular|\n",
      "|          NCB42|       11.8|         Low Fat|\n",
      "|          FDP49|        9.0|         Regular|\n",
      "|          DRI11|       NULL|         Low Fat|\n",
      "|          FDU02|      13.35|         Low Fat|\n",
      "+---------------+-----------+----------------+\n",
      "only showing top 20 rows\n",
      "\n"
     ]
    }
   ],
   "source": [
    "df.select(col('Item_Identifier'),col('Item_Weight'),col('Item_Fat_Content')).show()"
   ]
  },
  {
   "cell_type": "markdown",
   "metadata": {},
   "source": [
    "### Alias - col is mandatory for alias"
   ]
  },
  {
   "cell_type": "code",
   "execution_count": 45,
   "metadata": {},
   "outputs": [
    {
     "name": "stdout",
     "output_type": "stream",
     "text": [
      "+-------+\n",
      "|Item_ID|\n",
      "+-------+\n",
      "|  FDA15|\n",
      "|  DRC01|\n",
      "|  FDN15|\n",
      "|  FDX07|\n",
      "|  NCD19|\n",
      "|  FDP36|\n",
      "|  FDO10|\n",
      "|  FDP10|\n",
      "|  FDH17|\n",
      "|  FDU28|\n",
      "|  FDY07|\n",
      "|  FDA03|\n",
      "|  FDX32|\n",
      "|  FDS46|\n",
      "|  FDF32|\n",
      "|  FDP49|\n",
      "|  NCB42|\n",
      "|  FDP49|\n",
      "|  DRI11|\n",
      "|  FDU02|\n",
      "+-------+\n",
      "only showing top 20 rows\n",
      "\n"
     ]
    }
   ],
   "source": [
    "df.select(col('Item_Identifier')\\\n",
    "          .alias('Item_ID'))\\\n",
    "          .show()"
   ]
  },
  {
   "cell_type": "markdown",
   "metadata": {},
   "source": [
    "### FILTER/WHERE"
   ]
  },
  {
   "cell_type": "markdown",
   "metadata": {},
   "source": [
    "1. Filter data with fat content=Regular\n",
    "2. Slice the data with item type=Soft Drinks and weight<10\n",
    "3. Fetch the data with Tier in (Tier1 or Tier2) and outler size is null"
   ]
  },
  {
   "cell_type": "code",
   "execution_count": 5,
   "metadata": {},
   "outputs": [
    {
     "name": "stdout",
     "output_type": "stream",
     "text": [
      "+---------------+-----------+----------------+---------------+--------------------+--------+-----------------+-------------------------+-----------+--------------------+-----------------+-----------------+\n",
      "|Item_Identifier|Item_Weight|Item_Fat_Content|Item_Visibility|           Item_Type|Item_MRP|Outlet_Identifier|Outlet_Establishment_Year|Outlet_Size|Outlet_Location_Type|      Outlet_Type|Item_Outlet_Sales|\n",
      "+---------------+-----------+----------------+---------------+--------------------+--------+-----------------+-------------------------+-----------+--------------------+-----------------+-----------------+\n",
      "|          FDA15|        9.3|         Low Fat|    0.016047301|               Dairy|249.8092|           OUT049|                     1999|     Medium|              Tier 1|Supermarket Type1|         3735.138|\n",
      "|          DRC01|       5.92|         Regular|    0.019278216|         Soft Drinks| 48.2692|           OUT018|                     2009|     Medium|              Tier 3|Supermarket Type2|         443.4228|\n",
      "|          FDN15|       17.5|         Low Fat|    0.016760075|                Meat| 141.618|           OUT049|                     1999|     Medium|              Tier 1|Supermarket Type1|          2097.27|\n",
      "|          FDX07|       19.2|         Regular|            0.0|Fruits and Vegeta...| 182.095|           OUT010|                     1998|       NULL|              Tier 3|    Grocery Store|           732.38|\n",
      "|          NCD19|       8.93|         Low Fat|            0.0|           Household| 53.8614|           OUT013|                     1987|       High|              Tier 3|Supermarket Type1|         994.7052|\n",
      "|          FDP36|     10.395|         Regular|            0.0|        Baking Goods| 51.4008|           OUT018|                     2009|     Medium|              Tier 3|Supermarket Type2|         556.6088|\n",
      "|          FDO10|      13.65|         Regular|    0.012741089|         Snack Foods| 57.6588|           OUT013|                     1987|       High|              Tier 3|Supermarket Type1|         343.5528|\n",
      "|          FDP10|       NULL|         Low Fat|    0.127469857|         Snack Foods|107.7622|           OUT027|                     1985|     Medium|              Tier 3|Supermarket Type3|        4022.7636|\n",
      "|          FDH17|       16.2|         Regular|    0.016687114|        Frozen Foods| 96.9726|           OUT045|                     2002|       NULL|              Tier 2|Supermarket Type1|        1076.5986|\n",
      "|          FDU28|       19.2|         Regular|     0.09444959|        Frozen Foods|187.8214|           OUT017|                     2007|       NULL|              Tier 2|Supermarket Type1|         4710.535|\n",
      "|          FDY07|       11.8|         Low Fat|            0.0|Fruits and Vegeta...| 45.5402|           OUT049|                     1999|     Medium|              Tier 1|Supermarket Type1|        1516.0266|\n",
      "|          FDA03|       18.5|         Regular|    0.045463773|               Dairy|144.1102|           OUT046|                     1997|      Small|              Tier 1|Supermarket Type1|         2187.153|\n",
      "|          FDX32|       15.1|         Regular|      0.1000135|Fruits and Vegeta...|145.4786|           OUT049|                     1999|     Medium|              Tier 1|Supermarket Type1|        1589.2646|\n",
      "|          FDS46|       17.6|         Regular|    0.047257328|         Snack Foods|119.6782|           OUT046|                     1997|      Small|              Tier 1|Supermarket Type1|        2145.2076|\n",
      "|          FDF32|      16.35|         Low Fat|      0.0680243|Fruits and Vegeta...|196.4426|           OUT013|                     1987|       High|              Tier 3|Supermarket Type1|         1977.426|\n",
      "|          FDP49|        9.0|         Regular|    0.069088961|           Breakfast| 56.3614|           OUT046|                     1997|      Small|              Tier 1|Supermarket Type1|        1547.3192|\n",
      "|          NCB42|       11.8|         Low Fat|    0.008596051|  Health and Hygiene|115.3492|           OUT018|                     2009|     Medium|              Tier 3|Supermarket Type2|        1621.8888|\n",
      "|          FDP49|        9.0|         Regular|    0.069196376|           Breakfast| 54.3614|           OUT049|                     1999|     Medium|              Tier 1|Supermarket Type1|         718.3982|\n",
      "|          DRI11|       NULL|         Low Fat|    0.034237682|         Hard Drinks|113.2834|           OUT027|                     1985|     Medium|              Tier 3|Supermarket Type3|         2303.668|\n",
      "|          FDU02|      13.35|         Low Fat|     0.10249212|               Dairy|230.5352|           OUT035|                     2004|      Small|              Tier 2|Supermarket Type1|        2748.4224|\n",
      "+---------------+-----------+----------------+---------------+--------------------+--------+-----------------+-------------------------+-----------+--------------------+-----------------+-----------------+\n",
      "only showing top 20 rows\n",
      "\n"
     ]
    }
   ],
   "source": [
    "df.show()"
   ]
  },
  {
   "cell_type": "code",
   "execution_count": 8,
   "metadata": {},
   "outputs": [
    {
     "name": "stdout",
     "output_type": "stream",
     "text": [
      "+---------------+-----------+----------------+---------------+--------------------+--------+-----------------+-------------------------+-----------+--------------------+-----------------+-----------------+\n",
      "|Item_Identifier|Item_Weight|Item_Fat_Content|Item_Visibility|           Item_Type|Item_MRP|Outlet_Identifier|Outlet_Establishment_Year|Outlet_Size|Outlet_Location_Type|      Outlet_Type|Item_Outlet_Sales|\n",
      "+---------------+-----------+----------------+---------------+--------------------+--------+-----------------+-------------------------+-----------+--------------------+-----------------+-----------------+\n",
      "|          DRC01|       5.92|         Regular|    0.019278216|         Soft Drinks| 48.2692|           OUT018|                     2009|     Medium|              Tier 3|Supermarket Type2|         443.4228|\n",
      "|          FDX07|       19.2|         Regular|            0.0|Fruits and Vegeta...| 182.095|           OUT010|                     1998|       NULL|              Tier 3|    Grocery Store|           732.38|\n",
      "|          FDP36|     10.395|         Regular|            0.0|        Baking Goods| 51.4008|           OUT018|                     2009|     Medium|              Tier 3|Supermarket Type2|         556.6088|\n",
      "|          FDO10|      13.65|         Regular|    0.012741089|         Snack Foods| 57.6588|           OUT013|                     1987|       High|              Tier 3|Supermarket Type1|         343.5528|\n",
      "|          FDH17|       16.2|         Regular|    0.016687114|        Frozen Foods| 96.9726|           OUT045|                     2002|       NULL|              Tier 2|Supermarket Type1|        1076.5986|\n",
      "|          FDU28|       19.2|         Regular|     0.09444959|        Frozen Foods|187.8214|           OUT017|                     2007|       NULL|              Tier 2|Supermarket Type1|         4710.535|\n",
      "|          FDA03|       18.5|         Regular|    0.045463773|               Dairy|144.1102|           OUT046|                     1997|      Small|              Tier 1|Supermarket Type1|         2187.153|\n",
      "|          FDX32|       15.1|         Regular|      0.1000135|Fruits and Vegeta...|145.4786|           OUT049|                     1999|     Medium|              Tier 1|Supermarket Type1|        1589.2646|\n",
      "|          FDS46|       17.6|         Regular|    0.047257328|         Snack Foods|119.6782|           OUT046|                     1997|      Small|              Tier 1|Supermarket Type1|        2145.2076|\n",
      "|          FDP49|        9.0|         Regular|    0.069088961|           Breakfast| 56.3614|           OUT046|                     1997|      Small|              Tier 1|Supermarket Type1|        1547.3192|\n",
      "|          FDP49|        9.0|         Regular|    0.069196376|           Breakfast| 54.3614|           OUT049|                     1999|     Medium|              Tier 1|Supermarket Type1|         718.3982|\n",
      "|          FDN22|      18.85|         Regular|    0.138190277|         Snack Foods|250.8724|           OUT013|                     1987|       High|              Tier 3|Supermarket Type1|         3775.086|\n",
      "|          FDW12|       NULL|         Regular|    0.035399923|        Baking Goods|144.5444|           OUT027|                     1985|     Medium|              Tier 3|Supermarket Type3|        4064.0432|\n",
      "|          FDR28|      13.85|         Regular|    0.025896485|        Frozen Foods| 165.021|           OUT046|                     1997|      Small|              Tier 1|Supermarket Type1|         4078.025|\n",
      "|          FDV10|      7.645|         Regular|    0.066693437|         Snack Foods| 42.3112|           OUT035|                     2004|      Small|              Tier 2|Supermarket Type1|          1065.28|\n",
      "|          FDE51|      5.925|         Regular|    0.161466534|               Dairy| 45.5086|           OUT010|                     1998|       NULL|              Tier 3|    Grocery Store|         178.4344|\n",
      "|          FDC14|       NULL|         Regular|    0.072221801|              Canned| 43.6454|           OUT019|                     1985|      Small|              Tier 1|    Grocery Store|         125.8362|\n",
      "|          FDV20|       NULL|         Regular|    0.059511812|Fruits and Vegeta...|128.0678|           OUT027|                     1985|     Medium|              Tier 3|Supermarket Type3|        2797.6916|\n",
      "|          DRZ11|       8.85|         Regular|    0.113123893|         Soft Drinks|122.5388|           OUT018|                     2009|     Medium|              Tier 3|Supermarket Type2|        1609.9044|\n",
      "|          FDX10|       NULL|         Regular|    0.123111453|         Snack Foods| 36.9874|           OUT027|                     1985|     Medium|              Tier 3|Supermarket Type3|         388.1614|\n",
      "+---------------+-----------+----------------+---------------+--------------------+--------+-----------------+-------------------------+-----------+--------------------+-----------------+-----------------+\n",
      "only showing top 20 rows\n",
      "\n"
     ]
    }
   ],
   "source": [
    "#scenario 1\n",
    "\n",
    "df.filter(col('Item_Fat_Content')=='Regular').show()"
   ]
  },
  {
   "cell_type": "code",
   "execution_count": null,
   "metadata": {},
   "outputs": [],
   "source": [
    "#Scenario-2\n",
    "df.filter( (col('Item_Type')=='Soft Drinks') & \\\n",
    "            (col('Item_Weight')<10))\\\n",
    "            .show()"
   ]
  },
  {
   "cell_type": "code",
   "execution_count": null,
   "metadata": {},
   "outputs": [
    {
     "name": "stdout",
     "output_type": "stream",
     "text": [
      "+---------------+-----------+----------------+---------------+--------------------+--------+-----------------+-------------------------+-----------+--------------------+-----------------+-----------------+\n",
      "|Item_Identifier|Item_Weight|Item_Fat_Content|Item_Visibility|           Item_Type|Item_MRP|Outlet_Identifier|Outlet_Establishment_Year|Outlet_Size|Outlet_Location_Type|      Outlet_Type|Item_Outlet_Sales|\n",
      "+---------------+-----------+----------------+---------------+--------------------+--------+-----------------+-------------------------+-----------+--------------------+-----------------+-----------------+\n",
      "|          FDH17|       16.2|         Regular|    0.016687114|        Frozen Foods| 96.9726|           OUT045|                     2002|       NULL|              Tier 2|Supermarket Type1|        1076.5986|\n",
      "|          FDU28|       19.2|         Regular|     0.09444959|        Frozen Foods|187.8214|           OUT017|                     2007|       NULL|              Tier 2|Supermarket Type1|         4710.535|\n",
      "|          NCD06|       13.0|         Low Fat|    0.099887103|           Household|  45.906|           OUT017|                     2007|       NULL|              Tier 2|Supermarket Type1|          838.908|\n",
      "|          FDO23|      17.85|         Low Fat|            0.0|              Breads| 93.1436|           OUT045|                     2002|       NULL|              Tier 2|Supermarket Type1|        2174.5028|\n",
      "|          NCP05|       19.6|         Low Fat|            0.0|  Health and Hygiene|153.3024|           OUT045|                     2002|       NULL|              Tier 2|Supermarket Type1|        2428.8384|\n",
      "|          FDV49|       10.0|         Low Fat|    0.025879577|              Canned|265.2226|           OUT045|                     2002|       NULL|              Tier 2|Supermarket Type1|        5815.0972|\n",
      "|          FDA43|     10.895|         Low Fat|    0.065041581|Fruits and Vegeta...|196.3794|           OUT017|                     2007|       NULL|              Tier 2|Supermarket Type1|        3121.2704|\n",
      "|          NCP18|      12.15|         Low Fat|    0.028760013|           Household|151.4708|           OUT017|                     2007|       NULL|              Tier 2|Supermarket Type1|        4815.0656|\n",
      "|          NCX54|      9.195|         Low Fat|    0.048157338|           Household|106.1622|           OUT045|                     2002|       NULL|              Tier 2|Supermarket Type1|         2117.244|\n",
      "|          FDV27|       7.97|         Regular|    0.040071131|                Meat| 87.3514|           OUT045|                     2002|       NULL|              Tier 2|Supermarket Type1|        1062.6168|\n",
      "|          FDZ03|      13.65|         Regular|    0.078946455|               Dairy| 186.024|           OUT045|                     2002|       NULL|              Tier 2|Supermarket Type1|         1118.544|\n",
      "|          DRH37|       17.6|         Low Fat|    0.041700756|         Soft Drinks|164.8526|           OUT045|                     2002|       NULL|              Tier 2|Supermarket Type1|        2302.3364|\n",
      "|          FDH35|      18.25|         Low Fat|            0.0|       Starchy Foods|164.7526|           OUT045|                     2002|       NULL|              Tier 2|Supermarket Type1|        4604.6728|\n",
      "|          FDG02|      7.855|         Low Fat|    0.011324862|              Canned|189.6188|           OUT017|                     2007|       NULL|              Tier 2|Supermarket Type1|        2285.0256|\n",
      "|          FDL04|       19.0|         Low Fat|    0.112556507|        Frozen Foods|104.9622|           OUT017|                     2007|       NULL|              Tier 2|Supermarket Type1|         1587.933|\n",
      "|          FDV25|      5.905|         Low Fat|            0.0|              Canned|222.5456|           OUT045|                     2002|       NULL|              Tier 2|Supermarket Type1|        5305.0944|\n",
      "|          FDG20|       15.5|         Regular|     0.12639886|Fruits and Vegeta...|177.0028|           OUT017|                     2007|       NULL|              Tier 2|Supermarket Type1|        2479.4392|\n",
      "|          DRI25|       19.6|         Low Fat|    0.033970195|         Soft Drinks| 55.1614|           OUT045|                     2002|       NULL|              Tier 2|Supermarket Type1|         1381.535|\n",
      "|          FDT28|       13.3|         Low Fat|    0.063695084|        Frozen Foods|151.0708|           OUT045|                     2002|       NULL|              Tier 2|Supermarket Type1|        1805.6496|\n",
      "|          FDG12|      6.635|         Regular|            0.0|        Baking Goods|121.3098|           OUT045|                     2002|       NULL|              Tier 2|Supermarket Type1|        2530.7058|\n",
      "+---------------+-----------+----------------+---------------+--------------------+--------+-----------------+-------------------------+-----------+--------------------+-----------------+-----------------+\n",
      "only showing top 20 rows\n",
      "\n"
     ]
    }
   ],
   "source": [
    "#Scenario-3\n",
    "df.filter(\n",
    "    (col('Outlet_Size').isNull()) &\n",
    "    (col('Outlet_Location_Type').isin('Tier 1','Tier 2'))\n",
    ").show()"
   ]
  },
  {
   "cell_type": "markdown",
   "metadata": {},
   "source": [
    "### withColumnRenamed"
   ]
  },
  {
   "cell_type": "code",
   "execution_count": 16,
   "metadata": {},
   "outputs": [
    {
     "name": "stdout",
     "output_type": "stream",
     "text": [
      "+---------------+-------+----------------+---------------+--------------------+--------+-----------------+-------------------------+-----------+--------------------+-----------------+-----------------+\n",
      "|Item_Identifier|Item_Wt|Item_Fat_Content|Item_Visibility|           Item_Type|Item_MRP|Outlet_Identifier|Outlet_Establishment_Year|Outlet_Size|Outlet_Location_Type|      Outlet_Type|Item_Outlet_Sales|\n",
      "+---------------+-------+----------------+---------------+--------------------+--------+-----------------+-------------------------+-----------+--------------------+-----------------+-----------------+\n",
      "|          FDA15|    9.3|         Low Fat|    0.016047301|               Dairy|249.8092|           OUT049|                     1999|     Medium|              Tier 1|Supermarket Type1|         3735.138|\n",
      "|          DRC01|   5.92|         Regular|    0.019278216|         Soft Drinks| 48.2692|           OUT018|                     2009|     Medium|              Tier 3|Supermarket Type2|         443.4228|\n",
      "|          FDN15|   17.5|         Low Fat|    0.016760075|                Meat| 141.618|           OUT049|                     1999|     Medium|              Tier 1|Supermarket Type1|          2097.27|\n",
      "|          FDX07|   19.2|         Regular|            0.0|Fruits and Vegeta...| 182.095|           OUT010|                     1998|       NULL|              Tier 3|    Grocery Store|           732.38|\n",
      "|          NCD19|   8.93|         Low Fat|            0.0|           Household| 53.8614|           OUT013|                     1987|       High|              Tier 3|Supermarket Type1|         994.7052|\n",
      "|          FDP36| 10.395|         Regular|            0.0|        Baking Goods| 51.4008|           OUT018|                     2009|     Medium|              Tier 3|Supermarket Type2|         556.6088|\n",
      "|          FDO10|  13.65|         Regular|    0.012741089|         Snack Foods| 57.6588|           OUT013|                     1987|       High|              Tier 3|Supermarket Type1|         343.5528|\n",
      "|          FDP10|   NULL|         Low Fat|    0.127469857|         Snack Foods|107.7622|           OUT027|                     1985|     Medium|              Tier 3|Supermarket Type3|        4022.7636|\n",
      "|          FDH17|   16.2|         Regular|    0.016687114|        Frozen Foods| 96.9726|           OUT045|                     2002|       NULL|              Tier 2|Supermarket Type1|        1076.5986|\n",
      "|          FDU28|   19.2|         Regular|     0.09444959|        Frozen Foods|187.8214|           OUT017|                     2007|       NULL|              Tier 2|Supermarket Type1|         4710.535|\n",
      "|          FDY07|   11.8|         Low Fat|            0.0|Fruits and Vegeta...| 45.5402|           OUT049|                     1999|     Medium|              Tier 1|Supermarket Type1|        1516.0266|\n",
      "|          FDA03|   18.5|         Regular|    0.045463773|               Dairy|144.1102|           OUT046|                     1997|      Small|              Tier 1|Supermarket Type1|         2187.153|\n",
      "|          FDX32|   15.1|         Regular|      0.1000135|Fruits and Vegeta...|145.4786|           OUT049|                     1999|     Medium|              Tier 1|Supermarket Type1|        1589.2646|\n",
      "|          FDS46|   17.6|         Regular|    0.047257328|         Snack Foods|119.6782|           OUT046|                     1997|      Small|              Tier 1|Supermarket Type1|        2145.2076|\n",
      "|          FDF32|  16.35|         Low Fat|      0.0680243|Fruits and Vegeta...|196.4426|           OUT013|                     1987|       High|              Tier 3|Supermarket Type1|         1977.426|\n",
      "|          FDP49|    9.0|         Regular|    0.069088961|           Breakfast| 56.3614|           OUT046|                     1997|      Small|              Tier 1|Supermarket Type1|        1547.3192|\n",
      "|          NCB42|   11.8|         Low Fat|    0.008596051|  Health and Hygiene|115.3492|           OUT018|                     2009|     Medium|              Tier 3|Supermarket Type2|        1621.8888|\n",
      "|          FDP49|    9.0|         Regular|    0.069196376|           Breakfast| 54.3614|           OUT049|                     1999|     Medium|              Tier 1|Supermarket Type1|         718.3982|\n",
      "|          DRI11|   NULL|         Low Fat|    0.034237682|         Hard Drinks|113.2834|           OUT027|                     1985|     Medium|              Tier 3|Supermarket Type3|         2303.668|\n",
      "|          FDU02|  13.35|         Low Fat|     0.10249212|               Dairy|230.5352|           OUT035|                     2004|      Small|              Tier 2|Supermarket Type1|        2748.4224|\n",
      "+---------------+-------+----------------+---------------+--------------------+--------+-----------------+-------------------------+-----------+--------------------+-----------------+-----------------+\n",
      "only showing top 20 rows\n",
      "\n"
     ]
    }
   ],
   "source": [
    "df.withColumnRenamed('Item_Weight','Item_Wt').show()"
   ]
  },
  {
   "cell_type": "markdown",
   "metadata": {},
   "source": [
    "### withColumns"
   ]
  },
  {
   "cell_type": "markdown",
   "metadata": {},
   "source": [
    "1. Add New Column\n",
    "2. Modify Existing Column"
   ]
  },
  {
   "cell_type": "code",
   "execution_count": 19,
   "metadata": {},
   "outputs": [
    {
     "name": "stdout",
     "output_type": "stream",
     "text": [
      "+---------------+-----------+----------------+---------------+--------------------+--------+-----------------+-------------------------+-----------+--------------------+-----------------+-----------------+----+\n",
      "|Item_Identifier|Item_Weight|Item_Fat_Content|Item_Visibility|           Item_Type|Item_MRP|Outlet_Identifier|Outlet_Establishment_Year|Outlet_Size|Outlet_Location_Type|      Outlet_Type|Item_Outlet_Sales|flag|\n",
      "+---------------+-----------+----------------+---------------+--------------------+--------+-----------------+-------------------------+-----------+--------------------+-----------------+-----------------+----+\n",
      "|          FDA15|        9.3|         Low Fat|    0.016047301|               Dairy|249.8092|           OUT049|                     1999|     Medium|              Tier 1|Supermarket Type1|         3735.138| new|\n",
      "|          DRC01|       5.92|         Regular|    0.019278216|         Soft Drinks| 48.2692|           OUT018|                     2009|     Medium|              Tier 3|Supermarket Type2|         443.4228| new|\n",
      "|          FDN15|       17.5|         Low Fat|    0.016760075|                Meat| 141.618|           OUT049|                     1999|     Medium|              Tier 1|Supermarket Type1|          2097.27| new|\n",
      "|          FDX07|       19.2|         Regular|            0.0|Fruits and Vegeta...| 182.095|           OUT010|                     1998|       NULL|              Tier 3|    Grocery Store|           732.38| new|\n",
      "|          NCD19|       8.93|         Low Fat|            0.0|           Household| 53.8614|           OUT013|                     1987|       High|              Tier 3|Supermarket Type1|         994.7052| new|\n",
      "|          FDP36|     10.395|         Regular|            0.0|        Baking Goods| 51.4008|           OUT018|                     2009|     Medium|              Tier 3|Supermarket Type2|         556.6088| new|\n",
      "|          FDO10|      13.65|         Regular|    0.012741089|         Snack Foods| 57.6588|           OUT013|                     1987|       High|              Tier 3|Supermarket Type1|         343.5528| new|\n",
      "|          FDP10|       NULL|         Low Fat|    0.127469857|         Snack Foods|107.7622|           OUT027|                     1985|     Medium|              Tier 3|Supermarket Type3|        4022.7636| new|\n",
      "|          FDH17|       16.2|         Regular|    0.016687114|        Frozen Foods| 96.9726|           OUT045|                     2002|       NULL|              Tier 2|Supermarket Type1|        1076.5986| new|\n",
      "|          FDU28|       19.2|         Regular|     0.09444959|        Frozen Foods|187.8214|           OUT017|                     2007|       NULL|              Tier 2|Supermarket Type1|         4710.535| new|\n",
      "|          FDY07|       11.8|         Low Fat|            0.0|Fruits and Vegeta...| 45.5402|           OUT049|                     1999|     Medium|              Tier 1|Supermarket Type1|        1516.0266| new|\n",
      "|          FDA03|       18.5|         Regular|    0.045463773|               Dairy|144.1102|           OUT046|                     1997|      Small|              Tier 1|Supermarket Type1|         2187.153| new|\n",
      "|          FDX32|       15.1|         Regular|      0.1000135|Fruits and Vegeta...|145.4786|           OUT049|                     1999|     Medium|              Tier 1|Supermarket Type1|        1589.2646| new|\n",
      "|          FDS46|       17.6|         Regular|    0.047257328|         Snack Foods|119.6782|           OUT046|                     1997|      Small|              Tier 1|Supermarket Type1|        2145.2076| new|\n",
      "|          FDF32|      16.35|         Low Fat|      0.0680243|Fruits and Vegeta...|196.4426|           OUT013|                     1987|       High|              Tier 3|Supermarket Type1|         1977.426| new|\n",
      "|          FDP49|        9.0|         Regular|    0.069088961|           Breakfast| 56.3614|           OUT046|                     1997|      Small|              Tier 1|Supermarket Type1|        1547.3192| new|\n",
      "|          NCB42|       11.8|         Low Fat|    0.008596051|  Health and Hygiene|115.3492|           OUT018|                     2009|     Medium|              Tier 3|Supermarket Type2|        1621.8888| new|\n",
      "|          FDP49|        9.0|         Regular|    0.069196376|           Breakfast| 54.3614|           OUT049|                     1999|     Medium|              Tier 1|Supermarket Type1|         718.3982| new|\n",
      "|          DRI11|       NULL|         Low Fat|    0.034237682|         Hard Drinks|113.2834|           OUT027|                     1985|     Medium|              Tier 3|Supermarket Type3|         2303.668| new|\n",
      "|          FDU02|      13.35|         Low Fat|     0.10249212|               Dairy|230.5352|           OUT035|                     2004|      Small|              Tier 2|Supermarket Type1|        2748.4224| new|\n",
      "+---------------+-----------+----------------+---------------+--------------------+--------+-----------------+-------------------------+-----------+--------------------+-----------------+-----------------+----+\n",
      "only showing top 20 rows\n",
      "\n"
     ]
    }
   ],
   "source": [
    "#Scenario 1\n",
    "\n",
    "df=df.withColumn('flag',lit(\"new\"))\n",
    "df.show()"
   ]
  },
  {
   "cell_type": "code",
   "execution_count": 20,
   "metadata": {},
   "outputs": [
    {
     "name": "stdout",
     "output_type": "stream",
     "text": [
      "+---------------+-----------+----------------+---------------+--------------------+--------+-----------------+-------------------------+-----------+--------------------+-----------------+-----------------+----+------------------+\n",
      "|Item_Identifier|Item_Weight|Item_Fat_Content|Item_Visibility|           Item_Type|Item_MRP|Outlet_Identifier|Outlet_Establishment_Year|Outlet_Size|Outlet_Location_Type|      Outlet_Type|Item_Outlet_Sales|flag|          multiply|\n",
      "+---------------+-----------+----------------+---------------+--------------------+--------+-----------------+-------------------------+-----------+--------------------+-----------------+-----------------+----+------------------+\n",
      "|          FDA15|        9.3|         Low Fat|    0.016047301|               Dairy|249.8092|           OUT049|                     1999|     Medium|              Tier 1|Supermarket Type1|         3735.138| new|2323.2255600000003|\n",
      "|          DRC01|       5.92|         Regular|    0.019278216|         Soft Drinks| 48.2692|           OUT018|                     2009|     Medium|              Tier 3|Supermarket Type2|         443.4228| new|285.75366399999996|\n",
      "|          FDN15|       17.5|         Low Fat|    0.016760075|                Meat| 141.618|           OUT049|                     1999|     Medium|              Tier 1|Supermarket Type1|          2097.27| new|          2478.315|\n",
      "|          FDX07|       19.2|         Regular|            0.0|Fruits and Vegeta...| 182.095|           OUT010|                     1998|       NULL|              Tier 3|    Grocery Store|           732.38| new|3496.2239999999997|\n",
      "|          NCD19|       8.93|         Low Fat|            0.0|           Household| 53.8614|           OUT013|                     1987|       High|              Tier 3|Supermarket Type1|         994.7052| new|        480.982302|\n",
      "|          FDP36|     10.395|         Regular|            0.0|        Baking Goods| 51.4008|           OUT018|                     2009|     Medium|              Tier 3|Supermarket Type2|         556.6088| new| 534.3113159999999|\n",
      "|          FDO10|      13.65|         Regular|    0.012741089|         Snack Foods| 57.6588|           OUT013|                     1987|       High|              Tier 3|Supermarket Type1|         343.5528| new|         787.04262|\n",
      "|          FDP10|       NULL|         Low Fat|    0.127469857|         Snack Foods|107.7622|           OUT027|                     1985|     Medium|              Tier 3|Supermarket Type3|        4022.7636| new|              NULL|\n",
      "|          FDH17|       16.2|         Regular|    0.016687114|        Frozen Foods| 96.9726|           OUT045|                     2002|       NULL|              Tier 2|Supermarket Type1|        1076.5986| new|1570.9561199999998|\n",
      "|          FDU28|       19.2|         Regular|     0.09444959|        Frozen Foods|187.8214|           OUT017|                     2007|       NULL|              Tier 2|Supermarket Type1|         4710.535| new|        3606.17088|\n",
      "|          FDY07|       11.8|         Low Fat|            0.0|Fruits and Vegeta...| 45.5402|           OUT049|                     1999|     Medium|              Tier 1|Supermarket Type1|        1516.0266| new|         537.37436|\n",
      "|          FDA03|       18.5|         Regular|    0.045463773|               Dairy|144.1102|           OUT046|                     1997|      Small|              Tier 1|Supermarket Type1|         2187.153| new|         2666.0387|\n",
      "|          FDX32|       15.1|         Regular|      0.1000135|Fruits and Vegeta...|145.4786|           OUT049|                     1999|     Medium|              Tier 1|Supermarket Type1|        1589.2646| new|2196.7268599999998|\n",
      "|          FDS46|       17.6|         Regular|    0.047257328|         Snack Foods|119.6782|           OUT046|                     1997|      Small|              Tier 1|Supermarket Type1|        2145.2076| new|2106.3363200000003|\n",
      "|          FDF32|      16.35|         Low Fat|      0.0680243|Fruits and Vegeta...|196.4426|           OUT013|                     1987|       High|              Tier 3|Supermarket Type1|         1977.426| new|        3211.83651|\n",
      "|          FDP49|        9.0|         Regular|    0.069088961|           Breakfast| 56.3614|           OUT046|                     1997|      Small|              Tier 1|Supermarket Type1|        1547.3192| new|507.25260000000003|\n",
      "|          NCB42|       11.8|         Low Fat|    0.008596051|  Health and Hygiene|115.3492|           OUT018|                     2009|     Medium|              Tier 3|Supermarket Type2|        1621.8888| new|        1361.12056|\n",
      "|          FDP49|        9.0|         Regular|    0.069196376|           Breakfast| 54.3614|           OUT049|                     1999|     Medium|              Tier 1|Supermarket Type1|         718.3982| new|489.25260000000003|\n",
      "|          DRI11|       NULL|         Low Fat|    0.034237682|         Hard Drinks|113.2834|           OUT027|                     1985|     Medium|              Tier 3|Supermarket Type3|         2303.668| new|              NULL|\n",
      "|          FDU02|      13.35|         Low Fat|     0.10249212|               Dairy|230.5352|           OUT035|                     2004|      Small|              Tier 2|Supermarket Type1|        2748.4224| new|        3077.64492|\n",
      "+---------------+-----------+----------------+---------------+--------------------+--------+-----------------+-------------------------+-----------+--------------------+-----------------+-----------------+----+------------------+\n",
      "only showing top 20 rows\n",
      "\n"
     ]
    }
   ],
   "source": [
    "#Scenario 2\n",
    "df.withColumn('multiply',col('item_Weight')*col('Item_MRP')).show()"
   ]
  },
  {
   "cell_type": "markdown",
   "metadata": {},
   "source": [
    "Replace the values on exisitng col"
   ]
  },
  {
   "cell_type": "code",
   "execution_count": 45,
   "metadata": {},
   "outputs": [
    {
     "name": "stdout",
     "output_type": "stream",
     "text": [
      "+---------------+-----------+----------------+---------------+--------------------+--------+-----------------+-------------------------+-----------+--------------------+-----------------+-----------------+----+\n",
      "|Item_Identifier|Item_Weight|Item_Fat_Content|Item_Visibility|           Item_Type|Item_MRP|Outlet_Identifier|Outlet_Establishment_Year|Outlet_Size|Outlet_Location_Type|      Outlet_Type|Item_Outlet_Sales|flag|\n",
      "+---------------+-----------+----------------+---------------+--------------------+--------+-----------------+-------------------------+-----------+--------------------+-----------------+-----------------+----+\n",
      "|          FDA15|        9.3|              LF|    0.016047301|               Dairy|249.8092|           OUT049|                     1999|     Medium|              Tier 1|Supermarket Type1|         3735.138| new|\n",
      "|          DRC01|       5.92|             Reg|    0.019278216|         Soft Drinks| 48.2692|           OUT018|                     2009|     Medium|              Tier 3|Supermarket Type2|         443.4228| new|\n",
      "|          FDN15|       17.5|              LF|    0.016760075|                Meat| 141.618|           OUT049|                     1999|     Medium|              Tier 1|Supermarket Type1|          2097.27| new|\n",
      "|          FDX07|       19.2|             Reg|            0.0|Fruits and Vegeta...| 182.095|           OUT010|                     1998|       NULL|              Tier 3|    Grocery Store|           732.38| new|\n",
      "|          NCD19|       8.93|              LF|            0.0|           Household| 53.8614|           OUT013|                     1987|       High|              Tier 3|Supermarket Type1|         994.7052| new|\n",
      "|          FDP36|     10.395|             Reg|            0.0|        Baking Goods| 51.4008|           OUT018|                     2009|     Medium|              Tier 3|Supermarket Type2|         556.6088| new|\n",
      "|          FDO10|      13.65|             Reg|    0.012741089|         Snack Foods| 57.6588|           OUT013|                     1987|       High|              Tier 3|Supermarket Type1|         343.5528| new|\n",
      "|          FDP10|       NULL|              LF|    0.127469857|         Snack Foods|107.7622|           OUT027|                     1985|     Medium|              Tier 3|Supermarket Type3|        4022.7636| new|\n",
      "|          FDH17|       16.2|             Reg|    0.016687114|        Frozen Foods| 96.9726|           OUT045|                     2002|       NULL|              Tier 2|Supermarket Type1|        1076.5986| new|\n",
      "|          FDU28|       19.2|             Reg|     0.09444959|        Frozen Foods|187.8214|           OUT017|                     2007|       NULL|              Tier 2|Supermarket Type1|         4710.535| new|\n",
      "|          FDY07|       11.8|              LF|            0.0|Fruits and Vegeta...| 45.5402|           OUT049|                     1999|     Medium|              Tier 1|Supermarket Type1|        1516.0266| new|\n",
      "|          FDA03|       18.5|             Reg|    0.045463773|               Dairy|144.1102|           OUT046|                     1997|      Small|              Tier 1|Supermarket Type1|         2187.153| new|\n",
      "|          FDX32|       15.1|             Reg|      0.1000135|Fruits and Vegeta...|145.4786|           OUT049|                     1999|     Medium|              Tier 1|Supermarket Type1|        1589.2646| new|\n",
      "|          FDS46|       17.6|             Reg|    0.047257328|         Snack Foods|119.6782|           OUT046|                     1997|      Small|              Tier 1|Supermarket Type1|        2145.2076| new|\n",
      "|          FDF32|      16.35|              LF|      0.0680243|Fruits and Vegeta...|196.4426|           OUT013|                     1987|       High|              Tier 3|Supermarket Type1|         1977.426| new|\n",
      "|          FDP49|        9.0|             Reg|    0.069088961|           Breakfast| 56.3614|           OUT046|                     1997|      Small|              Tier 1|Supermarket Type1|        1547.3192| new|\n",
      "|          NCB42|       11.8|              LF|    0.008596051|  Health and Hygiene|115.3492|           OUT018|                     2009|     Medium|              Tier 3|Supermarket Type2|        1621.8888| new|\n",
      "|          FDP49|        9.0|             Reg|    0.069196376|           Breakfast| 54.3614|           OUT049|                     1999|     Medium|              Tier 1|Supermarket Type1|         718.3982| new|\n",
      "|          DRI11|       NULL|              LF|    0.034237682|         Hard Drinks|113.2834|           OUT027|                     1985|     Medium|              Tier 3|Supermarket Type3|         2303.668| new|\n",
      "|          FDU02|      13.35|              LF|     0.10249212|               Dairy|230.5352|           OUT035|                     2004|      Small|              Tier 2|Supermarket Type1|        2748.4224| new|\n",
      "+---------------+-----------+----------------+---------------+--------------------+--------+-----------------+-------------------------+-----------+--------------------+-----------------+-----------------+----+\n",
      "only showing top 20 rows\n",
      "\n"
     ]
    }
   ],
   "source": [
    "df.withColumn('Item_Fat_Content',\\\n",
    "              regexp_replace(col('Item_Fat_Content'),\"Regular\",\"Reg\"))\\\n",
    "              .withColumn('Item_Fat_Content',\\\n",
    "                    regexp_replace(col('Item_Fat_Content'),\"Low Fat\",\"LF\")).show()"
   ]
  },
  {
   "cell_type": "markdown",
   "metadata": {},
   "source": [
    "### Type Casting"
   ]
  },
  {
   "cell_type": "code",
   "execution_count": 46,
   "metadata": {},
   "outputs": [
    {
     "name": "stdout",
     "output_type": "stream",
     "text": [
      "root\n",
      " |-- Item_Identifier: string (nullable = true)\n",
      " |-- Item_Weight: string (nullable = true)\n",
      " |-- Item_Fat_Content: string (nullable = true)\n",
      " |-- Item_Visibility: double (nullable = true)\n",
      " |-- Item_Type: string (nullable = true)\n",
      " |-- Item_MRP: double (nullable = true)\n",
      " |-- Outlet_Identifier: string (nullable = true)\n",
      " |-- Outlet_Establishment_Year: integer (nullable = true)\n",
      " |-- Outlet_Size: string (nullable = true)\n",
      " |-- Outlet_Location_Type: string (nullable = true)\n",
      " |-- Outlet_Type: string (nullable = true)\n",
      " |-- Item_Outlet_Sales: double (nullable = true)\n",
      " |-- flag: string (nullable = false)\n",
      "\n"
     ]
    }
   ],
   "source": [
    "df=df.withColumn('Item_Weight',col('Item_Weight').cast(StringType()))\n",
    "df.printSchema()"
   ]
  },
  {
   "cell_type": "markdown",
   "metadata": {},
   "source": [
    "### Sort/orderBy - Default is Asc"
   ]
  },
  {
   "cell_type": "markdown",
   "metadata": {},
   "source": [
    "1. sort by Item Weight in desc\n",
    "2. sort by Item_Visibility in Asc\n",
    "3. sort by Item_weight and Item_Visibility in Desc"
   ]
  },
  {
   "cell_type": "code",
   "execution_count": 47,
   "metadata": {},
   "outputs": [
    {
     "name": "stdout",
     "output_type": "stream",
     "text": [
      "+---------------+-----------+----------------+---------------+------------+--------+-----------------+-------------------------+-----------+--------------------+-----------------+-----------------+----+\n",
      "|Item_Identifier|Item_Weight|Item_Fat_Content|Item_Visibility|   Item_Type|Item_MRP|Outlet_Identifier|Outlet_Establishment_Year|Outlet_Size|Outlet_Location_Type|      Outlet_Type|Item_Outlet_Sales|flag|\n",
      "+---------------+-----------+----------------+---------------+------------+--------+-----------------+-------------------------+-----------+--------------------+-----------------+-----------------+----+\n",
      "|          FDR13|      9.895|         Regular|    0.028696932|      Canned|117.0492|           OUT013|                     1987|       High|              Tier 3|Supermarket Type1|         810.9444| new|\n",
      "|          DRD49|      9.895|         Low Fat|    0.167799329| Soft Drinks|239.4564|           OUT035|                     2004|      Small|              Tier 2|Supermarket Type1|        5243.8408| new|\n",
      "|          FDR13|      9.895|         Regular|    0.028837829|      Canned|117.8492|           OUT018|                     2009|     Medium|              Tier 3|Supermarket Type2|        1506.0396| new|\n",
      "|          FDT16|      9.895|         Regular|    0.048761046|Frozen Foods|260.5278|           OUT045|                     2002|       NULL|              Tier 2|Supermarket Type1|        8851.1452| new|\n",
      "|          DRD49|      9.895|         Low Fat|    0.168780385| Soft Drinks|236.8564|           OUT017|                     2007|       NULL|              Tier 2|Supermarket Type1|         4767.128| new|\n",
      "|          DRD49|      9.895|              LF|    0.167831064| Soft Drinks|237.4564|           OUT046|                     1997|      Small|              Tier 1|Supermarket Type1|         715.0692| new|\n",
      "|          NCJ54|      9.895|              LF|    0.060067115|   Household|230.6642|           OUT046|                     1997|      Small|              Tier 1|Supermarket Type1|         4647.284| new|\n",
      "|          NCJ54|      9.895|         Low Fat|    0.060017128|   Household|230.8642|           OUT013|                     1987|       High|              Tier 3|Supermarket Type1|        4414.9198| new|\n",
      "|          DRD49|      9.895|         Low Fat|     0.16817143| Soft Drinks|237.7564|           OUT045|                     2002|       NULL|              Tier 2|Supermarket Type1|        3813.7024| new|\n",
      "|          FDT16|      9.895|         Regular|    0.048662357|Frozen Foods|261.7278|           OUT046|                     1997|      Small|              Tier 1|Supermarket Type1|        4685.9004| new|\n",
      "|          FDR13|      9.895|         Regular|    0.028765486|      Canned|115.3492|           OUT049|                     1999|     Medium|              Tier 1|Supermarket Type1|        1274.3412| new|\n",
      "|          NCJ54|      9.895|         Low Fat|    0.060188932|   Household|233.0642|           OUT045|                     2002|       NULL|              Tier 2|Supermarket Type1|        6041.4692| new|\n",
      "|          FDT16|      9.895|         Regular|    0.048738014|Frozen Foods|262.1278|           OUT049|                     1999|     Medium|              Tier 1|Supermarket Type1|         3904.917| new|\n",
      "|          FDT16|      9.895|         Regular|    0.048860587|Frozen Foods|260.2278|           OUT018|                     2009|     Medium|              Tier 3|Supermarket Type2|        4165.2448| new|\n",
      "|          NCJ54|      9.895|         Low Fat|    0.060055757|   Household|234.2642|           OUT035|                     2004|      Small|              Tier 2|Supermarket Type1|        3717.8272| new|\n",
      "|          FDY12|        9.8|         Regular|    0.235354055|Baking Goods| 50.8008|           OUT010|                     1998|       NULL|              Tier 3|    Grocery Store|         101.2016| new|\n",
      "|          FDA23|        9.8|         Low Fat|    0.047187038|Baking Goods|100.6016|           OUT046|                     1997|      Small|              Tier 1|Supermarket Type1|        1619.2256| new|\n",
      "|          FDP12|        9.8|         Regular|    0.045337184|Baking Goods| 36.8874|           OUT049|                     1999|     Medium|              Tier 1|Supermarket Type1|         564.5984| new|\n",
      "|          FDK43|        9.8|         Low Fat|    0.026950104|        Meat| 128.402|           OUT018|                     2009|     Medium|              Tier 3|Supermarket Type2|          1265.02| new|\n",
      "|          FDY12|        9.8|         Regular|     0.14061104|Baking Goods| 49.8008|           OUT046|                     1997|      Small|              Tier 1|Supermarket Type1|         809.6128| new|\n",
      "+---------------+-----------+----------------+---------------+------------+--------+-----------------+-------------------------+-----------+--------------------+-----------------+-----------------+----+\n",
      "only showing top 20 rows\n",
      "\n"
     ]
    }
   ],
   "source": [
    "df.sort(col('Item_Weight').desc()).show()"
   ]
  },
  {
   "cell_type": "code",
   "execution_count": 48,
   "metadata": {},
   "outputs": [
    {
     "name": "stdout",
     "output_type": "stream",
     "text": [
      "+---------------+-----------+----------------+---------------+--------------------+--------+-----------------+-------------------------+-----------+--------------------+-----------------+-----------------+----+\n",
      "|Item_Identifier|Item_Weight|Item_Fat_Content|Item_Visibility|           Item_Type|Item_MRP|Outlet_Identifier|Outlet_Establishment_Year|Outlet_Size|Outlet_Location_Type|      Outlet_Type|Item_Outlet_Sales|flag|\n",
      "+---------------+-----------+----------------+---------------+--------------------+--------+-----------------+-------------------------+-----------+--------------------+-----------------+-----------------+----+\n",
      "|          DRB48|      16.75|         Regular|            0.0|         Soft Drinks| 39.3822|           OUT046|                     1997|      Small|              Tier 1|Supermarket Type1|         353.5398| new|\n",
      "|          FDS32|      17.75|         Regular|            0.0|Fruits and Vegeta...|139.9838|           OUT045|                     2002|       NULL|              Tier 2|Supermarket Type1|        1966.7732| new|\n",
      "|          FDR04|      7.075|         Low Fat|            0.0|        Frozen Foods| 98.0068|           OUT018|                     2009|     Medium|              Tier 3|Supermarket Type2|         874.8612| new|\n",
      "|          FDX07|       19.2|         Regular|            0.0|Fruits and Vegeta...| 182.095|           OUT010|                     1998|       NULL|              Tier 3|    Grocery Store|           732.38| new|\n",
      "|          FDX25|       16.7|         Low Fat|            0.0|              Canned|181.2292|           OUT018|                     2009|     Medium|              Tier 3|Supermarket Type2|        2554.0088| new|\n",
      "|          FDP36|     10.395|         Regular|            0.0|        Baking Goods| 51.4008|           OUT018|                     2009|     Medium|              Tier 3|Supermarket Type2|         556.6088| new|\n",
      "|          FDZ07|       NULL|         Regular|            0.0|Fruits and Vegeta...| 60.2194|           OUT027|                     1985|     Medium|              Tier 3|Supermarket Type3|        1733.7432| new|\n",
      "|          FDO23|      17.85|         Low Fat|            0.0|              Breads| 93.1436|           OUT045|                     2002|       NULL|              Tier 2|Supermarket Type1|        2174.5028| new|\n",
      "|          FDY28|       7.47|         Regular|            0.0|        Frozen Foods|214.3218|           OUT035|                     2004|      Small|              Tier 2|Supermarket Type1|         4274.436| new|\n",
      "|          FDM20|       10.0|         Low Fat|            0.0|Fruits and Vegeta...|246.9144|           OUT018|                     2009|     Medium|              Tier 3|Supermarket Type2|        3185.1872| new|\n",
      "|          FDC50|      15.85|         Low Fat|            0.0|              Canned| 96.4094|           OUT035|                     2004|      Small|              Tier 2|Supermarket Type1|        1237.7222| new|\n",
      "|          FDV25|      5.905|         Low Fat|            0.0|              Canned|222.5456|           OUT045|                     2002|       NULL|              Tier 2|Supermarket Type1|        5305.0944| new|\n",
      "|          FDP22|       NULL|         Regular|            0.0|         Snack Foods| 52.6666|           OUT027|                     1985|     Medium|              Tier 3|Supermarket Type3|         717.7324| new|\n",
      "|          FDP33|       18.7|         Low Fat|            0.0|         Snack Foods|256.6672|           OUT018|                     2009|     Medium|              Tier 3|Supermarket Type2|        3068.0064| new|\n",
      "|          NCZ42|       10.5|         Low Fat|            0.0|           Household|238.3248|           OUT010|                     1998|       NULL|              Tier 3|    Grocery Store|         711.0744| new|\n",
      "|          FDI16|       14.0|         Regular|            0.0|        Frozen Foods|  53.064|           OUT035|                     2004|      Small|              Tier 2|Supermarket Type1|          905.488| new|\n",
      "|          FDA27|      20.35|         Regular|            0.0|               Dairy|256.7672|           OUT018|                     2009|     Medium|              Tier 3|Supermarket Type2|        5624.6784| new|\n",
      "|          FDR47|      17.85|              LF|            0.0|              Breads|196.5794|           OUT010|                     1998|       NULL|              Tier 3|    Grocery Store|         585.2382| new|\n",
      "|          DRH15|      8.775|         Low Fat|            0.0|               Dairy| 45.9428|           OUT013|                     1987|       High|              Tier 3|Supermarket Type1|         790.9704| new|\n",
      "|          NCZ54|      14.65|         Low Fat|            0.0|           Household|161.5552|           OUT010|                     1998|       NULL|              Tier 3|    Grocery Store|         324.9104| new|\n",
      "+---------------+-----------+----------------+---------------+--------------------+--------+-----------------+-------------------------+-----------+--------------------+-----------------+-----------------+----+\n",
      "only showing top 20 rows\n",
      "\n"
     ]
    }
   ],
   "source": [
    "df.sort(col('Item_Visibility').asc()).show()"
   ]
  },
  {
   "cell_type": "code",
   "execution_count": 33,
   "metadata": {},
   "outputs": [
    {
     "name": "stdout",
     "output_type": "stream",
     "text": [
      "+---------------+-----------+----------------+---------------+--------------------+--------+-----------------+-------------------------+-----------+--------------------+-----------------+-----------------+----+\n",
      "|Item_Identifier|Item_Weight|Item_Fat_Content|Item_Visibility|           Item_Type|Item_MRP|Outlet_Identifier|Outlet_Establishment_Year|Outlet_Size|Outlet_Location_Type|      Outlet_Type|Item_Outlet_Sales|flag|\n",
      "+---------------+-----------+----------------+---------------+--------------------+--------+-----------------+-------------------------+-----------+--------------------+-----------------+-----------------+----+\n",
      "|          DRD49|      9.895|         Low Fat|    0.168780385|         Soft Drinks|236.8564|           OUT017|                     2007|       NULL|              Tier 2|Supermarket Type1|         4767.128| new|\n",
      "|          DRD49|      9.895|         Low Fat|     0.16817143|         Soft Drinks|237.7564|           OUT045|                     2002|       NULL|              Tier 2|Supermarket Type1|        3813.7024| new|\n",
      "|          DRD49|      9.895|              LF|    0.167831064|         Soft Drinks|237.4564|           OUT046|                     1997|      Small|              Tier 1|Supermarket Type1|         715.0692| new|\n",
      "|          DRD49|      9.895|         Low Fat|    0.167799329|         Soft Drinks|239.4564|           OUT035|                     2004|      Small|              Tier 2|Supermarket Type1|        5243.8408| new|\n",
      "|          NCJ54|      9.895|         Low Fat|    0.060188932|           Household|233.0642|           OUT045|                     2002|       NULL|              Tier 2|Supermarket Type1|        6041.4692| new|\n",
      "|          NCJ54|      9.895|              LF|    0.060067115|           Household|230.6642|           OUT046|                     1997|      Small|              Tier 1|Supermarket Type1|         4647.284| new|\n",
      "|          NCJ54|      9.895|         Low Fat|    0.060055757|           Household|234.2642|           OUT035|                     2004|      Small|              Tier 2|Supermarket Type1|        3717.8272| new|\n",
      "|          NCJ54|      9.895|         Low Fat|    0.060017128|           Household|230.8642|           OUT013|                     1987|       High|              Tier 3|Supermarket Type1|        4414.9198| new|\n",
      "|          FDT16|      9.895|         Regular|    0.048860587|        Frozen Foods|260.2278|           OUT018|                     2009|     Medium|              Tier 3|Supermarket Type2|        4165.2448| new|\n",
      "|          FDT16|      9.895|         Regular|    0.048761046|        Frozen Foods|260.5278|           OUT045|                     2002|       NULL|              Tier 2|Supermarket Type1|        8851.1452| new|\n",
      "|          FDT16|      9.895|         Regular|    0.048738014|        Frozen Foods|262.1278|           OUT049|                     1999|     Medium|              Tier 1|Supermarket Type1|         3904.917| new|\n",
      "|          FDT16|      9.895|         Regular|    0.048662357|        Frozen Foods|261.7278|           OUT046|                     1997|      Small|              Tier 1|Supermarket Type1|        4685.9004| new|\n",
      "|          FDR13|      9.895|         Regular|    0.028837829|              Canned|117.8492|           OUT018|                     2009|     Medium|              Tier 3|Supermarket Type2|        1506.0396| new|\n",
      "|          FDR13|      9.895|         Regular|    0.028765486|              Canned|115.3492|           OUT049|                     1999|     Medium|              Tier 1|Supermarket Type1|        1274.3412| new|\n",
      "|          FDR13|      9.895|         Regular|    0.028696932|              Canned|117.0492|           OUT013|                     1987|       High|              Tier 3|Supermarket Type1|         810.9444| new|\n",
      "|          FDY12|        9.8|         Regular|    0.235354055|        Baking Goods| 50.8008|           OUT010|                     1998|       NULL|              Tier 3|    Grocery Store|         101.2016| new|\n",
      "|          FDV31|        9.8|         Low Fat|    0.178622919|Fruits and Vegeta...| 177.937|           OUT010|                     1998|       NULL|              Tier 3|    Grocery Store|          176.437| new|\n",
      "|          NCK19|        9.8|         Low Fat|    0.151420934|              Others|194.3478|           OUT010|                     1998|       NULL|              Tier 3|    Grocery Store|         387.4956| new|\n",
      "|          FDY12|        9.8|         Regular|    0.141406394|        Baking Goods| 50.0008|           OUT017|                     2007|       NULL|              Tier 2|Supermarket Type1|          506.008| new|\n",
      "|          FDY12|        9.8|         Regular|     0.14118383|        Baking Goods| 50.5008|           OUT018|                     2009|     Medium|              Tier 3|Supermarket Type2|          253.004| new|\n",
      "+---------------+-----------+----------------+---------------+--------------------+--------+-----------------+-------------------------+-----------+--------------------+-----------------+-----------------+----+\n",
      "only showing top 20 rows\n",
      "\n"
     ]
    }
   ],
   "source": [
    "df.sort(['Item_Weight','Item_Visibility'],ascending=[0,0]).show()"
   ]
  },
  {
   "cell_type": "code",
   "execution_count": 34,
   "metadata": {},
   "outputs": [
    {
     "name": "stdout",
     "output_type": "stream",
     "text": [
      "+---------------+-----------+----------------+---------------+--------------------+--------+-----------------+-------------------------+-----------+--------------------+-----------------+-----------------+----+\n",
      "|Item_Identifier|Item_Weight|Item_Fat_Content|Item_Visibility|           Item_Type|Item_MRP|Outlet_Identifier|Outlet_Establishment_Year|Outlet_Size|Outlet_Location_Type|      Outlet_Type|Item_Outlet_Sales|flag|\n",
      "+---------------+-----------+----------------+---------------+--------------------+--------+-----------------+-------------------------+-----------+--------------------+-----------------+-----------------+----+\n",
      "|          FDR13|      9.895|         Regular|    0.028696932|              Canned|117.0492|           OUT013|                     1987|       High|              Tier 3|Supermarket Type1|         810.9444| new|\n",
      "|          FDR13|      9.895|         Regular|    0.028765486|              Canned|115.3492|           OUT049|                     1999|     Medium|              Tier 1|Supermarket Type1|        1274.3412| new|\n",
      "|          FDR13|      9.895|         Regular|    0.028837829|              Canned|117.8492|           OUT018|                     2009|     Medium|              Tier 3|Supermarket Type2|        1506.0396| new|\n",
      "|          FDT16|      9.895|         Regular|    0.048662357|        Frozen Foods|261.7278|           OUT046|                     1997|      Small|              Tier 1|Supermarket Type1|        4685.9004| new|\n",
      "|          FDT16|      9.895|         Regular|    0.048738014|        Frozen Foods|262.1278|           OUT049|                     1999|     Medium|              Tier 1|Supermarket Type1|         3904.917| new|\n",
      "|          FDT16|      9.895|         Regular|    0.048761046|        Frozen Foods|260.5278|           OUT045|                     2002|       NULL|              Tier 2|Supermarket Type1|        8851.1452| new|\n",
      "|          FDT16|      9.895|         Regular|    0.048860587|        Frozen Foods|260.2278|           OUT018|                     2009|     Medium|              Tier 3|Supermarket Type2|        4165.2448| new|\n",
      "|          NCJ54|      9.895|         Low Fat|    0.060017128|           Household|230.8642|           OUT013|                     1987|       High|              Tier 3|Supermarket Type1|        4414.9198| new|\n",
      "|          NCJ54|      9.895|         Low Fat|    0.060055757|           Household|234.2642|           OUT035|                     2004|      Small|              Tier 2|Supermarket Type1|        3717.8272| new|\n",
      "|          NCJ54|      9.895|              LF|    0.060067115|           Household|230.6642|           OUT046|                     1997|      Small|              Tier 1|Supermarket Type1|         4647.284| new|\n",
      "|          NCJ54|      9.895|         Low Fat|    0.060188932|           Household|233.0642|           OUT045|                     2002|       NULL|              Tier 2|Supermarket Type1|        6041.4692| new|\n",
      "|          DRD49|      9.895|         Low Fat|    0.167799329|         Soft Drinks|239.4564|           OUT035|                     2004|      Small|              Tier 2|Supermarket Type1|        5243.8408| new|\n",
      "|          DRD49|      9.895|              LF|    0.167831064|         Soft Drinks|237.4564|           OUT046|                     1997|      Small|              Tier 1|Supermarket Type1|         715.0692| new|\n",
      "|          DRD49|      9.895|         Low Fat|     0.16817143|         Soft Drinks|237.7564|           OUT045|                     2002|       NULL|              Tier 2|Supermarket Type1|        3813.7024| new|\n",
      "|          DRD49|      9.895|         Low Fat|    0.168780385|         Soft Drinks|236.8564|           OUT017|                     2007|       NULL|              Tier 2|Supermarket Type1|         4767.128| new|\n",
      "|          FDY12|        9.8|         Regular|            0.0|        Baking Goods| 49.2008|           OUT013|                     1987|       High|              Tier 3|Supermarket Type1|         657.8104| new|\n",
      "|          FDV31|        9.8|              LF|            0.0|Fruits and Vegeta...| 175.237|           OUT049|                     1999|     Medium|              Tier 1|Supermarket Type1|         3881.614| new|\n",
      "|          DRD37|        9.8|         Low Fat|    0.013830218|         Soft Drinks|  45.306|           OUT013|                     1987|       High|              Tier 3|Supermarket Type1|         1304.968| new|\n",
      "|          DRD37|        9.8|         Low Fat|    0.013841737|         Soft Drinks|  45.206|           OUT046|                     1997|      Small|              Tier 1|Supermarket Type1|         1211.756| new|\n",
      "|          DRD37|        9.8|         Low Fat|    0.013863257|         Soft Drinks|  45.106|           OUT049|                     1999|     Medium|              Tier 1|Supermarket Type1|          1398.18| new|\n",
      "+---------------+-----------+----------------+---------------+--------------------+--------+-----------------+-------------------------+-----------+--------------------+-----------------+-----------------+----+\n",
      "only showing top 20 rows\n",
      "\n"
     ]
    }
   ],
   "source": [
    "df.sort(['Item_Weight','Item_Visibility'],ascending=[0,1]).show()"
   ]
  },
  {
   "cell_type": "markdown",
   "metadata": {},
   "source": [
    "### Limit"
   ]
  },
  {
   "cell_type": "code",
   "execution_count": null,
   "metadata": {},
   "outputs": [
    {
     "name": "stdout",
     "output_type": "stream",
     "text": [
      "+---------------+-----------+----------------+---------------+--------------------+--------+-----------------+-------------------------+-----------+--------------------+-----------------+-----------------+----+\n",
      "|Item_Identifier|Item_Weight|Item_Fat_Content|Item_Visibility|           Item_Type|Item_MRP|Outlet_Identifier|Outlet_Establishment_Year|Outlet_Size|Outlet_Location_Type|      Outlet_Type|Item_Outlet_Sales|flag|\n",
      "+---------------+-----------+----------------+---------------+--------------------+--------+-----------------+-------------------------+-----------+--------------------+-----------------+-----------------+----+\n",
      "|          FDA15|        9.3|         Low Fat|    0.016047301|               Dairy|249.8092|           OUT049|                     1999|     Medium|              Tier 1|Supermarket Type1|         3735.138| new|\n",
      "|          DRC01|       5.92|         Regular|    0.019278216|         Soft Drinks| 48.2692|           OUT018|                     2009|     Medium|              Tier 3|Supermarket Type2|         443.4228| new|\n",
      "|          FDN15|       17.5|         Low Fat|    0.016760075|                Meat| 141.618|           OUT049|                     1999|     Medium|              Tier 1|Supermarket Type1|          2097.27| new|\n",
      "|          FDX07|       19.2|         Regular|            0.0|Fruits and Vegeta...| 182.095|           OUT010|                     1998|       NULL|              Tier 3|    Grocery Store|           732.38| new|\n",
      "|          NCD19|       8.93|         Low Fat|            0.0|           Household| 53.8614|           OUT013|                     1987|       High|              Tier 3|Supermarket Type1|         994.7052| new|\n",
      "+---------------+-----------+----------------+---------------+--------------------+--------+-----------------+-------------------------+-----------+--------------------+-----------------+-----------------+----+\n",
      "\n",
      "+---------------+-----------+----------------+---------------+--------------------+--------+-----------------+-------------------------+-----------+--------------------+-----------------+-----------------+----+\n",
      "|Item_Identifier|Item_Weight|Item_Fat_Content|Item_Visibility|           Item_Type|Item_MRP|Outlet_Identifier|Outlet_Establishment_Year|Outlet_Size|Outlet_Location_Type|      Outlet_Type|Item_Outlet_Sales|flag|\n",
      "+---------------+-----------+----------------+---------------+--------------------+--------+-----------------+-------------------------+-----------+--------------------+-----------------+-----------------+----+\n",
      "|          FDA15|        9.3|         Low Fat|    0.016047301|               Dairy|249.8092|           OUT049|                     1999|     Medium|              Tier 1|Supermarket Type1|         3735.138| new|\n",
      "|          DRC01|       5.92|         Regular|    0.019278216|         Soft Drinks| 48.2692|           OUT018|                     2009|     Medium|              Tier 3|Supermarket Type2|         443.4228| new|\n",
      "|          FDN15|       17.5|         Low Fat|    0.016760075|                Meat| 141.618|           OUT049|                     1999|     Medium|              Tier 1|Supermarket Type1|          2097.27| new|\n",
      "|          FDX07|       19.2|         Regular|            0.0|Fruits and Vegeta...| 182.095|           OUT010|                     1998|       NULL|              Tier 3|    Grocery Store|           732.38| new|\n",
      "|          NCD19|       8.93|         Low Fat|            0.0|           Household| 53.8614|           OUT013|                     1987|       High|              Tier 3|Supermarket Type1|         994.7052| new|\n",
      "+---------------+-----------+----------------+---------------+--------------------+--------+-----------------+-------------------------+-----------+--------------------+-----------------+-----------------+----+\n",
      "only showing top 5 rows\n",
      "\n"
     ]
    }
   ],
   "source": [
    "df.limit(5).show()\n"
   ]
  },
  {
   "cell_type": "markdown",
   "metadata": {},
   "source": [
    "### DROP"
   ]
  },
  {
   "cell_type": "code",
   "execution_count": 37,
   "metadata": {},
   "outputs": [
    {
     "name": "stdout",
     "output_type": "stream",
     "text": [
      "+---------------+-----------+----------------+--------------------+--------+-----------------+-------------------------+-----------+--------------------+-----------------+-----------------+----+\n",
      "|Item_Identifier|Item_Weight|Item_Fat_Content|           Item_Type|Item_MRP|Outlet_Identifier|Outlet_Establishment_Year|Outlet_Size|Outlet_Location_Type|      Outlet_Type|Item_Outlet_Sales|flag|\n",
      "+---------------+-----------+----------------+--------------------+--------+-----------------+-------------------------+-----------+--------------------+-----------------+-----------------+----+\n",
      "|          FDA15|        9.3|         Low Fat|               Dairy|249.8092|           OUT049|                     1999|     Medium|              Tier 1|Supermarket Type1|         3735.138| new|\n",
      "|          DRC01|       5.92|         Regular|         Soft Drinks| 48.2692|           OUT018|                     2009|     Medium|              Tier 3|Supermarket Type2|         443.4228| new|\n",
      "|          FDN15|       17.5|         Low Fat|                Meat| 141.618|           OUT049|                     1999|     Medium|              Tier 1|Supermarket Type1|          2097.27| new|\n",
      "|          FDX07|       19.2|         Regular|Fruits and Vegeta...| 182.095|           OUT010|                     1998|       NULL|              Tier 3|    Grocery Store|           732.38| new|\n",
      "|          NCD19|       8.93|         Low Fat|           Household| 53.8614|           OUT013|                     1987|       High|              Tier 3|Supermarket Type1|         994.7052| new|\n",
      "|          FDP36|     10.395|         Regular|        Baking Goods| 51.4008|           OUT018|                     2009|     Medium|              Tier 3|Supermarket Type2|         556.6088| new|\n",
      "|          FDO10|      13.65|         Regular|         Snack Foods| 57.6588|           OUT013|                     1987|       High|              Tier 3|Supermarket Type1|         343.5528| new|\n",
      "|          FDP10|       NULL|         Low Fat|         Snack Foods|107.7622|           OUT027|                     1985|     Medium|              Tier 3|Supermarket Type3|        4022.7636| new|\n",
      "|          FDH17|       16.2|         Regular|        Frozen Foods| 96.9726|           OUT045|                     2002|       NULL|              Tier 2|Supermarket Type1|        1076.5986| new|\n",
      "|          FDU28|       19.2|         Regular|        Frozen Foods|187.8214|           OUT017|                     2007|       NULL|              Tier 2|Supermarket Type1|         4710.535| new|\n",
      "|          FDY07|       11.8|         Low Fat|Fruits and Vegeta...| 45.5402|           OUT049|                     1999|     Medium|              Tier 1|Supermarket Type1|        1516.0266| new|\n",
      "|          FDA03|       18.5|         Regular|               Dairy|144.1102|           OUT046|                     1997|      Small|              Tier 1|Supermarket Type1|         2187.153| new|\n",
      "|          FDX32|       15.1|         Regular|Fruits and Vegeta...|145.4786|           OUT049|                     1999|     Medium|              Tier 1|Supermarket Type1|        1589.2646| new|\n",
      "|          FDS46|       17.6|         Regular|         Snack Foods|119.6782|           OUT046|                     1997|      Small|              Tier 1|Supermarket Type1|        2145.2076| new|\n",
      "|          FDF32|      16.35|         Low Fat|Fruits and Vegeta...|196.4426|           OUT013|                     1987|       High|              Tier 3|Supermarket Type1|         1977.426| new|\n",
      "|          FDP49|        9.0|         Regular|           Breakfast| 56.3614|           OUT046|                     1997|      Small|              Tier 1|Supermarket Type1|        1547.3192| new|\n",
      "|          NCB42|       11.8|         Low Fat|  Health and Hygiene|115.3492|           OUT018|                     2009|     Medium|              Tier 3|Supermarket Type2|        1621.8888| new|\n",
      "|          FDP49|        9.0|         Regular|           Breakfast| 54.3614|           OUT049|                     1999|     Medium|              Tier 1|Supermarket Type1|         718.3982| new|\n",
      "|          DRI11|       NULL|         Low Fat|         Hard Drinks|113.2834|           OUT027|                     1985|     Medium|              Tier 3|Supermarket Type3|         2303.668| new|\n",
      "|          FDU02|      13.35|         Low Fat|               Dairy|230.5352|           OUT035|                     2004|      Small|              Tier 2|Supermarket Type1|        2748.4224| new|\n",
      "+---------------+-----------+----------------+--------------------+--------+-----------------+-------------------------+-----------+--------------------+-----------------+-----------------+----+\n",
      "only showing top 20 rows\n",
      "\n"
     ]
    }
   ],
   "source": [
    "df.drop('Item_Visibility').show()"
   ]
  },
  {
   "cell_type": "code",
   "execution_count": 38,
   "metadata": {},
   "outputs": [
    {
     "name": "stdout",
     "output_type": "stream",
     "text": [
      "+---------------+-----------+----------------+--------+-----------------+-------------------------+-----------+--------------------+-----------------+-----------------+----+\n",
      "|Item_Identifier|Item_Weight|Item_Fat_Content|Item_MRP|Outlet_Identifier|Outlet_Establishment_Year|Outlet_Size|Outlet_Location_Type|      Outlet_Type|Item_Outlet_Sales|flag|\n",
      "+---------------+-----------+----------------+--------+-----------------+-------------------------+-----------+--------------------+-----------------+-----------------+----+\n",
      "|          FDA15|        9.3|         Low Fat|249.8092|           OUT049|                     1999|     Medium|              Tier 1|Supermarket Type1|         3735.138| new|\n",
      "|          DRC01|       5.92|         Regular| 48.2692|           OUT018|                     2009|     Medium|              Tier 3|Supermarket Type2|         443.4228| new|\n",
      "|          FDN15|       17.5|         Low Fat| 141.618|           OUT049|                     1999|     Medium|              Tier 1|Supermarket Type1|          2097.27| new|\n",
      "|          FDX07|       19.2|         Regular| 182.095|           OUT010|                     1998|       NULL|              Tier 3|    Grocery Store|           732.38| new|\n",
      "|          NCD19|       8.93|         Low Fat| 53.8614|           OUT013|                     1987|       High|              Tier 3|Supermarket Type1|         994.7052| new|\n",
      "|          FDP36|     10.395|         Regular| 51.4008|           OUT018|                     2009|     Medium|              Tier 3|Supermarket Type2|         556.6088| new|\n",
      "|          FDO10|      13.65|         Regular| 57.6588|           OUT013|                     1987|       High|              Tier 3|Supermarket Type1|         343.5528| new|\n",
      "|          FDP10|       NULL|         Low Fat|107.7622|           OUT027|                     1985|     Medium|              Tier 3|Supermarket Type3|        4022.7636| new|\n",
      "|          FDH17|       16.2|         Regular| 96.9726|           OUT045|                     2002|       NULL|              Tier 2|Supermarket Type1|        1076.5986| new|\n",
      "|          FDU28|       19.2|         Regular|187.8214|           OUT017|                     2007|       NULL|              Tier 2|Supermarket Type1|         4710.535| new|\n",
      "|          FDY07|       11.8|         Low Fat| 45.5402|           OUT049|                     1999|     Medium|              Tier 1|Supermarket Type1|        1516.0266| new|\n",
      "|          FDA03|       18.5|         Regular|144.1102|           OUT046|                     1997|      Small|              Tier 1|Supermarket Type1|         2187.153| new|\n",
      "|          FDX32|       15.1|         Regular|145.4786|           OUT049|                     1999|     Medium|              Tier 1|Supermarket Type1|        1589.2646| new|\n",
      "|          FDS46|       17.6|         Regular|119.6782|           OUT046|                     1997|      Small|              Tier 1|Supermarket Type1|        2145.2076| new|\n",
      "|          FDF32|      16.35|         Low Fat|196.4426|           OUT013|                     1987|       High|              Tier 3|Supermarket Type1|         1977.426| new|\n",
      "|          FDP49|        9.0|         Regular| 56.3614|           OUT046|                     1997|      Small|              Tier 1|Supermarket Type1|        1547.3192| new|\n",
      "|          NCB42|       11.8|         Low Fat|115.3492|           OUT018|                     2009|     Medium|              Tier 3|Supermarket Type2|        1621.8888| new|\n",
      "|          FDP49|        9.0|         Regular| 54.3614|           OUT049|                     1999|     Medium|              Tier 1|Supermarket Type1|         718.3982| new|\n",
      "|          DRI11|       NULL|         Low Fat|113.2834|           OUT027|                     1985|     Medium|              Tier 3|Supermarket Type3|         2303.668| new|\n",
      "|          FDU02|      13.35|         Low Fat|230.5352|           OUT035|                     2004|      Small|              Tier 2|Supermarket Type1|        2748.4224| new|\n",
      "+---------------+-----------+----------------+--------+-----------------+-------------------------+-----------+--------------------+-----------------+-----------------+----+\n",
      "only showing top 20 rows\n",
      "\n"
     ]
    }
   ],
   "source": [
    "df.drop('Item_Visibility','Item_Type').show()"
   ]
  },
  {
   "cell_type": "markdown",
   "metadata": {},
   "source": [
    "### DROP_DUPLICATES"
   ]
  },
  {
   "cell_type": "code",
   "execution_count": 42,
   "metadata": {},
   "outputs": [
    {
     "name": "stdout",
     "output_type": "stream",
     "text": [
      "+---------------+-----------+----------------+---------------+--------------------+--------+-----------------+-------------------------+-----------+--------------------+-----------------+-----------------+----+\n",
      "|Item_Identifier|Item_Weight|Item_Fat_Content|Item_Visibility|           Item_Type|Item_MRP|Outlet_Identifier|Outlet_Establishment_Year|Outlet_Size|Outlet_Location_Type|      Outlet_Type|Item_Outlet_Sales|flag|\n",
      "+---------------+-----------+----------------+---------------+--------------------+--------+-----------------+-------------------------+-----------+--------------------+-----------------+-----------------+----+\n",
      "|          NCW29|       14.0|         Low Fat|    0.028907832|  Health and Hygiene| 130.431|           OUT049|                     1999|     Medium|              Tier 1|Supermarket Type1|          778.986| new|\n",
      "|          DRJ37|       10.8|         Low Fat|    0.061101383|         Soft Drinks|151.9024|           OUT046|                     1997|      Small|              Tier 1|Supermarket Type1|        2580.6408| new|\n",
      "|          NCX06|       17.6|         Low Fat|    0.015687045|           Household|182.6976|           OUT046|                     1997|      Small|              Tier 1|Supermarket Type1|        3440.8544| new|\n",
      "|          NCX18|      14.15|         Low Fat|            0.0|           Household| 197.111|           OUT049|                     1999|     Medium|              Tier 1|Supermarket Type1|         3731.809| new|\n",
      "|          DRO59|       11.8|         Low Fat|    0.054238448|         Hard Drinks| 75.4012|           OUT049|                     1999|     Medium|              Tier 1|Supermarket Type1|         986.7156| new|\n",
      "|          FDL20|       17.1|         Low Fat|    0.128390273|Fruits and Vegeta...|111.9886|           OUT035|                     2004|      Small|              Tier 2|Supermarket Type1|        1445.4518| new|\n",
      "|          FDD26|       8.71|         Regular|    0.072155462|              Canned|183.3924|           OUT046|                     1997|      Small|              Tier 1|Supermarket Type1|        3146.5708| new|\n",
      "|          FDH22|      6.405|         Low Fat|    0.136512858|         Snack Foods|128.7678|           OUT049|                     1999|     Medium|              Tier 1|Supermarket Type1|        3052.0272| new|\n",
      "|          FDN15|       17.5|         Low Fat|    0.016802225|                Meat| 138.518|           OUT018|                     2009|     Medium|              Tier 3|Supermarket Type2|         2376.906| new|\n",
      "|          NCL55|      12.15|         Low Fat|     0.06464846|              Others| 253.404|           OUT035|                     2004|      Small|              Tier 2|Supermarket Type1|         4807.076| new|\n",
      "|          FDU24|       6.78|         Regular|            0.0|        Baking Goods|  95.012|           OUT049|                     1999|     Medium|              Tier 1|Supermarket Type1|         2050.664| new|\n",
      "|          NCX53|       20.1|         Low Fat|    0.014925407|  Health and Hygiene|143.4154|           OUT013|                     1987|       High|              Tier 3|Supermarket Type1|         3545.385| new|\n",
      "|          FDU57|       8.27|             reg|    0.089554186|         Snack Foods|150.8708|           OUT046|                     1997|      Small|              Tier 1|Supermarket Type1|        2407.5328| new|\n",
      "|          FDM45|      8.655|         Regular|     0.08819473|         Snack Foods|119.6756|           OUT046|                     1997|      Small|              Tier 1|Supermarket Type1|         2423.512| new|\n",
      "|          FDC59|       16.7|         Regular|    0.054851438|       Starchy Foods| 64.4168|           OUT018|                     2009|     Medium|              Tier 3|Supermarket Type2|         830.9184| new|\n",
      "|          FDT59|      13.65|         Low Fat|    0.015908424|              Breads|231.1668|           OUT035|                     2004|      Small|              Tier 2|Supermarket Type1|         6911.004| new|\n",
      "|          DRE25|      15.35|         Low Fat|    0.073269336|         Soft Drinks|  92.112|           OUT035|                     2004|      Small|              Tier 2|Supermarket Type1|         1118.544| new|\n",
      "|          FDD50|      18.85|         Low Fat|    0.141642219|              Canned|168.1132|           OUT046|                     1997|      Small|              Tier 1|Supermarket Type1|        2874.9244| new|\n",
      "|          NCN41|       17.0|         Low Fat|    0.052165855|  Health and Hygiene| 125.073|           OUT013|                     1987|       High|              Tier 3|Supermarket Type1|         1108.557| new|\n",
      "|          FDG26|      18.85|         Low Fat|    0.042641788|              Canned| 257.833|           OUT035|                     2004|      Small|              Tier 2|Supermarket Type1|         5382.993| new|\n",
      "+---------------+-----------+----------------+---------------+--------------------+--------+-----------------+-------------------------+-----------+--------------------+-----------------+-----------------+----+\n",
      "only showing top 20 rows\n",
      "\n"
     ]
    }
   ],
   "source": [
    "df.dropDuplicates().show()"
   ]
  },
  {
   "cell_type": "code",
   "execution_count": 44,
   "metadata": {},
   "outputs": [
    {
     "name": "stdout",
     "output_type": "stream",
     "text": [
      "+---------------+-----------+----------------+---------------+--------------------+--------+-----------------+-------------------------+-----------+--------------------+-----------------+-----------------+----+\n",
      "|Item_Identifier|Item_Weight|Item_Fat_Content|Item_Visibility|           Item_Type|Item_MRP|Outlet_Identifier|Outlet_Establishment_Year|Outlet_Size|Outlet_Location_Type|      Outlet_Type|Item_Outlet_Sales|flag|\n",
      "+---------------+-----------+----------------+---------------+--------------------+--------+-----------------+-------------------------+-----------+--------------------+-----------------+-----------------+----+\n",
      "|          FDP36|     10.395|         Regular|            0.0|        Baking Goods| 51.4008|           OUT018|                     2009|     Medium|              Tier 3|Supermarket Type2|         556.6088| new|\n",
      "|          FDO23|      17.85|         Low Fat|            0.0|              Breads| 93.1436|           OUT045|                     2002|       NULL|              Tier 2|Supermarket Type1|        2174.5028| new|\n",
      "|          FDP49|        9.0|         Regular|    0.069088961|           Breakfast| 56.3614|           OUT046|                     1997|      Small|              Tier 1|Supermarket Type1|        1547.3192| new|\n",
      "|          FDC14|       NULL|         Regular|    0.072221801|              Canned| 43.6454|           OUT019|                     1985|      Small|              Tier 1|    Grocery Store|         125.8362| new|\n",
      "|          FDA15|        9.3|         Low Fat|    0.016047301|               Dairy|249.8092|           OUT049|                     1999|     Medium|              Tier 1|Supermarket Type1|         3735.138| new|\n",
      "|          FDH17|       16.2|         Regular|    0.016687114|        Frozen Foods| 96.9726|           OUT045|                     2002|       NULL|              Tier 2|Supermarket Type1|        1076.5986| new|\n",
      "|          FDX07|       19.2|         Regular|            0.0|Fruits and Vegeta...| 182.095|           OUT010|                     1998|       NULL|              Tier 3|    Grocery Store|           732.38| new|\n",
      "|          DRI11|       NULL|         Low Fat|    0.034237682|         Hard Drinks|113.2834|           OUT027|                     1985|     Medium|              Tier 3|Supermarket Type3|         2303.668| new|\n",
      "|          NCB42|       11.8|         Low Fat|    0.008596051|  Health and Hygiene|115.3492|           OUT018|                     2009|     Medium|              Tier 3|Supermarket Type2|        1621.8888| new|\n",
      "|          NCD19|       8.93|         Low Fat|            0.0|           Household| 53.8614|           OUT013|                     1987|       High|              Tier 3|Supermarket Type1|         994.7052| new|\n",
      "|          FDN15|       17.5|         Low Fat|    0.016760075|                Meat| 141.618|           OUT049|                     1999|     Medium|              Tier 1|Supermarket Type1|          2097.27| new|\n",
      "|          NCN07|       18.5|         Low Fat|    0.056816465|              Others|132.1284|           OUT010|                     1998|       NULL|              Tier 3|    Grocery Store|         263.6568| new|\n",
      "|          FDG33|       NULL|         Regular|     0.13956116|             Seafood|170.4764|           OUT027|                     1985|     Medium|              Tier 3|Supermarket Type3|         3435.528| new|\n",
      "|          FDO10|      13.65|         Regular|    0.012741089|         Snack Foods| 57.6588|           OUT013|                     1987|       High|              Tier 3|Supermarket Type1|         343.5528| new|\n",
      "|          DRC01|       5.92|         Regular|    0.019278216|         Soft Drinks| 48.2692|           OUT018|                     2009|     Medium|              Tier 3|Supermarket Type2|         443.4228| new|\n",
      "|          FDH35|      18.25|         Low Fat|            0.0|       Starchy Foods|164.7526|           OUT045|                     2002|       NULL|              Tier 2|Supermarket Type1|        4604.6728| new|\n",
      "+---------------+-----------+----------------+---------------+--------------------+--------+-----------------+-------------------------+-----------+--------------------+-----------------+-----------------+----+\n",
      "\n"
     ]
    }
   ],
   "source": [
    "df.drop_duplicates(subset=['Item_Type']).show()"
   ]
  },
  {
   "cell_type": "code",
   "execution_count": 50,
   "metadata": {},
   "outputs": [
    {
     "name": "stdout",
     "output_type": "stream",
     "text": [
      "+---------------+-----------+----------------+---------------+--------------------+--------+-----------------+-------------------------+-----------+--------------------+-----------------+-----------------+----+\n",
      "|Item_Identifier|Item_Weight|Item_Fat_Content|Item_Visibility|           Item_Type|Item_MRP|Outlet_Identifier|Outlet_Establishment_Year|Outlet_Size|Outlet_Location_Type|      Outlet_Type|Item_Outlet_Sales|flag|\n",
      "+---------------+-----------+----------------+---------------+--------------------+--------+-----------------+-------------------------+-----------+--------------------+-----------------+-----------------+----+\n",
      "|          NCW29|       14.0|         Low Fat|    0.028907832|  Health and Hygiene| 130.431|           OUT049|                     1999|     Medium|              Tier 1|Supermarket Type1|          778.986| new|\n",
      "|          DRJ37|       10.8|         Low Fat|    0.061101383|         Soft Drinks|151.9024|           OUT046|                     1997|      Small|              Tier 1|Supermarket Type1|        2580.6408| new|\n",
      "|          NCX06|       17.6|         Low Fat|    0.015687045|           Household|182.6976|           OUT046|                     1997|      Small|              Tier 1|Supermarket Type1|        3440.8544| new|\n",
      "|          NCX18|      14.15|         Low Fat|            0.0|           Household| 197.111|           OUT049|                     1999|     Medium|              Tier 1|Supermarket Type1|         3731.809| new|\n",
      "|          DRO59|       11.8|         Low Fat|    0.054238448|         Hard Drinks| 75.4012|           OUT049|                     1999|     Medium|              Tier 1|Supermarket Type1|         986.7156| new|\n",
      "|          FDL20|       17.1|         Low Fat|    0.128390273|Fruits and Vegeta...|111.9886|           OUT035|                     2004|      Small|              Tier 2|Supermarket Type1|        1445.4518| new|\n",
      "|          FDD26|       8.71|         Regular|    0.072155462|              Canned|183.3924|           OUT046|                     1997|      Small|              Tier 1|Supermarket Type1|        3146.5708| new|\n",
      "|          FDH22|      6.405|         Low Fat|    0.136512858|         Snack Foods|128.7678|           OUT049|                     1999|     Medium|              Tier 1|Supermarket Type1|        3052.0272| new|\n",
      "|          FDN15|       17.5|         Low Fat|    0.016802225|                Meat| 138.518|           OUT018|                     2009|     Medium|              Tier 3|Supermarket Type2|         2376.906| new|\n",
      "|          NCL55|      12.15|         Low Fat|     0.06464846|              Others| 253.404|           OUT035|                     2004|      Small|              Tier 2|Supermarket Type1|         4807.076| new|\n",
      "|          FDU24|       6.78|         Regular|            0.0|        Baking Goods|  95.012|           OUT049|                     1999|     Medium|              Tier 1|Supermarket Type1|         2050.664| new|\n",
      "|          NCX53|       20.1|         Low Fat|    0.014925407|  Health and Hygiene|143.4154|           OUT013|                     1987|       High|              Tier 3|Supermarket Type1|         3545.385| new|\n",
      "|          FDU57|       8.27|             reg|    0.089554186|         Snack Foods|150.8708|           OUT046|                     1997|      Small|              Tier 1|Supermarket Type1|        2407.5328| new|\n",
      "|          FDM45|      8.655|         Regular|     0.08819473|         Snack Foods|119.6756|           OUT046|                     1997|      Small|              Tier 1|Supermarket Type1|         2423.512| new|\n",
      "|          FDC59|       16.7|         Regular|    0.054851438|       Starchy Foods| 64.4168|           OUT018|                     2009|     Medium|              Tier 3|Supermarket Type2|         830.9184| new|\n",
      "|          FDT59|      13.65|         Low Fat|    0.015908424|              Breads|231.1668|           OUT035|                     2004|      Small|              Tier 2|Supermarket Type1|         6911.004| new|\n",
      "|          DRE25|      15.35|         Low Fat|    0.073269336|         Soft Drinks|  92.112|           OUT035|                     2004|      Small|              Tier 2|Supermarket Type1|         1118.544| new|\n",
      "|          FDD50|      18.85|         Low Fat|    0.141642219|              Canned|168.1132|           OUT046|                     1997|      Small|              Tier 1|Supermarket Type1|        2874.9244| new|\n",
      "|          NCN41|       17.0|         Low Fat|    0.052165855|  Health and Hygiene| 125.073|           OUT013|                     1987|       High|              Tier 3|Supermarket Type1|         1108.557| new|\n",
      "|          FDG26|      18.85|         Low Fat|    0.042641788|              Canned| 257.833|           OUT035|                     2004|      Small|              Tier 2|Supermarket Type1|         5382.993| new|\n",
      "+---------------+-----------+----------------+---------------+--------------------+--------+-----------------+-------------------------+-----------+--------------------+-----------------+-----------------+----+\n",
      "only showing top 20 rows\n",
      "\n"
     ]
    }
   ],
   "source": [
    "df.distinct().show()"
   ]
  },
  {
   "cell_type": "markdown",
   "metadata": {},
   "source": [
    "### UNION AND UNION BYNAME"
   ]
  },
  {
   "cell_type": "code",
   "execution_count": 53,
   "metadata": {},
   "outputs": [],
   "source": [
    "data1=[('1','kad'),\n",
    "       ('2','sid')]\n",
    "schema1='id STRING,name STRING'\n",
    "\n",
    "df1=spark.createDataFrame(data1,schema1)\n",
    "\n",
    "data2=[('3','rahul'),\n",
    "       ('4','jas')]\n",
    "schema2='id STRING,name STRING'\n",
    "\n",
    "df2=spark.createDataFrame(data2,schema2)\n",
    "\n",
    "\n"
   ]
  },
  {
   "cell_type": "code",
   "execution_count": 54,
   "metadata": {},
   "outputs": [
    {
     "name": "stdout",
     "output_type": "stream",
     "text": [
      "+---+----+\n",
      "| id|name|\n",
      "+---+----+\n",
      "|  1| kad|\n",
      "|  2| sid|\n",
      "+---+----+\n",
      "\n"
     ]
    }
   ],
   "source": [
    "df1.show()"
   ]
  },
  {
   "cell_type": "code",
   "execution_count": 55,
   "metadata": {},
   "outputs": [
    {
     "name": "stdout",
     "output_type": "stream",
     "text": [
      "+---+-----+\n",
      "| id| name|\n",
      "+---+-----+\n",
      "|  3|rahul|\n",
      "|  4|  jas|\n",
      "+---+-----+\n",
      "\n"
     ]
    }
   ],
   "source": [
    "df2.show()"
   ]
  },
  {
   "cell_type": "markdown",
   "metadata": {},
   "source": [
    "UNION"
   ]
  },
  {
   "cell_type": "code",
   "execution_count": 56,
   "metadata": {},
   "outputs": [
    {
     "name": "stdout",
     "output_type": "stream",
     "text": [
      "+---+-----+\n",
      "| id| name|\n",
      "+---+-----+\n",
      "|  1|  kad|\n",
      "|  2|  sid|\n",
      "|  3|rahul|\n",
      "|  4|  jas|\n",
      "+---+-----+\n",
      "\n"
     ]
    }
   ],
   "source": [
    "df1.union(df2).show()"
   ]
  },
  {
   "cell_type": "code",
   "execution_count": 58,
   "metadata": {},
   "outputs": [
    {
     "name": "stdout",
     "output_type": "stream",
     "text": [
      "+----+---+\n",
      "|name| id|\n",
      "+----+---+\n",
      "| kad|  1|\n",
      "| sid|  2|\n",
      "+----+---+\n",
      "\n"
     ]
    }
   ],
   "source": [
    "data1=[('kad','1'),\n",
    "       ('sid','2')]\n",
    "schema1='name STRING,id STRING'\n",
    "\n",
    "df1=spark.createDataFrame(data1,schema1)\n",
    "df1.show()"
   ]
  },
  {
   "cell_type": "code",
   "execution_count": 59,
   "metadata": {},
   "outputs": [
    {
     "name": "stdout",
     "output_type": "stream",
     "text": [
      "+----+-----+\n",
      "|name|   id|\n",
      "+----+-----+\n",
      "| kad|    1|\n",
      "| sid|    2|\n",
      "|   3|rahul|\n",
      "|   4|  jas|\n",
      "+----+-----+\n",
      "\n"
     ]
    }
   ],
   "source": [
    "df1.union(df2).show()"
   ]
  },
  {
   "cell_type": "markdown",
   "metadata": {},
   "source": [
    "UNION BY NAME"
   ]
  },
  {
   "cell_type": "code",
   "execution_count": 60,
   "metadata": {},
   "outputs": [
    {
     "name": "stdout",
     "output_type": "stream",
     "text": [
      "+-----+---+\n",
      "| name| id|\n",
      "+-----+---+\n",
      "|  kad|  1|\n",
      "|  sid|  2|\n",
      "|rahul|  3|\n",
      "|  jas|  4|\n",
      "+-----+---+\n",
      "\n"
     ]
    }
   ],
   "source": [
    "df1.unionByName(df2).show()"
   ]
  },
  {
   "cell_type": "markdown",
   "metadata": {},
   "source": [
    "### STRING FUNCTIONS"
   ]
  },
  {
   "cell_type": "markdown",
   "metadata": {},
   "source": [
    "INITCAP()\n",
    "\n",
    "UPPER()\n",
    "\n",
    "LOWER()"
   ]
  },
  {
   "cell_type": "code",
   "execution_count": 5,
   "metadata": {},
   "outputs": [
    {
     "name": "stdout",
     "output_type": "stream",
     "text": [
      "+---------------+-----------+----------------+---------------+--------------------+--------+-----------------+-------------------------+-----------+--------------------+-----------------+-----------------+\n",
      "|Item_Identifier|Item_Weight|Item_Fat_Content|Item_Visibility|           Item_Type|Item_MRP|Outlet_Identifier|Outlet_Establishment_Year|Outlet_Size|Outlet_Location_Type|      Outlet_Type|Item_Outlet_Sales|\n",
      "+---------------+-----------+----------------+---------------+--------------------+--------+-----------------+-------------------------+-----------+--------------------+-----------------+-----------------+\n",
      "|          FDA15|        9.3|         Low Fat|    0.016047301|               Dairy|249.8092|           OUT049|                     1999|     Medium|              Tier 1|Supermarket Type1|         3735.138|\n",
      "|          DRC01|       5.92|         Regular|    0.019278216|         Soft Drinks| 48.2692|           OUT018|                     2009|     Medium|              Tier 3|Supermarket Type2|         443.4228|\n",
      "|          FDN15|       17.5|         Low Fat|    0.016760075|                Meat| 141.618|           OUT049|                     1999|     Medium|              Tier 1|Supermarket Type1|          2097.27|\n",
      "|          FDX07|       19.2|         Regular|            0.0|Fruits and Vegeta...| 182.095|           OUT010|                     1998|       NULL|              Tier 3|    Grocery Store|           732.38|\n",
      "|          NCD19|       8.93|         Low Fat|            0.0|           Household| 53.8614|           OUT013|                     1987|       High|              Tier 3|Supermarket Type1|         994.7052|\n",
      "|          FDP36|     10.395|         Regular|            0.0|        Baking Goods| 51.4008|           OUT018|                     2009|     Medium|              Tier 3|Supermarket Type2|         556.6088|\n",
      "|          FDO10|      13.65|         Regular|    0.012741089|         Snack Foods| 57.6588|           OUT013|                     1987|       High|              Tier 3|Supermarket Type1|         343.5528|\n",
      "|          FDP10|       NULL|         Low Fat|    0.127469857|         Snack Foods|107.7622|           OUT027|                     1985|     Medium|              Tier 3|Supermarket Type3|        4022.7636|\n",
      "|          FDH17|       16.2|         Regular|    0.016687114|        Frozen Foods| 96.9726|           OUT045|                     2002|       NULL|              Tier 2|Supermarket Type1|        1076.5986|\n",
      "|          FDU28|       19.2|         Regular|     0.09444959|        Frozen Foods|187.8214|           OUT017|                     2007|       NULL|              Tier 2|Supermarket Type1|         4710.535|\n",
      "|          FDY07|       11.8|         Low Fat|            0.0|Fruits and Vegeta...| 45.5402|           OUT049|                     1999|     Medium|              Tier 1|Supermarket Type1|        1516.0266|\n",
      "|          FDA03|       18.5|         Regular|    0.045463773|               Dairy|144.1102|           OUT046|                     1997|      Small|              Tier 1|Supermarket Type1|         2187.153|\n",
      "|          FDX32|       15.1|         Regular|      0.1000135|Fruits and Vegeta...|145.4786|           OUT049|                     1999|     Medium|              Tier 1|Supermarket Type1|        1589.2646|\n",
      "|          FDS46|       17.6|         Regular|    0.047257328|         Snack Foods|119.6782|           OUT046|                     1997|      Small|              Tier 1|Supermarket Type1|        2145.2076|\n",
      "|          FDF32|      16.35|         Low Fat|      0.0680243|Fruits and Vegeta...|196.4426|           OUT013|                     1987|       High|              Tier 3|Supermarket Type1|         1977.426|\n",
      "|          FDP49|        9.0|         Regular|    0.069088961|           Breakfast| 56.3614|           OUT046|                     1997|      Small|              Tier 1|Supermarket Type1|        1547.3192|\n",
      "|          NCB42|       11.8|         Low Fat|    0.008596051|  Health and Hygiene|115.3492|           OUT018|                     2009|     Medium|              Tier 3|Supermarket Type2|        1621.8888|\n",
      "|          FDP49|        9.0|         Regular|    0.069196376|           Breakfast| 54.3614|           OUT049|                     1999|     Medium|              Tier 1|Supermarket Type1|         718.3982|\n",
      "|          DRI11|       NULL|         Low Fat|    0.034237682|         Hard Drinks|113.2834|           OUT027|                     1985|     Medium|              Tier 3|Supermarket Type3|         2303.668|\n",
      "|          FDU02|      13.35|         Low Fat|     0.10249212|               Dairy|230.5352|           OUT035|                     2004|      Small|              Tier 2|Supermarket Type1|        2748.4224|\n",
      "+---------------+-----------+----------------+---------------+--------------------+--------+-----------------+-------------------------+-----------+--------------------+-----------------+-----------------+\n",
      "only showing top 20 rows\n",
      "\n"
     ]
    }
   ],
   "source": [
    "df.show()"
   ]
  },
  {
   "cell_type": "markdown",
   "metadata": {},
   "source": [
    "Initcap()"
   ]
  },
  {
   "cell_type": "code",
   "execution_count": 6,
   "metadata": {},
   "outputs": [
    {
     "name": "stdout",
     "output_type": "stream",
     "text": [
      "+---------------------+\n",
      "|initcap(Item_Type)   |\n",
      "+---------------------+\n",
      "|Dairy                |\n",
      "|Soft Drinks          |\n",
      "|Meat                 |\n",
      "|Fruits And Vegetables|\n",
      "|Household            |\n",
      "|Baking Goods         |\n",
      "|Snack Foods          |\n",
      "|Snack Foods          |\n",
      "|Frozen Foods         |\n",
      "|Frozen Foods         |\n",
      "|Fruits And Vegetables|\n",
      "|Dairy                |\n",
      "|Fruits And Vegetables|\n",
      "|Snack Foods          |\n",
      "|Fruits And Vegetables|\n",
      "|Breakfast            |\n",
      "|Health And Hygiene   |\n",
      "|Breakfast            |\n",
      "|Hard Drinks          |\n",
      "|Dairy                |\n",
      "+---------------------+\n",
      "only showing top 20 rows\n",
      "\n"
     ]
    }
   ],
   "source": [
    "df.select(initcap('Item_Type')).show(truncate=False)"
   ]
  },
  {
   "cell_type": "markdown",
   "metadata": {},
   "source": [
    "upper() and lower()"
   ]
  },
  {
   "cell_type": "code",
   "execution_count": 7,
   "metadata": {},
   "outputs": [
    {
     "name": "stdout",
     "output_type": "stream",
     "text": [
      "+---------------------+\n",
      "|Upper_Item_Type      |\n",
      "+---------------------+\n",
      "|DAIRY                |\n",
      "|SOFT DRINKS          |\n",
      "|MEAT                 |\n",
      "|FRUITS AND VEGETABLES|\n",
      "|HOUSEHOLD            |\n",
      "|BAKING GOODS         |\n",
      "|SNACK FOODS          |\n",
      "|SNACK FOODS          |\n",
      "|FROZEN FOODS         |\n",
      "|FROZEN FOODS         |\n",
      "|FRUITS AND VEGETABLES|\n",
      "|DAIRY                |\n",
      "|FRUITS AND VEGETABLES|\n",
      "|SNACK FOODS          |\n",
      "|FRUITS AND VEGETABLES|\n",
      "|BREAKFAST            |\n",
      "|HEALTH AND HYGIENE   |\n",
      "|BREAKFAST            |\n",
      "|HARD DRINKS          |\n",
      "|DAIRY                |\n",
      "+---------------------+\n",
      "only showing top 20 rows\n",
      "\n",
      "+---------------------+\n",
      "|lower(Item_Type)     |\n",
      "+---------------------+\n",
      "|dairy                |\n",
      "|soft drinks          |\n",
      "|meat                 |\n",
      "|fruits and vegetables|\n",
      "|household            |\n",
      "|baking goods         |\n",
      "|snack foods          |\n",
      "|snack foods          |\n",
      "|frozen foods         |\n",
      "|frozen foods         |\n",
      "|fruits and vegetables|\n",
      "|dairy                |\n",
      "|fruits and vegetables|\n",
      "|snack foods          |\n",
      "|fruits and vegetables|\n",
      "|breakfast            |\n",
      "|health and hygiene   |\n",
      "|breakfast            |\n",
      "|hard drinks          |\n",
      "|dairy                |\n",
      "+---------------------+\n",
      "only showing top 20 rows\n",
      "\n"
     ]
    }
   ],
   "source": [
    "df.select(upper('Item_Type').alias('Upper_Item_Type')).show(truncate=False)\n",
    "df.select(lower('Item_Type')).show(truncate=False)"
   ]
  },
  {
   "cell_type": "markdown",
   "metadata": {},
   "source": [
    "### DATE FUNCTIONS"
   ]
  },
  {
   "cell_type": "markdown",
   "metadata": {},
   "source": [
    "CURRENT_DATE()\n",
    "DATE_ADD()\n",
    "DATE_SUB()"
   ]
  },
  {
   "cell_type": "markdown",
   "metadata": {},
   "source": [
    "Current_Date"
   ]
  },
  {
   "cell_type": "code",
   "execution_count": 44,
   "metadata": {},
   "outputs": [],
   "source": [
    "df=spark.read.format('csv')\\\n",
    "            .option('inferSchema',True)\\\n",
    "            .option('header',True)\\\n",
    "            .load('BigMart_Sales.csv')"
   ]
  },
  {
   "cell_type": "code",
   "execution_count": 45,
   "metadata": {},
   "outputs": [
    {
     "name": "stdout",
     "output_type": "stream",
     "text": [
      "+---------------+-----------+----------------+---------------+--------------------+--------+-----------------+-------------------------+-----------+--------------------+-----------------+-----------------+----------+\n",
      "|Item_Identifier|Item_Weight|Item_Fat_Content|Item_Visibility|           Item_Type|Item_MRP|Outlet_Identifier|Outlet_Establishment_Year|Outlet_Size|Outlet_Location_Type|      Outlet_Type|Item_Outlet_Sales| curr_date|\n",
      "+---------------+-----------+----------------+---------------+--------------------+--------+-----------------+-------------------------+-----------+--------------------+-----------------+-----------------+----------+\n",
      "|          FDA15|        9.3|         Low Fat|    0.016047301|               Dairy|249.8092|           OUT049|                     1999|     Medium|              Tier 1|Supermarket Type1|         3735.138|2025-04-05|\n",
      "|          DRC01|       5.92|         Regular|    0.019278216|         Soft Drinks| 48.2692|           OUT018|                     2009|     Medium|              Tier 3|Supermarket Type2|         443.4228|2025-04-05|\n",
      "|          FDN15|       17.5|         Low Fat|    0.016760075|                Meat| 141.618|           OUT049|                     1999|     Medium|              Tier 1|Supermarket Type1|          2097.27|2025-04-05|\n",
      "|          FDX07|       19.2|         Regular|            0.0|Fruits and Vegeta...| 182.095|           OUT010|                     1998|       NULL|              Tier 3|    Grocery Store|           732.38|2025-04-05|\n",
      "|          NCD19|       8.93|         Low Fat|            0.0|           Household| 53.8614|           OUT013|                     1987|       High|              Tier 3|Supermarket Type1|         994.7052|2025-04-05|\n",
      "|          FDP36|     10.395|         Regular|            0.0|        Baking Goods| 51.4008|           OUT018|                     2009|     Medium|              Tier 3|Supermarket Type2|         556.6088|2025-04-05|\n",
      "|          FDO10|      13.65|         Regular|    0.012741089|         Snack Foods| 57.6588|           OUT013|                     1987|       High|              Tier 3|Supermarket Type1|         343.5528|2025-04-05|\n",
      "|          FDP10|       NULL|         Low Fat|    0.127469857|         Snack Foods|107.7622|           OUT027|                     1985|     Medium|              Tier 3|Supermarket Type3|        4022.7636|2025-04-05|\n",
      "|          FDH17|       16.2|         Regular|    0.016687114|        Frozen Foods| 96.9726|           OUT045|                     2002|       NULL|              Tier 2|Supermarket Type1|        1076.5986|2025-04-05|\n",
      "|          FDU28|       19.2|         Regular|     0.09444959|        Frozen Foods|187.8214|           OUT017|                     2007|       NULL|              Tier 2|Supermarket Type1|         4710.535|2025-04-05|\n",
      "|          FDY07|       11.8|         Low Fat|            0.0|Fruits and Vegeta...| 45.5402|           OUT049|                     1999|     Medium|              Tier 1|Supermarket Type1|        1516.0266|2025-04-05|\n",
      "|          FDA03|       18.5|         Regular|    0.045463773|               Dairy|144.1102|           OUT046|                     1997|      Small|              Tier 1|Supermarket Type1|         2187.153|2025-04-05|\n",
      "|          FDX32|       15.1|         Regular|      0.1000135|Fruits and Vegeta...|145.4786|           OUT049|                     1999|     Medium|              Tier 1|Supermarket Type1|        1589.2646|2025-04-05|\n",
      "|          FDS46|       17.6|         Regular|    0.047257328|         Snack Foods|119.6782|           OUT046|                     1997|      Small|              Tier 1|Supermarket Type1|        2145.2076|2025-04-05|\n",
      "|          FDF32|      16.35|         Low Fat|      0.0680243|Fruits and Vegeta...|196.4426|           OUT013|                     1987|       High|              Tier 3|Supermarket Type1|         1977.426|2025-04-05|\n",
      "|          FDP49|        9.0|         Regular|    0.069088961|           Breakfast| 56.3614|           OUT046|                     1997|      Small|              Tier 1|Supermarket Type1|        1547.3192|2025-04-05|\n",
      "|          NCB42|       11.8|         Low Fat|    0.008596051|  Health and Hygiene|115.3492|           OUT018|                     2009|     Medium|              Tier 3|Supermarket Type2|        1621.8888|2025-04-05|\n",
      "|          FDP49|        9.0|         Regular|    0.069196376|           Breakfast| 54.3614|           OUT049|                     1999|     Medium|              Tier 1|Supermarket Type1|         718.3982|2025-04-05|\n",
      "|          DRI11|       NULL|         Low Fat|    0.034237682|         Hard Drinks|113.2834|           OUT027|                     1985|     Medium|              Tier 3|Supermarket Type3|         2303.668|2025-04-05|\n",
      "|          FDU02|      13.35|         Low Fat|     0.10249212|               Dairy|230.5352|           OUT035|                     2004|      Small|              Tier 2|Supermarket Type1|        2748.4224|2025-04-05|\n",
      "+---------------+-----------+----------------+---------------+--------------------+--------+-----------------+-------------------------+-----------+--------------------+-----------------+-----------------+----------+\n",
      "only showing top 20 rows\n",
      "\n"
     ]
    }
   ],
   "source": [
    "df=df.withColumn('curr_date',current_date())\n",
    "df.show()"
   ]
  },
  {
   "cell_type": "markdown",
   "metadata": {},
   "source": [
    "Date_Add()"
   ]
  },
  {
   "cell_type": "code",
   "execution_count": 46,
   "metadata": {},
   "outputs": [
    {
     "name": "stdout",
     "output_type": "stream",
     "text": [
      "+---------------+-----------+----------------+---------------+--------------------+--------+-----------------+-------------------------+-----------+--------------------+-----------------+-----------------+----------+----------+\n",
      "|Item_Identifier|Item_Weight|Item_Fat_Content|Item_Visibility|           Item_Type|Item_MRP|Outlet_Identifier|Outlet_Establishment_Year|Outlet_Size|Outlet_Location_Type|      Outlet_Type|Item_Outlet_Sales| curr_date|week_after|\n",
      "+---------------+-----------+----------------+---------------+--------------------+--------+-----------------+-------------------------+-----------+--------------------+-----------------+-----------------+----------+----------+\n",
      "|          FDA15|        9.3|         Low Fat|    0.016047301|               Dairy|249.8092|           OUT049|                     1999|     Medium|              Tier 1|Supermarket Type1|         3735.138|2025-04-05|2025-04-12|\n",
      "|          DRC01|       5.92|         Regular|    0.019278216|         Soft Drinks| 48.2692|           OUT018|                     2009|     Medium|              Tier 3|Supermarket Type2|         443.4228|2025-04-05|2025-04-12|\n",
      "|          FDN15|       17.5|         Low Fat|    0.016760075|                Meat| 141.618|           OUT049|                     1999|     Medium|              Tier 1|Supermarket Type1|          2097.27|2025-04-05|2025-04-12|\n",
      "|          FDX07|       19.2|         Regular|            0.0|Fruits and Vegeta...| 182.095|           OUT010|                     1998|       NULL|              Tier 3|    Grocery Store|           732.38|2025-04-05|2025-04-12|\n",
      "|          NCD19|       8.93|         Low Fat|            0.0|           Household| 53.8614|           OUT013|                     1987|       High|              Tier 3|Supermarket Type1|         994.7052|2025-04-05|2025-04-12|\n",
      "|          FDP36|     10.395|         Regular|            0.0|        Baking Goods| 51.4008|           OUT018|                     2009|     Medium|              Tier 3|Supermarket Type2|         556.6088|2025-04-05|2025-04-12|\n",
      "|          FDO10|      13.65|         Regular|    0.012741089|         Snack Foods| 57.6588|           OUT013|                     1987|       High|              Tier 3|Supermarket Type1|         343.5528|2025-04-05|2025-04-12|\n",
      "|          FDP10|       NULL|         Low Fat|    0.127469857|         Snack Foods|107.7622|           OUT027|                     1985|     Medium|              Tier 3|Supermarket Type3|        4022.7636|2025-04-05|2025-04-12|\n",
      "|          FDH17|       16.2|         Regular|    0.016687114|        Frozen Foods| 96.9726|           OUT045|                     2002|       NULL|              Tier 2|Supermarket Type1|        1076.5986|2025-04-05|2025-04-12|\n",
      "|          FDU28|       19.2|         Regular|     0.09444959|        Frozen Foods|187.8214|           OUT017|                     2007|       NULL|              Tier 2|Supermarket Type1|         4710.535|2025-04-05|2025-04-12|\n",
      "|          FDY07|       11.8|         Low Fat|            0.0|Fruits and Vegeta...| 45.5402|           OUT049|                     1999|     Medium|              Tier 1|Supermarket Type1|        1516.0266|2025-04-05|2025-04-12|\n",
      "|          FDA03|       18.5|         Regular|    0.045463773|               Dairy|144.1102|           OUT046|                     1997|      Small|              Tier 1|Supermarket Type1|         2187.153|2025-04-05|2025-04-12|\n",
      "|          FDX32|       15.1|         Regular|      0.1000135|Fruits and Vegeta...|145.4786|           OUT049|                     1999|     Medium|              Tier 1|Supermarket Type1|        1589.2646|2025-04-05|2025-04-12|\n",
      "|          FDS46|       17.6|         Regular|    0.047257328|         Snack Foods|119.6782|           OUT046|                     1997|      Small|              Tier 1|Supermarket Type1|        2145.2076|2025-04-05|2025-04-12|\n",
      "|          FDF32|      16.35|         Low Fat|      0.0680243|Fruits and Vegeta...|196.4426|           OUT013|                     1987|       High|              Tier 3|Supermarket Type1|         1977.426|2025-04-05|2025-04-12|\n",
      "|          FDP49|        9.0|         Regular|    0.069088961|           Breakfast| 56.3614|           OUT046|                     1997|      Small|              Tier 1|Supermarket Type1|        1547.3192|2025-04-05|2025-04-12|\n",
      "|          NCB42|       11.8|         Low Fat|    0.008596051|  Health and Hygiene|115.3492|           OUT018|                     2009|     Medium|              Tier 3|Supermarket Type2|        1621.8888|2025-04-05|2025-04-12|\n",
      "|          FDP49|        9.0|         Regular|    0.069196376|           Breakfast| 54.3614|           OUT049|                     1999|     Medium|              Tier 1|Supermarket Type1|         718.3982|2025-04-05|2025-04-12|\n",
      "|          DRI11|       NULL|         Low Fat|    0.034237682|         Hard Drinks|113.2834|           OUT027|                     1985|     Medium|              Tier 3|Supermarket Type3|         2303.668|2025-04-05|2025-04-12|\n",
      "|          FDU02|      13.35|         Low Fat|     0.10249212|               Dairy|230.5352|           OUT035|                     2004|      Small|              Tier 2|Supermarket Type1|        2748.4224|2025-04-05|2025-04-12|\n",
      "+---------------+-----------+----------------+---------------+--------------------+--------+-----------------+-------------------------+-----------+--------------------+-----------------+-----------------+----------+----------+\n",
      "only showing top 20 rows\n",
      "\n"
     ]
    }
   ],
   "source": [
    "from pyspark.sql.functions import date_add\n",
    "df_add=df.withColumn('week_after',date_add('curr_date',7))\n",
    "df_add.show()"
   ]
  },
  {
   "cell_type": "code",
   "execution_count": 47,
   "metadata": {},
   "outputs": [
    {
     "name": "stdout",
     "output_type": "stream",
     "text": [
      "+---------------+-----------+----------------+---------------+--------------------+--------+-----------------+-------------------------+-----------+--------------------+-----------------+-----------------+----------+----------+-----------+\n",
      "|Item_Identifier|Item_Weight|Item_Fat_Content|Item_Visibility|           Item_Type|Item_MRP|Outlet_Identifier|Outlet_Establishment_Year|Outlet_Size|Outlet_Location_Type|      Outlet_Type|Item_Outlet_Sales| curr_date|week_after|week_before|\n",
      "+---------------+-----------+----------------+---------------+--------------------+--------+-----------------+-------------------------+-----------+--------------------+-----------------+-----------------+----------+----------+-----------+\n",
      "|          FDA15|        9.3|         Low Fat|    0.016047301|               Dairy|249.8092|           OUT049|                     1999|     Medium|              Tier 1|Supermarket Type1|         3735.138|2025-04-05|2025-04-12| 2025-03-29|\n",
      "|          DRC01|       5.92|         Regular|    0.019278216|         Soft Drinks| 48.2692|           OUT018|                     2009|     Medium|              Tier 3|Supermarket Type2|         443.4228|2025-04-05|2025-04-12| 2025-03-29|\n",
      "|          FDN15|       17.5|         Low Fat|    0.016760075|                Meat| 141.618|           OUT049|                     1999|     Medium|              Tier 1|Supermarket Type1|          2097.27|2025-04-05|2025-04-12| 2025-03-29|\n",
      "|          FDX07|       19.2|         Regular|            0.0|Fruits and Vegeta...| 182.095|           OUT010|                     1998|       NULL|              Tier 3|    Grocery Store|           732.38|2025-04-05|2025-04-12| 2025-03-29|\n",
      "|          NCD19|       8.93|         Low Fat|            0.0|           Household| 53.8614|           OUT013|                     1987|       High|              Tier 3|Supermarket Type1|         994.7052|2025-04-05|2025-04-12| 2025-03-29|\n",
      "|          FDP36|     10.395|         Regular|            0.0|        Baking Goods| 51.4008|           OUT018|                     2009|     Medium|              Tier 3|Supermarket Type2|         556.6088|2025-04-05|2025-04-12| 2025-03-29|\n",
      "|          FDO10|      13.65|         Regular|    0.012741089|         Snack Foods| 57.6588|           OUT013|                     1987|       High|              Tier 3|Supermarket Type1|         343.5528|2025-04-05|2025-04-12| 2025-03-29|\n",
      "|          FDP10|       NULL|         Low Fat|    0.127469857|         Snack Foods|107.7622|           OUT027|                     1985|     Medium|              Tier 3|Supermarket Type3|        4022.7636|2025-04-05|2025-04-12| 2025-03-29|\n",
      "|          FDH17|       16.2|         Regular|    0.016687114|        Frozen Foods| 96.9726|           OUT045|                     2002|       NULL|              Tier 2|Supermarket Type1|        1076.5986|2025-04-05|2025-04-12| 2025-03-29|\n",
      "|          FDU28|       19.2|         Regular|     0.09444959|        Frozen Foods|187.8214|           OUT017|                     2007|       NULL|              Tier 2|Supermarket Type1|         4710.535|2025-04-05|2025-04-12| 2025-03-29|\n",
      "|          FDY07|       11.8|         Low Fat|            0.0|Fruits and Vegeta...| 45.5402|           OUT049|                     1999|     Medium|              Tier 1|Supermarket Type1|        1516.0266|2025-04-05|2025-04-12| 2025-03-29|\n",
      "|          FDA03|       18.5|         Regular|    0.045463773|               Dairy|144.1102|           OUT046|                     1997|      Small|              Tier 1|Supermarket Type1|         2187.153|2025-04-05|2025-04-12| 2025-03-29|\n",
      "|          FDX32|       15.1|         Regular|      0.1000135|Fruits and Vegeta...|145.4786|           OUT049|                     1999|     Medium|              Tier 1|Supermarket Type1|        1589.2646|2025-04-05|2025-04-12| 2025-03-29|\n",
      "|          FDS46|       17.6|         Regular|    0.047257328|         Snack Foods|119.6782|           OUT046|                     1997|      Small|              Tier 1|Supermarket Type1|        2145.2076|2025-04-05|2025-04-12| 2025-03-29|\n",
      "|          FDF32|      16.35|         Low Fat|      0.0680243|Fruits and Vegeta...|196.4426|           OUT013|                     1987|       High|              Tier 3|Supermarket Type1|         1977.426|2025-04-05|2025-04-12| 2025-03-29|\n",
      "|          FDP49|        9.0|         Regular|    0.069088961|           Breakfast| 56.3614|           OUT046|                     1997|      Small|              Tier 1|Supermarket Type1|        1547.3192|2025-04-05|2025-04-12| 2025-03-29|\n",
      "|          NCB42|       11.8|         Low Fat|    0.008596051|  Health and Hygiene|115.3492|           OUT018|                     2009|     Medium|              Tier 3|Supermarket Type2|        1621.8888|2025-04-05|2025-04-12| 2025-03-29|\n",
      "|          FDP49|        9.0|         Regular|    0.069196376|           Breakfast| 54.3614|           OUT049|                     1999|     Medium|              Tier 1|Supermarket Type1|         718.3982|2025-04-05|2025-04-12| 2025-03-29|\n",
      "|          DRI11|       NULL|         Low Fat|    0.034237682|         Hard Drinks|113.2834|           OUT027|                     1985|     Medium|              Tier 3|Supermarket Type3|         2303.668|2025-04-05|2025-04-12| 2025-03-29|\n",
      "|          FDU02|      13.35|         Low Fat|     0.10249212|               Dairy|230.5352|           OUT035|                     2004|      Small|              Tier 2|Supermarket Type1|        2748.4224|2025-04-05|2025-04-12| 2025-03-29|\n",
      "+---------------+-----------+----------------+---------------+--------------------+--------+-----------------+-------------------------+-----------+--------------------+-----------------+-----------------+----------+----------+-----------+\n",
      "only showing top 20 rows\n",
      "\n"
     ]
    }
   ],
   "source": [
    "df=df_add.withColumn('week_before',date_sub('curr_date',7))\n",
    "#you can also do same with -7 in date add\n",
    "df.show()"
   ]
  },
  {
   "cell_type": "markdown",
   "metadata": {},
   "source": [
    "### DATEDIFF"
   ]
  },
  {
   "cell_type": "code",
   "execution_count": 48,
   "metadata": {},
   "outputs": [
    {
     "name": "stdout",
     "output_type": "stream",
     "text": [
      "+---------------+-----------+----------------+---------------+--------------------+--------+-----------------+-------------------------+-----------+--------------------+-----------------+-----------------+----------+----------+-----------+---------+\n",
      "|Item_Identifier|Item_Weight|Item_Fat_Content|Item_Visibility|           Item_Type|Item_MRP|Outlet_Identifier|Outlet_Establishment_Year|Outlet_Size|Outlet_Location_Type|      Outlet_Type|Item_Outlet_Sales| curr_date|week_after|week_before|date_diff|\n",
      "+---------------+-----------+----------------+---------------+--------------------+--------+-----------------+-------------------------+-----------+--------------------+-----------------+-----------------+----------+----------+-----------+---------+\n",
      "|          FDA15|        9.3|         Low Fat|    0.016047301|               Dairy|249.8092|           OUT049|                     1999|     Medium|              Tier 1|Supermarket Type1|         3735.138|2025-04-05|2025-04-12| 2025-03-29|       -7|\n",
      "|          DRC01|       5.92|         Regular|    0.019278216|         Soft Drinks| 48.2692|           OUT018|                     2009|     Medium|              Tier 3|Supermarket Type2|         443.4228|2025-04-05|2025-04-12| 2025-03-29|       -7|\n",
      "|          FDN15|       17.5|         Low Fat|    0.016760075|                Meat| 141.618|           OUT049|                     1999|     Medium|              Tier 1|Supermarket Type1|          2097.27|2025-04-05|2025-04-12| 2025-03-29|       -7|\n",
      "|          FDX07|       19.2|         Regular|            0.0|Fruits and Vegeta...| 182.095|           OUT010|                     1998|       NULL|              Tier 3|    Grocery Store|           732.38|2025-04-05|2025-04-12| 2025-03-29|       -7|\n",
      "|          NCD19|       8.93|         Low Fat|            0.0|           Household| 53.8614|           OUT013|                     1987|       High|              Tier 3|Supermarket Type1|         994.7052|2025-04-05|2025-04-12| 2025-03-29|       -7|\n",
      "|          FDP36|     10.395|         Regular|            0.0|        Baking Goods| 51.4008|           OUT018|                     2009|     Medium|              Tier 3|Supermarket Type2|         556.6088|2025-04-05|2025-04-12| 2025-03-29|       -7|\n",
      "|          FDO10|      13.65|         Regular|    0.012741089|         Snack Foods| 57.6588|           OUT013|                     1987|       High|              Tier 3|Supermarket Type1|         343.5528|2025-04-05|2025-04-12| 2025-03-29|       -7|\n",
      "|          FDP10|       NULL|         Low Fat|    0.127469857|         Snack Foods|107.7622|           OUT027|                     1985|     Medium|              Tier 3|Supermarket Type3|        4022.7636|2025-04-05|2025-04-12| 2025-03-29|       -7|\n",
      "|          FDH17|       16.2|         Regular|    0.016687114|        Frozen Foods| 96.9726|           OUT045|                     2002|       NULL|              Tier 2|Supermarket Type1|        1076.5986|2025-04-05|2025-04-12| 2025-03-29|       -7|\n",
      "|          FDU28|       19.2|         Regular|     0.09444959|        Frozen Foods|187.8214|           OUT017|                     2007|       NULL|              Tier 2|Supermarket Type1|         4710.535|2025-04-05|2025-04-12| 2025-03-29|       -7|\n",
      "|          FDY07|       11.8|         Low Fat|            0.0|Fruits and Vegeta...| 45.5402|           OUT049|                     1999|     Medium|              Tier 1|Supermarket Type1|        1516.0266|2025-04-05|2025-04-12| 2025-03-29|       -7|\n",
      "|          FDA03|       18.5|         Regular|    0.045463773|               Dairy|144.1102|           OUT046|                     1997|      Small|              Tier 1|Supermarket Type1|         2187.153|2025-04-05|2025-04-12| 2025-03-29|       -7|\n",
      "|          FDX32|       15.1|         Regular|      0.1000135|Fruits and Vegeta...|145.4786|           OUT049|                     1999|     Medium|              Tier 1|Supermarket Type1|        1589.2646|2025-04-05|2025-04-12| 2025-03-29|       -7|\n",
      "|          FDS46|       17.6|         Regular|    0.047257328|         Snack Foods|119.6782|           OUT046|                     1997|      Small|              Tier 1|Supermarket Type1|        2145.2076|2025-04-05|2025-04-12| 2025-03-29|       -7|\n",
      "|          FDF32|      16.35|         Low Fat|      0.0680243|Fruits and Vegeta...|196.4426|           OUT013|                     1987|       High|              Tier 3|Supermarket Type1|         1977.426|2025-04-05|2025-04-12| 2025-03-29|       -7|\n",
      "|          FDP49|        9.0|         Regular|    0.069088961|           Breakfast| 56.3614|           OUT046|                     1997|      Small|              Tier 1|Supermarket Type1|        1547.3192|2025-04-05|2025-04-12| 2025-03-29|       -7|\n",
      "|          NCB42|       11.8|         Low Fat|    0.008596051|  Health and Hygiene|115.3492|           OUT018|                     2009|     Medium|              Tier 3|Supermarket Type2|        1621.8888|2025-04-05|2025-04-12| 2025-03-29|       -7|\n",
      "|          FDP49|        9.0|         Regular|    0.069196376|           Breakfast| 54.3614|           OUT049|                     1999|     Medium|              Tier 1|Supermarket Type1|         718.3982|2025-04-05|2025-04-12| 2025-03-29|       -7|\n",
      "|          DRI11|       NULL|         Low Fat|    0.034237682|         Hard Drinks|113.2834|           OUT027|                     1985|     Medium|              Tier 3|Supermarket Type3|         2303.668|2025-04-05|2025-04-12| 2025-03-29|       -7|\n",
      "|          FDU02|      13.35|         Low Fat|     0.10249212|               Dairy|230.5352|           OUT035|                     2004|      Small|              Tier 2|Supermarket Type1|        2748.4224|2025-04-05|2025-04-12| 2025-03-29|       -7|\n",
      "+---------------+-----------+----------------+---------------+--------------------+--------+-----------------+-------------------------+-----------+--------------------+-----------------+-----------------+----------+----------+-----------+---------+\n",
      "only showing top 20 rows\n",
      "\n"
     ]
    }
   ],
   "source": [
    "df=df.withColumn('date_diff',date_diff('curr_date','week_after'))\n",
    "df.show()"
   ]
  },
  {
   "cell_type": "markdown",
   "metadata": {},
   "source": [
    "### Date_Format"
   ]
  },
  {
   "cell_type": "code",
   "execution_count": 49,
   "metadata": {},
   "outputs": [
    {
     "name": "stdout",
     "output_type": "stream",
     "text": [
      "+---------------+-----------+----------------+---------------+--------------------+--------+-----------------+-------------------------+-----------+--------------------+-----------------+-----------------+----------+----------+-----------+---------+\n",
      "|Item_Identifier|Item_Weight|Item_Fat_Content|Item_Visibility|           Item_Type|Item_MRP|Outlet_Identifier|Outlet_Establishment_Year|Outlet_Size|Outlet_Location_Type|      Outlet_Type|Item_Outlet_Sales| curr_date|week_after|week_before|date_diff|\n",
      "+---------------+-----------+----------------+---------------+--------------------+--------+-----------------+-------------------------+-----------+--------------------+-----------------+-----------------+----------+----------+-----------+---------+\n",
      "|          FDA15|        9.3|         Low Fat|    0.016047301|               Dairy|249.8092|           OUT049|                     1999|     Medium|              Tier 1|Supermarket Type1|         3735.138|2025-04-05|2025-04-12| 29-03-2025|       -7|\n",
      "|          DRC01|       5.92|         Regular|    0.019278216|         Soft Drinks| 48.2692|           OUT018|                     2009|     Medium|              Tier 3|Supermarket Type2|         443.4228|2025-04-05|2025-04-12| 29-03-2025|       -7|\n",
      "|          FDN15|       17.5|         Low Fat|    0.016760075|                Meat| 141.618|           OUT049|                     1999|     Medium|              Tier 1|Supermarket Type1|          2097.27|2025-04-05|2025-04-12| 29-03-2025|       -7|\n",
      "|          FDX07|       19.2|         Regular|            0.0|Fruits and Vegeta...| 182.095|           OUT010|                     1998|       NULL|              Tier 3|    Grocery Store|           732.38|2025-04-05|2025-04-12| 29-03-2025|       -7|\n",
      "|          NCD19|       8.93|         Low Fat|            0.0|           Household| 53.8614|           OUT013|                     1987|       High|              Tier 3|Supermarket Type1|         994.7052|2025-04-05|2025-04-12| 29-03-2025|       -7|\n",
      "|          FDP36|     10.395|         Regular|            0.0|        Baking Goods| 51.4008|           OUT018|                     2009|     Medium|              Tier 3|Supermarket Type2|         556.6088|2025-04-05|2025-04-12| 29-03-2025|       -7|\n",
      "|          FDO10|      13.65|         Regular|    0.012741089|         Snack Foods| 57.6588|           OUT013|                     1987|       High|              Tier 3|Supermarket Type1|         343.5528|2025-04-05|2025-04-12| 29-03-2025|       -7|\n",
      "|          FDP10|       NULL|         Low Fat|    0.127469857|         Snack Foods|107.7622|           OUT027|                     1985|     Medium|              Tier 3|Supermarket Type3|        4022.7636|2025-04-05|2025-04-12| 29-03-2025|       -7|\n",
      "|          FDH17|       16.2|         Regular|    0.016687114|        Frozen Foods| 96.9726|           OUT045|                     2002|       NULL|              Tier 2|Supermarket Type1|        1076.5986|2025-04-05|2025-04-12| 29-03-2025|       -7|\n",
      "|          FDU28|       19.2|         Regular|     0.09444959|        Frozen Foods|187.8214|           OUT017|                     2007|       NULL|              Tier 2|Supermarket Type1|         4710.535|2025-04-05|2025-04-12| 29-03-2025|       -7|\n",
      "|          FDY07|       11.8|         Low Fat|            0.0|Fruits and Vegeta...| 45.5402|           OUT049|                     1999|     Medium|              Tier 1|Supermarket Type1|        1516.0266|2025-04-05|2025-04-12| 29-03-2025|       -7|\n",
      "|          FDA03|       18.5|         Regular|    0.045463773|               Dairy|144.1102|           OUT046|                     1997|      Small|              Tier 1|Supermarket Type1|         2187.153|2025-04-05|2025-04-12| 29-03-2025|       -7|\n",
      "|          FDX32|       15.1|         Regular|      0.1000135|Fruits and Vegeta...|145.4786|           OUT049|                     1999|     Medium|              Tier 1|Supermarket Type1|        1589.2646|2025-04-05|2025-04-12| 29-03-2025|       -7|\n",
      "|          FDS46|       17.6|         Regular|    0.047257328|         Snack Foods|119.6782|           OUT046|                     1997|      Small|              Tier 1|Supermarket Type1|        2145.2076|2025-04-05|2025-04-12| 29-03-2025|       -7|\n",
      "|          FDF32|      16.35|         Low Fat|      0.0680243|Fruits and Vegeta...|196.4426|           OUT013|                     1987|       High|              Tier 3|Supermarket Type1|         1977.426|2025-04-05|2025-04-12| 29-03-2025|       -7|\n",
      "|          FDP49|        9.0|         Regular|    0.069088961|           Breakfast| 56.3614|           OUT046|                     1997|      Small|              Tier 1|Supermarket Type1|        1547.3192|2025-04-05|2025-04-12| 29-03-2025|       -7|\n",
      "|          NCB42|       11.8|         Low Fat|    0.008596051|  Health and Hygiene|115.3492|           OUT018|                     2009|     Medium|              Tier 3|Supermarket Type2|        1621.8888|2025-04-05|2025-04-12| 29-03-2025|       -7|\n",
      "|          FDP49|        9.0|         Regular|    0.069196376|           Breakfast| 54.3614|           OUT049|                     1999|     Medium|              Tier 1|Supermarket Type1|         718.3982|2025-04-05|2025-04-12| 29-03-2025|       -7|\n",
      "|          DRI11|       NULL|         Low Fat|    0.034237682|         Hard Drinks|113.2834|           OUT027|                     1985|     Medium|              Tier 3|Supermarket Type3|         2303.668|2025-04-05|2025-04-12| 29-03-2025|       -7|\n",
      "|          FDU02|      13.35|         Low Fat|     0.10249212|               Dairy|230.5352|           OUT035|                     2004|      Small|              Tier 2|Supermarket Type1|        2748.4224|2025-04-05|2025-04-12| 29-03-2025|       -7|\n",
      "+---------------+-----------+----------------+---------------+--------------------+--------+-----------------+-------------------------+-----------+--------------------+-----------------+-----------------+----------+----------+-----------+---------+\n",
      "only showing top 20 rows\n",
      "\n"
     ]
    }
   ],
   "source": [
    "\n",
    "df=df.withColumn('week_before',date_format('week_before','dd-MM-yyyy'))\n",
    "df.show()"
   ]
  },
  {
   "cell_type": "markdown",
   "metadata": {},
   "source": [
    "### Handling NULLS"
   ]
  },
  {
   "cell_type": "markdown",
   "metadata": {},
   "source": [
    "1. Dropping Nulls\n",
    "2. Filling Nulls"
   ]
  },
  {
   "cell_type": "markdown",
   "metadata": {},
   "source": [
    "Dropping Nulls"
   ]
  },
  {
   "cell_type": "code",
   "execution_count": 55,
   "metadata": {},
   "outputs": [
    {
     "name": "stdout",
     "output_type": "stream",
     "text": [
      "+---------------+-----------+----------------+---------------+--------------------+--------+-----------------+-------------------------+-----------+--------------------+-----------------+-----------------+----------+----------+-----------+---------+\n",
      "|Item_Identifier|Item_Weight|Item_Fat_Content|Item_Visibility|           Item_Type|Item_MRP|Outlet_Identifier|Outlet_Establishment_Year|Outlet_Size|Outlet_Location_Type|      Outlet_Type|Item_Outlet_Sales| curr_date|week_after|week_before|date_diff|\n",
      "+---------------+-----------+----------------+---------------+--------------------+--------+-----------------+-------------------------+-----------+--------------------+-----------------+-----------------+----------+----------+-----------+---------+\n",
      "|          FDA15|        9.3|         Low Fat|    0.016047301|               Dairy|249.8092|           OUT049|                     1999|     Medium|              Tier 1|Supermarket Type1|         3735.138|2025-04-05|2025-04-12| 29-03-2025|       -7|\n",
      "|          DRC01|       5.92|         Regular|    0.019278216|         Soft Drinks| 48.2692|           OUT018|                     2009|     Medium|              Tier 3|Supermarket Type2|         443.4228|2025-04-05|2025-04-12| 29-03-2025|       -7|\n",
      "|          FDN15|       17.5|         Low Fat|    0.016760075|                Meat| 141.618|           OUT049|                     1999|     Medium|              Tier 1|Supermarket Type1|          2097.27|2025-04-05|2025-04-12| 29-03-2025|       -7|\n",
      "|          FDX07|       19.2|         Regular|            0.0|Fruits and Vegeta...| 182.095|           OUT010|                     1998|       NULL|              Tier 3|    Grocery Store|           732.38|2025-04-05|2025-04-12| 29-03-2025|       -7|\n",
      "|          NCD19|       8.93|         Low Fat|            0.0|           Household| 53.8614|           OUT013|                     1987|       High|              Tier 3|Supermarket Type1|         994.7052|2025-04-05|2025-04-12| 29-03-2025|       -7|\n",
      "|          FDP36|     10.395|         Regular|            0.0|        Baking Goods| 51.4008|           OUT018|                     2009|     Medium|              Tier 3|Supermarket Type2|         556.6088|2025-04-05|2025-04-12| 29-03-2025|       -7|\n",
      "|          FDO10|      13.65|         Regular|    0.012741089|         Snack Foods| 57.6588|           OUT013|                     1987|       High|              Tier 3|Supermarket Type1|         343.5528|2025-04-05|2025-04-12| 29-03-2025|       -7|\n",
      "|          FDP10|       NULL|         Low Fat|    0.127469857|         Snack Foods|107.7622|           OUT027|                     1985|     Medium|              Tier 3|Supermarket Type3|        4022.7636|2025-04-05|2025-04-12| 29-03-2025|       -7|\n",
      "|          FDH17|       16.2|         Regular|    0.016687114|        Frozen Foods| 96.9726|           OUT045|                     2002|       NULL|              Tier 2|Supermarket Type1|        1076.5986|2025-04-05|2025-04-12| 29-03-2025|       -7|\n",
      "|          FDU28|       19.2|         Regular|     0.09444959|        Frozen Foods|187.8214|           OUT017|                     2007|       NULL|              Tier 2|Supermarket Type1|         4710.535|2025-04-05|2025-04-12| 29-03-2025|       -7|\n",
      "|          FDY07|       11.8|         Low Fat|            0.0|Fruits and Vegeta...| 45.5402|           OUT049|                     1999|     Medium|              Tier 1|Supermarket Type1|        1516.0266|2025-04-05|2025-04-12| 29-03-2025|       -7|\n",
      "|          FDA03|       18.5|         Regular|    0.045463773|               Dairy|144.1102|           OUT046|                     1997|      Small|              Tier 1|Supermarket Type1|         2187.153|2025-04-05|2025-04-12| 29-03-2025|       -7|\n",
      "|          FDX32|       15.1|         Regular|      0.1000135|Fruits and Vegeta...|145.4786|           OUT049|                     1999|     Medium|              Tier 1|Supermarket Type1|        1589.2646|2025-04-05|2025-04-12| 29-03-2025|       -7|\n",
      "|          FDS46|       17.6|         Regular|    0.047257328|         Snack Foods|119.6782|           OUT046|                     1997|      Small|              Tier 1|Supermarket Type1|        2145.2076|2025-04-05|2025-04-12| 29-03-2025|       -7|\n",
      "|          FDF32|      16.35|         Low Fat|      0.0680243|Fruits and Vegeta...|196.4426|           OUT013|                     1987|       High|              Tier 3|Supermarket Type1|         1977.426|2025-04-05|2025-04-12| 29-03-2025|       -7|\n",
      "|          FDP49|        9.0|         Regular|    0.069088961|           Breakfast| 56.3614|           OUT046|                     1997|      Small|              Tier 1|Supermarket Type1|        1547.3192|2025-04-05|2025-04-12| 29-03-2025|       -7|\n",
      "|          NCB42|       11.8|         Low Fat|    0.008596051|  Health and Hygiene|115.3492|           OUT018|                     2009|     Medium|              Tier 3|Supermarket Type2|        1621.8888|2025-04-05|2025-04-12| 29-03-2025|       -7|\n",
      "|          FDP49|        9.0|         Regular|    0.069196376|           Breakfast| 54.3614|           OUT049|                     1999|     Medium|              Tier 1|Supermarket Type1|         718.3982|2025-04-05|2025-04-12| 29-03-2025|       -7|\n",
      "|          DRI11|       NULL|         Low Fat|    0.034237682|         Hard Drinks|113.2834|           OUT027|                     1985|     Medium|              Tier 3|Supermarket Type3|         2303.668|2025-04-05|2025-04-12| 29-03-2025|       -7|\n",
      "|          FDU02|      13.35|         Low Fat|     0.10249212|               Dairy|230.5352|           OUT035|                     2004|      Small|              Tier 2|Supermarket Type1|        2748.4224|2025-04-05|2025-04-12| 29-03-2025|       -7|\n",
      "+---------------+-----------+----------------+---------------+--------------------+--------+-----------------+-------------------------+-----------+--------------------+-----------------+-----------------+----------+----------+-----------+---------+\n",
      "only showing top 20 rows\n",
      "\n"
     ]
    }
   ],
   "source": [
    "df.dropna('all').show()"
   ]
  },
  {
   "cell_type": "code",
   "execution_count": 57,
   "metadata": {},
   "outputs": [
    {
     "name": "stdout",
     "output_type": "stream",
     "text": [
      "+---------------+-----------+----------------+---------------+--------------------+--------+-----------------+-------------------------+-----------+--------------------+-----------------+-----------------+----------+----------+-----------+---------+\n",
      "|Item_Identifier|Item_Weight|Item_Fat_Content|Item_Visibility|           Item_Type|Item_MRP|Outlet_Identifier|Outlet_Establishment_Year|Outlet_Size|Outlet_Location_Type|      Outlet_Type|Item_Outlet_Sales| curr_date|week_after|week_before|date_diff|\n",
      "+---------------+-----------+----------------+---------------+--------------------+--------+-----------------+-------------------------+-----------+--------------------+-----------------+-----------------+----------+----------+-----------+---------+\n",
      "|          FDA15|        9.3|         Low Fat|    0.016047301|               Dairy|249.8092|           OUT049|                     1999|     Medium|              Tier 1|Supermarket Type1|         3735.138|2025-04-05|2025-04-12| 29-03-2025|       -7|\n",
      "|          DRC01|       5.92|         Regular|    0.019278216|         Soft Drinks| 48.2692|           OUT018|                     2009|     Medium|              Tier 3|Supermarket Type2|         443.4228|2025-04-05|2025-04-12| 29-03-2025|       -7|\n",
      "|          FDN15|       17.5|         Low Fat|    0.016760075|                Meat| 141.618|           OUT049|                     1999|     Medium|              Tier 1|Supermarket Type1|          2097.27|2025-04-05|2025-04-12| 29-03-2025|       -7|\n",
      "|          NCD19|       8.93|         Low Fat|            0.0|           Household| 53.8614|           OUT013|                     1987|       High|              Tier 3|Supermarket Type1|         994.7052|2025-04-05|2025-04-12| 29-03-2025|       -7|\n",
      "|          FDP36|     10.395|         Regular|            0.0|        Baking Goods| 51.4008|           OUT018|                     2009|     Medium|              Tier 3|Supermarket Type2|         556.6088|2025-04-05|2025-04-12| 29-03-2025|       -7|\n",
      "|          FDO10|      13.65|         Regular|    0.012741089|         Snack Foods| 57.6588|           OUT013|                     1987|       High|              Tier 3|Supermarket Type1|         343.5528|2025-04-05|2025-04-12| 29-03-2025|       -7|\n",
      "|          FDY07|       11.8|         Low Fat|            0.0|Fruits and Vegeta...| 45.5402|           OUT049|                     1999|     Medium|              Tier 1|Supermarket Type1|        1516.0266|2025-04-05|2025-04-12| 29-03-2025|       -7|\n",
      "|          FDA03|       18.5|         Regular|    0.045463773|               Dairy|144.1102|           OUT046|                     1997|      Small|              Tier 1|Supermarket Type1|         2187.153|2025-04-05|2025-04-12| 29-03-2025|       -7|\n",
      "|          FDX32|       15.1|         Regular|      0.1000135|Fruits and Vegeta...|145.4786|           OUT049|                     1999|     Medium|              Tier 1|Supermarket Type1|        1589.2646|2025-04-05|2025-04-12| 29-03-2025|       -7|\n",
      "|          FDS46|       17.6|         Regular|    0.047257328|         Snack Foods|119.6782|           OUT046|                     1997|      Small|              Tier 1|Supermarket Type1|        2145.2076|2025-04-05|2025-04-12| 29-03-2025|       -7|\n",
      "|          FDF32|      16.35|         Low Fat|      0.0680243|Fruits and Vegeta...|196.4426|           OUT013|                     1987|       High|              Tier 3|Supermarket Type1|         1977.426|2025-04-05|2025-04-12| 29-03-2025|       -7|\n",
      "|          FDP49|        9.0|         Regular|    0.069088961|           Breakfast| 56.3614|           OUT046|                     1997|      Small|              Tier 1|Supermarket Type1|        1547.3192|2025-04-05|2025-04-12| 29-03-2025|       -7|\n",
      "|          NCB42|       11.8|         Low Fat|    0.008596051|  Health and Hygiene|115.3492|           OUT018|                     2009|     Medium|              Tier 3|Supermarket Type2|        1621.8888|2025-04-05|2025-04-12| 29-03-2025|       -7|\n",
      "|          FDP49|        9.0|         Regular|    0.069196376|           Breakfast| 54.3614|           OUT049|                     1999|     Medium|              Tier 1|Supermarket Type1|         718.3982|2025-04-05|2025-04-12| 29-03-2025|       -7|\n",
      "|          FDU02|      13.35|         Low Fat|     0.10249212|               Dairy|230.5352|           OUT035|                     2004|      Small|              Tier 2|Supermarket Type1|        2748.4224|2025-04-05|2025-04-12| 29-03-2025|       -7|\n",
      "|          FDN22|      18.85|         Regular|    0.138190277|         Snack Foods|250.8724|           OUT013|                     1987|       High|              Tier 3|Supermarket Type1|         3775.086|2025-04-05|2025-04-12| 29-03-2025|       -7|\n",
      "|          NCB30|       14.6|         Low Fat|    0.025698134|           Household|196.5084|           OUT035|                     2004|      Small|              Tier 2|Supermarket Type1|        1587.2672|2025-04-05|2025-04-12| 29-03-2025|       -7|\n",
      "|          FDR28|      13.85|         Regular|    0.025896485|        Frozen Foods| 165.021|           OUT046|                     1997|      Small|              Tier 1|Supermarket Type1|         4078.025|2025-04-05|2025-04-12| 29-03-2025|       -7|\n",
      "|          FDV10|      7.645|         Regular|    0.066693437|         Snack Foods| 42.3112|           OUT035|                     2004|      Small|              Tier 2|Supermarket Type1|          1065.28|2025-04-05|2025-04-12| 29-03-2025|       -7|\n",
      "|          DRJ59|      11.65|         low fat|    0.019356132|         Hard Drinks| 39.1164|           OUT013|                     1987|       High|              Tier 3|Supermarket Type1|         308.9312|2025-04-05|2025-04-12| 29-03-2025|       -7|\n",
      "+---------------+-----------+----------------+---------------+--------------------+--------+-----------------+-------------------------+-----------+--------------------+-----------------+-----------------+----------+----------+-----------+---------+\n",
      "only showing top 20 rows\n",
      "\n"
     ]
    }
   ],
   "source": [
    "df.dropna('any').show()"
   ]
  },
  {
   "cell_type": "code",
   "execution_count": 59,
   "metadata": {},
   "outputs": [
    {
     "name": "stdout",
     "output_type": "stream",
     "text": [
      "+---------------+-----------+----------------+---------------+--------------------+--------+-----------------+-------------------------+-----------+--------------------+-----------------+-----------------+----------+----------+-----------+---------+\n",
      "|Item_Identifier|Item_Weight|Item_Fat_Content|Item_Visibility|           Item_Type|Item_MRP|Outlet_Identifier|Outlet_Establishment_Year|Outlet_Size|Outlet_Location_Type|      Outlet_Type|Item_Outlet_Sales| curr_date|week_after|week_before|date_diff|\n",
      "+---------------+-----------+----------------+---------------+--------------------+--------+-----------------+-------------------------+-----------+--------------------+-----------------+-----------------+----------+----------+-----------+---------+\n",
      "|          FDA15|        9.3|         Low Fat|    0.016047301|               Dairy|249.8092|           OUT049|                     1999|     Medium|              Tier 1|Supermarket Type1|         3735.138|2025-04-05|2025-04-12| 29-03-2025|       -7|\n",
      "|          DRC01|       5.92|         Regular|    0.019278216|         Soft Drinks| 48.2692|           OUT018|                     2009|     Medium|              Tier 3|Supermarket Type2|         443.4228|2025-04-05|2025-04-12| 29-03-2025|       -7|\n",
      "|          FDN15|       17.5|         Low Fat|    0.016760075|                Meat| 141.618|           OUT049|                     1999|     Medium|              Tier 1|Supermarket Type1|          2097.27|2025-04-05|2025-04-12| 29-03-2025|       -7|\n",
      "|          NCD19|       8.93|         Low Fat|            0.0|           Household| 53.8614|           OUT013|                     1987|       High|              Tier 3|Supermarket Type1|         994.7052|2025-04-05|2025-04-12| 29-03-2025|       -7|\n",
      "|          FDP36|     10.395|         Regular|            0.0|        Baking Goods| 51.4008|           OUT018|                     2009|     Medium|              Tier 3|Supermarket Type2|         556.6088|2025-04-05|2025-04-12| 29-03-2025|       -7|\n",
      "|          FDO10|      13.65|         Regular|    0.012741089|         Snack Foods| 57.6588|           OUT013|                     1987|       High|              Tier 3|Supermarket Type1|         343.5528|2025-04-05|2025-04-12| 29-03-2025|       -7|\n",
      "|          FDP10|       NULL|         Low Fat|    0.127469857|         Snack Foods|107.7622|           OUT027|                     1985|     Medium|              Tier 3|Supermarket Type3|        4022.7636|2025-04-05|2025-04-12| 29-03-2025|       -7|\n",
      "|          FDY07|       11.8|         Low Fat|            0.0|Fruits and Vegeta...| 45.5402|           OUT049|                     1999|     Medium|              Tier 1|Supermarket Type1|        1516.0266|2025-04-05|2025-04-12| 29-03-2025|       -7|\n",
      "|          FDA03|       18.5|         Regular|    0.045463773|               Dairy|144.1102|           OUT046|                     1997|      Small|              Tier 1|Supermarket Type1|         2187.153|2025-04-05|2025-04-12| 29-03-2025|       -7|\n",
      "|          FDX32|       15.1|         Regular|      0.1000135|Fruits and Vegeta...|145.4786|           OUT049|                     1999|     Medium|              Tier 1|Supermarket Type1|        1589.2646|2025-04-05|2025-04-12| 29-03-2025|       -7|\n",
      "|          FDS46|       17.6|         Regular|    0.047257328|         Snack Foods|119.6782|           OUT046|                     1997|      Small|              Tier 1|Supermarket Type1|        2145.2076|2025-04-05|2025-04-12| 29-03-2025|       -7|\n",
      "|          FDF32|      16.35|         Low Fat|      0.0680243|Fruits and Vegeta...|196.4426|           OUT013|                     1987|       High|              Tier 3|Supermarket Type1|         1977.426|2025-04-05|2025-04-12| 29-03-2025|       -7|\n",
      "|          FDP49|        9.0|         Regular|    0.069088961|           Breakfast| 56.3614|           OUT046|                     1997|      Small|              Tier 1|Supermarket Type1|        1547.3192|2025-04-05|2025-04-12| 29-03-2025|       -7|\n",
      "|          NCB42|       11.8|         Low Fat|    0.008596051|  Health and Hygiene|115.3492|           OUT018|                     2009|     Medium|              Tier 3|Supermarket Type2|        1621.8888|2025-04-05|2025-04-12| 29-03-2025|       -7|\n",
      "|          FDP49|        9.0|         Regular|    0.069196376|           Breakfast| 54.3614|           OUT049|                     1999|     Medium|              Tier 1|Supermarket Type1|         718.3982|2025-04-05|2025-04-12| 29-03-2025|       -7|\n",
      "|          DRI11|       NULL|         Low Fat|    0.034237682|         Hard Drinks|113.2834|           OUT027|                     1985|     Medium|              Tier 3|Supermarket Type3|         2303.668|2025-04-05|2025-04-12| 29-03-2025|       -7|\n",
      "|          FDU02|      13.35|         Low Fat|     0.10249212|               Dairy|230.5352|           OUT035|                     2004|      Small|              Tier 2|Supermarket Type1|        2748.4224|2025-04-05|2025-04-12| 29-03-2025|       -7|\n",
      "|          FDN22|      18.85|         Regular|    0.138190277|         Snack Foods|250.8724|           OUT013|                     1987|       High|              Tier 3|Supermarket Type1|         3775.086|2025-04-05|2025-04-12| 29-03-2025|       -7|\n",
      "|          FDW12|       NULL|         Regular|    0.035399923|        Baking Goods|144.5444|           OUT027|                     1985|     Medium|              Tier 3|Supermarket Type3|        4064.0432|2025-04-05|2025-04-12| 29-03-2025|       -7|\n",
      "|          NCB30|       14.6|         Low Fat|    0.025698134|           Household|196.5084|           OUT035|                     2004|      Small|              Tier 2|Supermarket Type1|        1587.2672|2025-04-05|2025-04-12| 29-03-2025|       -7|\n",
      "+---------------+-----------+----------------+---------------+--------------------+--------+-----------------+-------------------------+-----------+--------------------+-----------------+-----------------+----------+----------+-----------+---------+\n",
      "only showing top 20 rows\n",
      "\n"
     ]
    }
   ],
   "source": [
    "df.dropna(subset='Outlet_Size').show()"
   ]
  },
  {
   "cell_type": "markdown",
   "metadata": {},
   "source": [
    "Filling Nulls"
   ]
  },
  {
   "cell_type": "code",
   "execution_count": 61,
   "metadata": {},
   "outputs": [
    {
     "name": "stdout",
     "output_type": "stream",
     "text": [
      "+---------------+-----------+----------------+---------------+--------------------+--------+-----------------+-------------------------+-------------+--------------------+-----------------+-----------------+----------+----------+-----------+---------+\n",
      "|Item_Identifier|Item_Weight|Item_Fat_Content|Item_Visibility|           Item_Type|Item_MRP|Outlet_Identifier|Outlet_Establishment_Year|  Outlet_Size|Outlet_Location_Type|      Outlet_Type|Item_Outlet_Sales| curr_date|week_after|week_before|date_diff|\n",
      "+---------------+-----------+----------------+---------------+--------------------+--------+-----------------+-------------------------+-------------+--------------------+-----------------+-----------------+----------+----------+-----------+---------+\n",
      "|          FDA15|        9.3|         Low Fat|    0.016047301|               Dairy|249.8092|           OUT049|                     1999|       Medium|              Tier 1|Supermarket Type1|         3735.138|2025-04-05|2025-04-12| 29-03-2025|       -7|\n",
      "|          DRC01|       5.92|         Regular|    0.019278216|         Soft Drinks| 48.2692|           OUT018|                     2009|       Medium|              Tier 3|Supermarket Type2|         443.4228|2025-04-05|2025-04-12| 29-03-2025|       -7|\n",
      "|          FDN15|       17.5|         Low Fat|    0.016760075|                Meat| 141.618|           OUT049|                     1999|       Medium|              Tier 1|Supermarket Type1|          2097.27|2025-04-05|2025-04-12| 29-03-2025|       -7|\n",
      "|          FDX07|       19.2|         Regular|            0.0|Fruits and Vegeta...| 182.095|           OUT010|                     1998|#NotAvailable|              Tier 3|    Grocery Store|           732.38|2025-04-05|2025-04-12| 29-03-2025|       -7|\n",
      "|          NCD19|       8.93|         Low Fat|            0.0|           Household| 53.8614|           OUT013|                     1987|         High|              Tier 3|Supermarket Type1|         994.7052|2025-04-05|2025-04-12| 29-03-2025|       -7|\n",
      "|          FDP36|     10.395|         Regular|            0.0|        Baking Goods| 51.4008|           OUT018|                     2009|       Medium|              Tier 3|Supermarket Type2|         556.6088|2025-04-05|2025-04-12| 29-03-2025|       -7|\n",
      "|          FDO10|      13.65|         Regular|    0.012741089|         Snack Foods| 57.6588|           OUT013|                     1987|         High|              Tier 3|Supermarket Type1|         343.5528|2025-04-05|2025-04-12| 29-03-2025|       -7|\n",
      "|          FDP10|       NULL|         Low Fat|    0.127469857|         Snack Foods|107.7622|           OUT027|                     1985|       Medium|              Tier 3|Supermarket Type3|        4022.7636|2025-04-05|2025-04-12| 29-03-2025|       -7|\n",
      "|          FDH17|       16.2|         Regular|    0.016687114|        Frozen Foods| 96.9726|           OUT045|                     2002|#NotAvailable|              Tier 2|Supermarket Type1|        1076.5986|2025-04-05|2025-04-12| 29-03-2025|       -7|\n",
      "|          FDU28|       19.2|         Regular|     0.09444959|        Frozen Foods|187.8214|           OUT017|                     2007|#NotAvailable|              Tier 2|Supermarket Type1|         4710.535|2025-04-05|2025-04-12| 29-03-2025|       -7|\n",
      "|          FDY07|       11.8|         Low Fat|            0.0|Fruits and Vegeta...| 45.5402|           OUT049|                     1999|       Medium|              Tier 1|Supermarket Type1|        1516.0266|2025-04-05|2025-04-12| 29-03-2025|       -7|\n",
      "|          FDA03|       18.5|         Regular|    0.045463773|               Dairy|144.1102|           OUT046|                     1997|        Small|              Tier 1|Supermarket Type1|         2187.153|2025-04-05|2025-04-12| 29-03-2025|       -7|\n",
      "|          FDX32|       15.1|         Regular|      0.1000135|Fruits and Vegeta...|145.4786|           OUT049|                     1999|       Medium|              Tier 1|Supermarket Type1|        1589.2646|2025-04-05|2025-04-12| 29-03-2025|       -7|\n",
      "|          FDS46|       17.6|         Regular|    0.047257328|         Snack Foods|119.6782|           OUT046|                     1997|        Small|              Tier 1|Supermarket Type1|        2145.2076|2025-04-05|2025-04-12| 29-03-2025|       -7|\n",
      "|          FDF32|      16.35|         Low Fat|      0.0680243|Fruits and Vegeta...|196.4426|           OUT013|                     1987|         High|              Tier 3|Supermarket Type1|         1977.426|2025-04-05|2025-04-12| 29-03-2025|       -7|\n",
      "|          FDP49|        9.0|         Regular|    0.069088961|           Breakfast| 56.3614|           OUT046|                     1997|        Small|              Tier 1|Supermarket Type1|        1547.3192|2025-04-05|2025-04-12| 29-03-2025|       -7|\n",
      "|          NCB42|       11.8|         Low Fat|    0.008596051|  Health and Hygiene|115.3492|           OUT018|                     2009|       Medium|              Tier 3|Supermarket Type2|        1621.8888|2025-04-05|2025-04-12| 29-03-2025|       -7|\n",
      "|          FDP49|        9.0|         Regular|    0.069196376|           Breakfast| 54.3614|           OUT049|                     1999|       Medium|              Tier 1|Supermarket Type1|         718.3982|2025-04-05|2025-04-12| 29-03-2025|       -7|\n",
      "|          DRI11|       NULL|         Low Fat|    0.034237682|         Hard Drinks|113.2834|           OUT027|                     1985|       Medium|              Tier 3|Supermarket Type3|         2303.668|2025-04-05|2025-04-12| 29-03-2025|       -7|\n",
      "|          FDU02|      13.35|         Low Fat|     0.10249212|               Dairy|230.5352|           OUT035|                     2004|        Small|              Tier 2|Supermarket Type1|        2748.4224|2025-04-05|2025-04-12| 29-03-2025|       -7|\n",
      "+---------------+-----------+----------------+---------------+--------------------+--------+-----------------+-------------------------+-------------+--------------------+-----------------+-----------------+----------+----------+-----------+---------+\n",
      "only showing top 20 rows\n",
      "\n"
     ]
    }
   ],
   "source": [
    "df.fillna('#NotAvailable').show()"
   ]
  },
  {
   "cell_type": "code",
   "execution_count": 63,
   "metadata": {},
   "outputs": [
    {
     "name": "stdout",
     "output_type": "stream",
     "text": [
      "+---------------+-----------+----------------+---------------+--------------------+--------+-----------------+-------------------------+------------+--------------------+-----------------+-----------------+----------+----------+-----------+---------+\n",
      "|Item_Identifier|Item_Weight|Item_Fat_Content|Item_Visibility|           Item_Type|Item_MRP|Outlet_Identifier|Outlet_Establishment_Year| Outlet_Size|Outlet_Location_Type|      Outlet_Type|Item_Outlet_Sales| curr_date|week_after|week_before|date_diff|\n",
      "+---------------+-----------+----------------+---------------+--------------------+--------+-----------------+-------------------------+------------+--------------------+-----------------+-----------------+----------+----------+-----------+---------+\n",
      "|          FDA15|        9.3|         Low Fat|    0.016047301|               Dairy|249.8092|           OUT049|                     1999|      Medium|              Tier 1|Supermarket Type1|         3735.138|2025-04-05|2025-04-12| 29-03-2025|       -7|\n",
      "|          DRC01|       5.92|         Regular|    0.019278216|         Soft Drinks| 48.2692|           OUT018|                     2009|      Medium|              Tier 3|Supermarket Type2|         443.4228|2025-04-05|2025-04-12| 29-03-2025|       -7|\n",
      "|          FDN15|       17.5|         Low Fat|    0.016760075|                Meat| 141.618|           OUT049|                     1999|      Medium|              Tier 1|Supermarket Type1|          2097.27|2025-04-05|2025-04-12| 29-03-2025|       -7|\n",
      "|          FDX07|       19.2|         Regular|            0.0|Fruits and Vegeta...| 182.095|           OUT010|                     1998|NotAvailable|              Tier 3|    Grocery Store|           732.38|2025-04-05|2025-04-12| 29-03-2025|       -7|\n",
      "|          NCD19|       8.93|         Low Fat|            0.0|           Household| 53.8614|           OUT013|                     1987|        High|              Tier 3|Supermarket Type1|         994.7052|2025-04-05|2025-04-12| 29-03-2025|       -7|\n",
      "|          FDP36|     10.395|         Regular|            0.0|        Baking Goods| 51.4008|           OUT018|                     2009|      Medium|              Tier 3|Supermarket Type2|         556.6088|2025-04-05|2025-04-12| 29-03-2025|       -7|\n",
      "|          FDO10|      13.65|         Regular|    0.012741089|         Snack Foods| 57.6588|           OUT013|                     1987|        High|              Tier 3|Supermarket Type1|         343.5528|2025-04-05|2025-04-12| 29-03-2025|       -7|\n",
      "|          FDP10|       NULL|         Low Fat|    0.127469857|         Snack Foods|107.7622|           OUT027|                     1985|      Medium|              Tier 3|Supermarket Type3|        4022.7636|2025-04-05|2025-04-12| 29-03-2025|       -7|\n",
      "|          FDH17|       16.2|         Regular|    0.016687114|        Frozen Foods| 96.9726|           OUT045|                     2002|NotAvailable|              Tier 2|Supermarket Type1|        1076.5986|2025-04-05|2025-04-12| 29-03-2025|       -7|\n",
      "|          FDU28|       19.2|         Regular|     0.09444959|        Frozen Foods|187.8214|           OUT017|                     2007|NotAvailable|              Tier 2|Supermarket Type1|         4710.535|2025-04-05|2025-04-12| 29-03-2025|       -7|\n",
      "|          FDY07|       11.8|         Low Fat|            0.0|Fruits and Vegeta...| 45.5402|           OUT049|                     1999|      Medium|              Tier 1|Supermarket Type1|        1516.0266|2025-04-05|2025-04-12| 29-03-2025|       -7|\n",
      "|          FDA03|       18.5|         Regular|    0.045463773|               Dairy|144.1102|           OUT046|                     1997|       Small|              Tier 1|Supermarket Type1|         2187.153|2025-04-05|2025-04-12| 29-03-2025|       -7|\n",
      "|          FDX32|       15.1|         Regular|      0.1000135|Fruits and Vegeta...|145.4786|           OUT049|                     1999|      Medium|              Tier 1|Supermarket Type1|        1589.2646|2025-04-05|2025-04-12| 29-03-2025|       -7|\n",
      "|          FDS46|       17.6|         Regular|    0.047257328|         Snack Foods|119.6782|           OUT046|                     1997|       Small|              Tier 1|Supermarket Type1|        2145.2076|2025-04-05|2025-04-12| 29-03-2025|       -7|\n",
      "|          FDF32|      16.35|         Low Fat|      0.0680243|Fruits and Vegeta...|196.4426|           OUT013|                     1987|        High|              Tier 3|Supermarket Type1|         1977.426|2025-04-05|2025-04-12| 29-03-2025|       -7|\n",
      "|          FDP49|        9.0|         Regular|    0.069088961|           Breakfast| 56.3614|           OUT046|                     1997|       Small|              Tier 1|Supermarket Type1|        1547.3192|2025-04-05|2025-04-12| 29-03-2025|       -7|\n",
      "|          NCB42|       11.8|         Low Fat|    0.008596051|  Health and Hygiene|115.3492|           OUT018|                     2009|      Medium|              Tier 3|Supermarket Type2|        1621.8888|2025-04-05|2025-04-12| 29-03-2025|       -7|\n",
      "|          FDP49|        9.0|         Regular|    0.069196376|           Breakfast| 54.3614|           OUT049|                     1999|      Medium|              Tier 1|Supermarket Type1|         718.3982|2025-04-05|2025-04-12| 29-03-2025|       -7|\n",
      "|          DRI11|       NULL|         Low Fat|    0.034237682|         Hard Drinks|113.2834|           OUT027|                     1985|      Medium|              Tier 3|Supermarket Type3|         2303.668|2025-04-05|2025-04-12| 29-03-2025|       -7|\n",
      "|          FDU02|      13.35|         Low Fat|     0.10249212|               Dairy|230.5352|           OUT035|                     2004|       Small|              Tier 2|Supermarket Type1|        2748.4224|2025-04-05|2025-04-12| 29-03-2025|       -7|\n",
      "+---------------+-----------+----------------+---------------+--------------------+--------+-----------------+-------------------------+------------+--------------------+-----------------+-----------------+----------+----------+-----------+---------+\n",
      "only showing top 20 rows\n",
      "\n"
     ]
    }
   ],
   "source": [
    "df.fillna('NotAvailable',subset=['Outlet_Size']).show()"
   ]
  },
  {
   "cell_type": "markdown",
   "metadata": {},
   "source": [
    "### SPLIT AND Indexing"
   ]
  },
  {
   "cell_type": "code",
   "execution_count": 4,
   "metadata": {},
   "outputs": [
    {
     "name": "stdout",
     "output_type": "stream",
     "text": [
      "+---------------+-----------+----------------+---------------+--------------------+--------+-----------------+-------------------------+-----------+--------------------+-----------------+-----------------+\n",
      "|Item_Identifier|Item_Weight|Item_Fat_Content|Item_Visibility|           Item_Type|Item_MRP|Outlet_Identifier|Outlet_Establishment_Year|Outlet_Size|Outlet_Location_Type|      Outlet_Type|Item_Outlet_Sales|\n",
      "+---------------+-----------+----------------+---------------+--------------------+--------+-----------------+-------------------------+-----------+--------------------+-----------------+-----------------+\n",
      "|          FDA15|        9.3|         Low Fat|    0.016047301|               Dairy|249.8092|           OUT049|                     1999|     Medium|              Tier 1|Supermarket Type1|         3735.138|\n",
      "|          DRC01|       5.92|         Regular|    0.019278216|         Soft Drinks| 48.2692|           OUT018|                     2009|     Medium|              Tier 3|Supermarket Type2|         443.4228|\n",
      "|          FDN15|       17.5|         Low Fat|    0.016760075|                Meat| 141.618|           OUT049|                     1999|     Medium|              Tier 1|Supermarket Type1|          2097.27|\n",
      "|          FDX07|       19.2|         Regular|            0.0|Fruits and Vegeta...| 182.095|           OUT010|                     1998|       NULL|              Tier 3|    Grocery Store|           732.38|\n",
      "|          NCD19|       8.93|         Low Fat|            0.0|           Household| 53.8614|           OUT013|                     1987|       High|              Tier 3|Supermarket Type1|         994.7052|\n",
      "|          FDP36|     10.395|         Regular|            0.0|        Baking Goods| 51.4008|           OUT018|                     2009|     Medium|              Tier 3|Supermarket Type2|         556.6088|\n",
      "|          FDO10|      13.65|         Regular|    0.012741089|         Snack Foods| 57.6588|           OUT013|                     1987|       High|              Tier 3|Supermarket Type1|         343.5528|\n",
      "|          FDP10|       NULL|         Low Fat|    0.127469857|         Snack Foods|107.7622|           OUT027|                     1985|     Medium|              Tier 3|Supermarket Type3|        4022.7636|\n",
      "|          FDH17|       16.2|         Regular|    0.016687114|        Frozen Foods| 96.9726|           OUT045|                     2002|       NULL|              Tier 2|Supermarket Type1|        1076.5986|\n",
      "|          FDU28|       19.2|         Regular|     0.09444959|        Frozen Foods|187.8214|           OUT017|                     2007|       NULL|              Tier 2|Supermarket Type1|         4710.535|\n",
      "|          FDY07|       11.8|         Low Fat|            0.0|Fruits and Vegeta...| 45.5402|           OUT049|                     1999|     Medium|              Tier 1|Supermarket Type1|        1516.0266|\n",
      "|          FDA03|       18.5|         Regular|    0.045463773|               Dairy|144.1102|           OUT046|                     1997|      Small|              Tier 1|Supermarket Type1|         2187.153|\n",
      "|          FDX32|       15.1|         Regular|      0.1000135|Fruits and Vegeta...|145.4786|           OUT049|                     1999|     Medium|              Tier 1|Supermarket Type1|        1589.2646|\n",
      "|          FDS46|       17.6|         Regular|    0.047257328|         Snack Foods|119.6782|           OUT046|                     1997|      Small|              Tier 1|Supermarket Type1|        2145.2076|\n",
      "|          FDF32|      16.35|         Low Fat|      0.0680243|Fruits and Vegeta...|196.4426|           OUT013|                     1987|       High|              Tier 3|Supermarket Type1|         1977.426|\n",
      "|          FDP49|        9.0|         Regular|    0.069088961|           Breakfast| 56.3614|           OUT046|                     1997|      Small|              Tier 1|Supermarket Type1|        1547.3192|\n",
      "|          NCB42|       11.8|         Low Fat|    0.008596051|  Health and Hygiene|115.3492|           OUT018|                     2009|     Medium|              Tier 3|Supermarket Type2|        1621.8888|\n",
      "|          FDP49|        9.0|         Regular|    0.069196376|           Breakfast| 54.3614|           OUT049|                     1999|     Medium|              Tier 1|Supermarket Type1|         718.3982|\n",
      "|          DRI11|       NULL|         Low Fat|    0.034237682|         Hard Drinks|113.2834|           OUT027|                     1985|     Medium|              Tier 3|Supermarket Type3|         2303.668|\n",
      "|          FDU02|      13.35|         Low Fat|     0.10249212|               Dairy|230.5352|           OUT035|                     2004|      Small|              Tier 2|Supermarket Type1|        2748.4224|\n",
      "+---------------+-----------+----------------+---------------+--------------------+--------+-----------------+-------------------------+-----------+--------------------+-----------------+-----------------+\n",
      "only showing top 20 rows\n",
      "\n"
     ]
    }
   ],
   "source": [
    "df.show()"
   ]
  },
  {
   "cell_type": "code",
   "execution_count": 5,
   "metadata": {},
   "outputs": [
    {
     "name": "stdout",
     "output_type": "stream",
     "text": [
      "+---------------+-----------+----------------+---------------+--------------------+--------+-----------------+-------------------------+-----------+--------------------+--------------------+-----------------+\n",
      "|Item_Identifier|Item_Weight|Item_Fat_Content|Item_Visibility|           Item_Type|Item_MRP|Outlet_Identifier|Outlet_Establishment_Year|Outlet_Size|Outlet_Location_Type|         Outlet_Type|Item_Outlet_Sales|\n",
      "+---------------+-----------+----------------+---------------+--------------------+--------+-----------------+-------------------------+-----------+--------------------+--------------------+-----------------+\n",
      "|          FDA15|        9.3|         Low Fat|    0.016047301|               Dairy|249.8092|           OUT049|                     1999|     Medium|              Tier 1|[Supermarket, Type1]|         3735.138|\n",
      "|          DRC01|       5.92|         Regular|    0.019278216|         Soft Drinks| 48.2692|           OUT018|                     2009|     Medium|              Tier 3|[Supermarket, Type2]|         443.4228|\n",
      "|          FDN15|       17.5|         Low Fat|    0.016760075|                Meat| 141.618|           OUT049|                     1999|     Medium|              Tier 1|[Supermarket, Type1]|          2097.27|\n",
      "|          FDX07|       19.2|         Regular|            0.0|Fruits and Vegeta...| 182.095|           OUT010|                     1998|       NULL|              Tier 3|    [Grocery, Store]|           732.38|\n",
      "|          NCD19|       8.93|         Low Fat|            0.0|           Household| 53.8614|           OUT013|                     1987|       High|              Tier 3|[Supermarket, Type1]|         994.7052|\n",
      "|          FDP36|     10.395|         Regular|            0.0|        Baking Goods| 51.4008|           OUT018|                     2009|     Medium|              Tier 3|[Supermarket, Type2]|         556.6088|\n",
      "|          FDO10|      13.65|         Regular|    0.012741089|         Snack Foods| 57.6588|           OUT013|                     1987|       High|              Tier 3|[Supermarket, Type1]|         343.5528|\n",
      "|          FDP10|       NULL|         Low Fat|    0.127469857|         Snack Foods|107.7622|           OUT027|                     1985|     Medium|              Tier 3|[Supermarket, Type3]|        4022.7636|\n",
      "|          FDH17|       16.2|         Regular|    0.016687114|        Frozen Foods| 96.9726|           OUT045|                     2002|       NULL|              Tier 2|[Supermarket, Type1]|        1076.5986|\n",
      "|          FDU28|       19.2|         Regular|     0.09444959|        Frozen Foods|187.8214|           OUT017|                     2007|       NULL|              Tier 2|[Supermarket, Type1]|         4710.535|\n",
      "|          FDY07|       11.8|         Low Fat|            0.0|Fruits and Vegeta...| 45.5402|           OUT049|                     1999|     Medium|              Tier 1|[Supermarket, Type1]|        1516.0266|\n",
      "|          FDA03|       18.5|         Regular|    0.045463773|               Dairy|144.1102|           OUT046|                     1997|      Small|              Tier 1|[Supermarket, Type1]|         2187.153|\n",
      "|          FDX32|       15.1|         Regular|      0.1000135|Fruits and Vegeta...|145.4786|           OUT049|                     1999|     Medium|              Tier 1|[Supermarket, Type1]|        1589.2646|\n",
      "|          FDS46|       17.6|         Regular|    0.047257328|         Snack Foods|119.6782|           OUT046|                     1997|      Small|              Tier 1|[Supermarket, Type1]|        2145.2076|\n",
      "|          FDF32|      16.35|         Low Fat|      0.0680243|Fruits and Vegeta...|196.4426|           OUT013|                     1987|       High|              Tier 3|[Supermarket, Type1]|         1977.426|\n",
      "|          FDP49|        9.0|         Regular|    0.069088961|           Breakfast| 56.3614|           OUT046|                     1997|      Small|              Tier 1|[Supermarket, Type1]|        1547.3192|\n",
      "|          NCB42|       11.8|         Low Fat|    0.008596051|  Health and Hygiene|115.3492|           OUT018|                     2009|     Medium|              Tier 3|[Supermarket, Type2]|        1621.8888|\n",
      "|          FDP49|        9.0|         Regular|    0.069196376|           Breakfast| 54.3614|           OUT049|                     1999|     Medium|              Tier 1|[Supermarket, Type1]|         718.3982|\n",
      "|          DRI11|       NULL|         Low Fat|    0.034237682|         Hard Drinks|113.2834|           OUT027|                     1985|     Medium|              Tier 3|[Supermarket, Type3]|         2303.668|\n",
      "|          FDU02|      13.35|         Low Fat|     0.10249212|               Dairy|230.5352|           OUT035|                     2004|      Small|              Tier 2|[Supermarket, Type1]|        2748.4224|\n",
      "+---------------+-----------+----------------+---------------+--------------------+--------+-----------------+-------------------------+-----------+--------------------+--------------------+-----------------+\n",
      "only showing top 20 rows\n",
      "\n"
     ]
    }
   ],
   "source": [
    "df.withColumn('Outlet_Type',split('Outlet_Type',' ')).show()"
   ]
  },
  {
   "cell_type": "code",
   "execution_count": 6,
   "metadata": {},
   "outputs": [
    {
     "name": "stdout",
     "output_type": "stream",
     "text": [
      "+---------------+-----------+----------------+---------------+--------------------+--------+-----------------+-------------------------+-----------+--------------------+-----------+-----------------+\n",
      "|Item_Identifier|Item_Weight|Item_Fat_Content|Item_Visibility|           Item_Type|Item_MRP|Outlet_Identifier|Outlet_Establishment_Year|Outlet_Size|Outlet_Location_Type|Outlet_Type|Item_Outlet_Sales|\n",
      "+---------------+-----------+----------------+---------------+--------------------+--------+-----------------+-------------------------+-----------+--------------------+-----------+-----------------+\n",
      "|          FDA15|        9.3|         Low Fat|    0.016047301|               Dairy|249.8092|           OUT049|                     1999|     Medium|              Tier 1|      Type1|         3735.138|\n",
      "|          DRC01|       5.92|         Regular|    0.019278216|         Soft Drinks| 48.2692|           OUT018|                     2009|     Medium|              Tier 3|      Type2|         443.4228|\n",
      "|          FDN15|       17.5|         Low Fat|    0.016760075|                Meat| 141.618|           OUT049|                     1999|     Medium|              Tier 1|      Type1|          2097.27|\n",
      "|          FDX07|       19.2|         Regular|            0.0|Fruits and Vegeta...| 182.095|           OUT010|                     1998|       NULL|              Tier 3|      Store|           732.38|\n",
      "|          NCD19|       8.93|         Low Fat|            0.0|           Household| 53.8614|           OUT013|                     1987|       High|              Tier 3|      Type1|         994.7052|\n",
      "|          FDP36|     10.395|         Regular|            0.0|        Baking Goods| 51.4008|           OUT018|                     2009|     Medium|              Tier 3|      Type2|         556.6088|\n",
      "|          FDO10|      13.65|         Regular|    0.012741089|         Snack Foods| 57.6588|           OUT013|                     1987|       High|              Tier 3|      Type1|         343.5528|\n",
      "|          FDP10|       NULL|         Low Fat|    0.127469857|         Snack Foods|107.7622|           OUT027|                     1985|     Medium|              Tier 3|      Type3|        4022.7636|\n",
      "|          FDH17|       16.2|         Regular|    0.016687114|        Frozen Foods| 96.9726|           OUT045|                     2002|       NULL|              Tier 2|      Type1|        1076.5986|\n",
      "|          FDU28|       19.2|         Regular|     0.09444959|        Frozen Foods|187.8214|           OUT017|                     2007|       NULL|              Tier 2|      Type1|         4710.535|\n",
      "|          FDY07|       11.8|         Low Fat|            0.0|Fruits and Vegeta...| 45.5402|           OUT049|                     1999|     Medium|              Tier 1|      Type1|        1516.0266|\n",
      "|          FDA03|       18.5|         Regular|    0.045463773|               Dairy|144.1102|           OUT046|                     1997|      Small|              Tier 1|      Type1|         2187.153|\n",
      "|          FDX32|       15.1|         Regular|      0.1000135|Fruits and Vegeta...|145.4786|           OUT049|                     1999|     Medium|              Tier 1|      Type1|        1589.2646|\n",
      "|          FDS46|       17.6|         Regular|    0.047257328|         Snack Foods|119.6782|           OUT046|                     1997|      Small|              Tier 1|      Type1|        2145.2076|\n",
      "|          FDF32|      16.35|         Low Fat|      0.0680243|Fruits and Vegeta...|196.4426|           OUT013|                     1987|       High|              Tier 3|      Type1|         1977.426|\n",
      "|          FDP49|        9.0|         Regular|    0.069088961|           Breakfast| 56.3614|           OUT046|                     1997|      Small|              Tier 1|      Type1|        1547.3192|\n",
      "|          NCB42|       11.8|         Low Fat|    0.008596051|  Health and Hygiene|115.3492|           OUT018|                     2009|     Medium|              Tier 3|      Type2|        1621.8888|\n",
      "|          FDP49|        9.0|         Regular|    0.069196376|           Breakfast| 54.3614|           OUT049|                     1999|     Medium|              Tier 1|      Type1|         718.3982|\n",
      "|          DRI11|       NULL|         Low Fat|    0.034237682|         Hard Drinks|113.2834|           OUT027|                     1985|     Medium|              Tier 3|      Type3|         2303.668|\n",
      "|          FDU02|      13.35|         Low Fat|     0.10249212|               Dairy|230.5352|           OUT035|                     2004|      Small|              Tier 2|      Type1|        2748.4224|\n",
      "+---------------+-----------+----------------+---------------+--------------------+--------+-----------------+-------------------------+-----------+--------------------+-----------+-----------------+\n",
      "only showing top 20 rows\n",
      "\n"
     ]
    }
   ],
   "source": [
    "df.withColumn('Outlet_Type',split('Outlet_Type',' ')[1]).show()"
   ]
  },
  {
   "cell_type": "markdown",
   "metadata": {},
   "source": [
    "### EXPLODE"
   ]
  },
  {
   "cell_type": "code",
   "execution_count": 7,
   "metadata": {},
   "outputs": [
    {
     "name": "stdout",
     "output_type": "stream",
     "text": [
      "+---------------+-----------+----------------+---------------+--------------------+--------+-----------------+-------------------------+-----------+--------------------+--------------------+-----------------+\n",
      "|Item_Identifier|Item_Weight|Item_Fat_Content|Item_Visibility|           Item_Type|Item_MRP|Outlet_Identifier|Outlet_Establishment_Year|Outlet_Size|Outlet_Location_Type|         Outlet_Type|Item_Outlet_Sales|\n",
      "+---------------+-----------+----------------+---------------+--------------------+--------+-----------------+-------------------------+-----------+--------------------+--------------------+-----------------+\n",
      "|          FDA15|        9.3|         Low Fat|    0.016047301|               Dairy|249.8092|           OUT049|                     1999|     Medium|              Tier 1|[Supermarket, Type1]|         3735.138|\n",
      "|          DRC01|       5.92|         Regular|    0.019278216|         Soft Drinks| 48.2692|           OUT018|                     2009|     Medium|              Tier 3|[Supermarket, Type2]|         443.4228|\n",
      "|          FDN15|       17.5|         Low Fat|    0.016760075|                Meat| 141.618|           OUT049|                     1999|     Medium|              Tier 1|[Supermarket, Type1]|          2097.27|\n",
      "|          FDX07|       19.2|         Regular|            0.0|Fruits and Vegeta...| 182.095|           OUT010|                     1998|       NULL|              Tier 3|    [Grocery, Store]|           732.38|\n",
      "|          NCD19|       8.93|         Low Fat|            0.0|           Household| 53.8614|           OUT013|                     1987|       High|              Tier 3|[Supermarket, Type1]|         994.7052|\n",
      "|          FDP36|     10.395|         Regular|            0.0|        Baking Goods| 51.4008|           OUT018|                     2009|     Medium|              Tier 3|[Supermarket, Type2]|         556.6088|\n",
      "|          FDO10|      13.65|         Regular|    0.012741089|         Snack Foods| 57.6588|           OUT013|                     1987|       High|              Tier 3|[Supermarket, Type1]|         343.5528|\n",
      "|          FDP10|       NULL|         Low Fat|    0.127469857|         Snack Foods|107.7622|           OUT027|                     1985|     Medium|              Tier 3|[Supermarket, Type3]|        4022.7636|\n",
      "|          FDH17|       16.2|         Regular|    0.016687114|        Frozen Foods| 96.9726|           OUT045|                     2002|       NULL|              Tier 2|[Supermarket, Type1]|        1076.5986|\n",
      "|          FDU28|       19.2|         Regular|     0.09444959|        Frozen Foods|187.8214|           OUT017|                     2007|       NULL|              Tier 2|[Supermarket, Type1]|         4710.535|\n",
      "|          FDY07|       11.8|         Low Fat|            0.0|Fruits and Vegeta...| 45.5402|           OUT049|                     1999|     Medium|              Tier 1|[Supermarket, Type1]|        1516.0266|\n",
      "|          FDA03|       18.5|         Regular|    0.045463773|               Dairy|144.1102|           OUT046|                     1997|      Small|              Tier 1|[Supermarket, Type1]|         2187.153|\n",
      "|          FDX32|       15.1|         Regular|      0.1000135|Fruits and Vegeta...|145.4786|           OUT049|                     1999|     Medium|              Tier 1|[Supermarket, Type1]|        1589.2646|\n",
      "|          FDS46|       17.6|         Regular|    0.047257328|         Snack Foods|119.6782|           OUT046|                     1997|      Small|              Tier 1|[Supermarket, Type1]|        2145.2076|\n",
      "|          FDF32|      16.35|         Low Fat|      0.0680243|Fruits and Vegeta...|196.4426|           OUT013|                     1987|       High|              Tier 3|[Supermarket, Type1]|         1977.426|\n",
      "|          FDP49|        9.0|         Regular|    0.069088961|           Breakfast| 56.3614|           OUT046|                     1997|      Small|              Tier 1|[Supermarket, Type1]|        1547.3192|\n",
      "|          NCB42|       11.8|         Low Fat|    0.008596051|  Health and Hygiene|115.3492|           OUT018|                     2009|     Medium|              Tier 3|[Supermarket, Type2]|        1621.8888|\n",
      "|          FDP49|        9.0|         Regular|    0.069196376|           Breakfast| 54.3614|           OUT049|                     1999|     Medium|              Tier 1|[Supermarket, Type1]|         718.3982|\n",
      "|          DRI11|       NULL|         Low Fat|    0.034237682|         Hard Drinks|113.2834|           OUT027|                     1985|     Medium|              Tier 3|[Supermarket, Type3]|         2303.668|\n",
      "|          FDU02|      13.35|         Low Fat|     0.10249212|               Dairy|230.5352|           OUT035|                     2004|      Small|              Tier 2|[Supermarket, Type1]|        2748.4224|\n",
      "+---------------+-----------+----------------+---------------+--------------------+--------+-----------------+-------------------------+-----------+--------------------+--------------------+-----------------+\n",
      "only showing top 20 rows\n",
      "\n"
     ]
    }
   ],
   "source": [
    "df_exp=df.withColumn('Outlet_Type',split('Outlet_Type',' '))\n",
    "\n",
    "df_exp.show()"
   ]
  },
  {
   "cell_type": "code",
   "execution_count": 5,
   "metadata": {},
   "outputs": [
    {
     "name": "stdout",
     "output_type": "stream",
     "text": [
      "+---------------+-----------+----------------+---------------+--------------------+--------+-----------------+-------------------------+-----------+--------------------+-----------+-----------------+\n",
      "|Item_Identifier|Item_Weight|Item_Fat_Content|Item_Visibility|           Item_Type|Item_MRP|Outlet_Identifier|Outlet_Establishment_Year|Outlet_Size|Outlet_Location_Type|Outlet_Type|Item_Outlet_Sales|\n",
      "+---------------+-----------+----------------+---------------+--------------------+--------+-----------------+-------------------------+-----------+--------------------+-----------+-----------------+\n",
      "|          FDA15|        9.3|         Low Fat|    0.016047301|               Dairy|249.8092|           OUT049|                     1999|     Medium|              Tier 1|Supermarket|         3735.138|\n",
      "|          FDA15|        9.3|         Low Fat|    0.016047301|               Dairy|249.8092|           OUT049|                     1999|     Medium|              Tier 1|      Type1|         3735.138|\n",
      "|          DRC01|       5.92|         Regular|    0.019278216|         Soft Drinks| 48.2692|           OUT018|                     2009|     Medium|              Tier 3|Supermarket|         443.4228|\n",
      "|          DRC01|       5.92|         Regular|    0.019278216|         Soft Drinks| 48.2692|           OUT018|                     2009|     Medium|              Tier 3|      Type2|         443.4228|\n",
      "|          FDN15|       17.5|         Low Fat|    0.016760075|                Meat| 141.618|           OUT049|                     1999|     Medium|              Tier 1|Supermarket|          2097.27|\n",
      "|          FDN15|       17.5|         Low Fat|    0.016760075|                Meat| 141.618|           OUT049|                     1999|     Medium|              Tier 1|      Type1|          2097.27|\n",
      "|          FDX07|       19.2|         Regular|            0.0|Fruits and Vegeta...| 182.095|           OUT010|                     1998|       NULL|              Tier 3|    Grocery|           732.38|\n",
      "|          FDX07|       19.2|         Regular|            0.0|Fruits and Vegeta...| 182.095|           OUT010|                     1998|       NULL|              Tier 3|      Store|           732.38|\n",
      "|          NCD19|       8.93|         Low Fat|            0.0|           Household| 53.8614|           OUT013|                     1987|       High|              Tier 3|Supermarket|         994.7052|\n",
      "|          NCD19|       8.93|         Low Fat|            0.0|           Household| 53.8614|           OUT013|                     1987|       High|              Tier 3|      Type1|         994.7052|\n",
      "|          FDP36|     10.395|         Regular|            0.0|        Baking Goods| 51.4008|           OUT018|                     2009|     Medium|              Tier 3|Supermarket|         556.6088|\n",
      "|          FDP36|     10.395|         Regular|            0.0|        Baking Goods| 51.4008|           OUT018|                     2009|     Medium|              Tier 3|      Type2|         556.6088|\n",
      "|          FDO10|      13.65|         Regular|    0.012741089|         Snack Foods| 57.6588|           OUT013|                     1987|       High|              Tier 3|Supermarket|         343.5528|\n",
      "|          FDO10|      13.65|         Regular|    0.012741089|         Snack Foods| 57.6588|           OUT013|                     1987|       High|              Tier 3|      Type1|         343.5528|\n",
      "|          FDP10|       NULL|         Low Fat|    0.127469857|         Snack Foods|107.7622|           OUT027|                     1985|     Medium|              Tier 3|Supermarket|        4022.7636|\n",
      "|          FDP10|       NULL|         Low Fat|    0.127469857|         Snack Foods|107.7622|           OUT027|                     1985|     Medium|              Tier 3|      Type3|        4022.7636|\n",
      "|          FDH17|       16.2|         Regular|    0.016687114|        Frozen Foods| 96.9726|           OUT045|                     2002|       NULL|              Tier 2|Supermarket|        1076.5986|\n",
      "|          FDH17|       16.2|         Regular|    0.016687114|        Frozen Foods| 96.9726|           OUT045|                     2002|       NULL|              Tier 2|      Type1|        1076.5986|\n",
      "|          FDU28|       19.2|         Regular|     0.09444959|        Frozen Foods|187.8214|           OUT017|                     2007|       NULL|              Tier 2|Supermarket|         4710.535|\n",
      "|          FDU28|       19.2|         Regular|     0.09444959|        Frozen Foods|187.8214|           OUT017|                     2007|       NULL|              Tier 2|      Type1|         4710.535|\n",
      "+---------------+-----------+----------------+---------------+--------------------+--------+-----------------+-------------------------+-----------+--------------------+-----------+-----------------+\n",
      "only showing top 20 rows\n",
      "\n"
     ]
    }
   ],
   "source": [
    "df_exp.withColumn('Outlet_Type',explode('Outlet_Type')).show()"
   ]
  },
  {
   "cell_type": "markdown",
   "metadata": {},
   "source": [
    "### ARRAY_CONTAINS"
   ]
  },
  {
   "cell_type": "code",
   "execution_count": 8,
   "metadata": {},
   "outputs": [
    {
     "name": "stdout",
     "output_type": "stream",
     "text": [
      "+---------------+-----------+----------------+---------------+--------------------+--------+-----------------+-------------------------+-----------+--------------------+--------------------+-----------------+---------+\n",
      "|Item_Identifier|Item_Weight|Item_Fat_Content|Item_Visibility|           Item_Type|Item_MRP|Outlet_Identifier|Outlet_Establishment_Year|Outlet_Size|Outlet_Location_Type|         Outlet_Type|Item_Outlet_Sales|Type1_flg|\n",
      "+---------------+-----------+----------------+---------------+--------------------+--------+-----------------+-------------------------+-----------+--------------------+--------------------+-----------------+---------+\n",
      "|          FDA15|        9.3|         Low Fat|    0.016047301|               Dairy|249.8092|           OUT049|                     1999|     Medium|              Tier 1|[Supermarket, Type1]|         3735.138|     true|\n",
      "|          DRC01|       5.92|         Regular|    0.019278216|         Soft Drinks| 48.2692|           OUT018|                     2009|     Medium|              Tier 3|[Supermarket, Type2]|         443.4228|    false|\n",
      "|          FDN15|       17.5|         Low Fat|    0.016760075|                Meat| 141.618|           OUT049|                     1999|     Medium|              Tier 1|[Supermarket, Type1]|          2097.27|     true|\n",
      "|          FDX07|       19.2|         Regular|            0.0|Fruits and Vegeta...| 182.095|           OUT010|                     1998|       NULL|              Tier 3|    [Grocery, Store]|           732.38|    false|\n",
      "|          NCD19|       8.93|         Low Fat|            0.0|           Household| 53.8614|           OUT013|                     1987|       High|              Tier 3|[Supermarket, Type1]|         994.7052|     true|\n",
      "|          FDP36|     10.395|         Regular|            0.0|        Baking Goods| 51.4008|           OUT018|                     2009|     Medium|              Tier 3|[Supermarket, Type2]|         556.6088|    false|\n",
      "|          FDO10|      13.65|         Regular|    0.012741089|         Snack Foods| 57.6588|           OUT013|                     1987|       High|              Tier 3|[Supermarket, Type1]|         343.5528|     true|\n",
      "|          FDP10|       NULL|         Low Fat|    0.127469857|         Snack Foods|107.7622|           OUT027|                     1985|     Medium|              Tier 3|[Supermarket, Type3]|        4022.7636|    false|\n",
      "|          FDH17|       16.2|         Regular|    0.016687114|        Frozen Foods| 96.9726|           OUT045|                     2002|       NULL|              Tier 2|[Supermarket, Type1]|        1076.5986|     true|\n",
      "|          FDU28|       19.2|         Regular|     0.09444959|        Frozen Foods|187.8214|           OUT017|                     2007|       NULL|              Tier 2|[Supermarket, Type1]|         4710.535|     true|\n",
      "|          FDY07|       11.8|         Low Fat|            0.0|Fruits and Vegeta...| 45.5402|           OUT049|                     1999|     Medium|              Tier 1|[Supermarket, Type1]|        1516.0266|     true|\n",
      "|          FDA03|       18.5|         Regular|    0.045463773|               Dairy|144.1102|           OUT046|                     1997|      Small|              Tier 1|[Supermarket, Type1]|         2187.153|     true|\n",
      "|          FDX32|       15.1|         Regular|      0.1000135|Fruits and Vegeta...|145.4786|           OUT049|                     1999|     Medium|              Tier 1|[Supermarket, Type1]|        1589.2646|     true|\n",
      "|          FDS46|       17.6|         Regular|    0.047257328|         Snack Foods|119.6782|           OUT046|                     1997|      Small|              Tier 1|[Supermarket, Type1]|        2145.2076|     true|\n",
      "|          FDF32|      16.35|         Low Fat|      0.0680243|Fruits and Vegeta...|196.4426|           OUT013|                     1987|       High|              Tier 3|[Supermarket, Type1]|         1977.426|     true|\n",
      "|          FDP49|        9.0|         Regular|    0.069088961|           Breakfast| 56.3614|           OUT046|                     1997|      Small|              Tier 1|[Supermarket, Type1]|        1547.3192|     true|\n",
      "|          NCB42|       11.8|         Low Fat|    0.008596051|  Health and Hygiene|115.3492|           OUT018|                     2009|     Medium|              Tier 3|[Supermarket, Type2]|        1621.8888|    false|\n",
      "|          FDP49|        9.0|         Regular|    0.069196376|           Breakfast| 54.3614|           OUT049|                     1999|     Medium|              Tier 1|[Supermarket, Type1]|         718.3982|     true|\n",
      "|          DRI11|       NULL|         Low Fat|    0.034237682|         Hard Drinks|113.2834|           OUT027|                     1985|     Medium|              Tier 3|[Supermarket, Type3]|         2303.668|    false|\n",
      "|          FDU02|      13.35|         Low Fat|     0.10249212|               Dairy|230.5352|           OUT035|                     2004|      Small|              Tier 2|[Supermarket, Type1]|        2748.4224|     true|\n",
      "+---------------+-----------+----------------+---------------+--------------------+--------+-----------------+-------------------------+-----------+--------------------+--------------------+-----------------+---------+\n",
      "only showing top 20 rows\n",
      "\n"
     ]
    }
   ],
   "source": [
    "df_exp.withColumn('Type1_flg',array_contains('Outlet_Type','Type1')).show()"
   ]
  },
  {
   "cell_type": "markdown",
   "metadata": {},
   "source": [
    "### GROUP_BY"
   ]
  },
  {
   "cell_type": "code",
   "execution_count": 10,
   "metadata": {},
   "outputs": [
    {
     "name": "stdout",
     "output_type": "stream",
     "text": [
      "+--------------------+------------------+\n",
      "|           Item_Type|     sum(Item_MRP)|\n",
      "+--------------------+------------------+\n",
      "|       Starchy Foods|21880.027399999995|\n",
      "|        Baking Goods| 81894.73640000001|\n",
      "|              Breads| 35379.11979999999|\n",
      "|Fruits and Vegeta...|178124.08099999998|\n",
      "|                Meat|59449.863799999956|\n",
      "|         Hard Drinks|29334.676599999995|\n",
      "|         Soft Drinks|58514.164999999964|\n",
      "|           Household|135976.52539999998|\n",
      "|           Breakfast|        15596.6966|\n",
      "|               Dairy|101276.45959999996|\n",
      "|         Snack Foods|175433.92040000003|\n",
      "|              Others|22451.891600000006|\n",
      "|             Seafood| 9077.870000000003|\n",
      "|              Canned|  90706.7269999999|\n",
      "|        Frozen Foods|118558.88140000001|\n",
      "|  Health and Hygiene|        68025.8388|\n",
      "+--------------------+------------------+\n",
      "\n"
     ]
    }
   ],
   "source": [
    "df.groupBy('Item_Type').agg(sum('Item_MRP')).show()"
   ]
  },
  {
   "cell_type": "code",
   "execution_count": 12,
   "metadata": {},
   "outputs": [
    {
     "name": "stdout",
     "output_type": "stream",
     "text": [
      "+--------------------+------------------+\n",
      "|           Item_Type|               AVG|\n",
      "+--------------------+------------------+\n",
      "|       Starchy Foods|147.83802297297294|\n",
      "|        Baking Goods|126.38076604938273|\n",
      "|              Breads| 140.9526685258964|\n",
      "|Fruits and Vegeta...|144.58123457792206|\n",
      "|                Meat|139.88203247058814|\n",
      "|         Hard Drinks|137.07792803738315|\n",
      "|         Soft Drinks|131.49250561797746|\n",
      "|           Household|149.42475318681318|\n",
      "|           Breakfast|141.78815090909092|\n",
      "|               Dairy|148.49920762463336|\n",
      "|         Snack Foods|146.19493366666669|\n",
      "|              Others|132.85142958579885|\n",
      "|             Seafood|141.84171875000004|\n",
      "|              Canned|139.76383204930647|\n",
      "|        Frozen Foods|138.50336612149533|\n",
      "|  Health and Hygiene|130.81892076923077|\n",
      "+--------------------+------------------+\n",
      "\n"
     ]
    }
   ],
   "source": [
    "df.groupBy('Item_Type').agg(avg('Item_MRP').alias('AVG')).show()"
   ]
  },
  {
   "cell_type": "code",
   "execution_count": 15,
   "metadata": {},
   "outputs": [
    {
     "name": "stdout",
     "output_type": "stream",
     "text": [
      "+--------------------+-----------+------------------+------------------+\n",
      "|           Item_Type|Outlet_Size|               SUM|               AVG|\n",
      "+--------------------+-----------+------------------+------------------+\n",
      "|       Starchy Foods|     Medium| 7124.136199999997| 148.4195041666666|\n",
      "|Fruits and Vegeta...|     Medium|59047.217200000014| 142.9714702179177|\n",
      "|       Starchy Foods|       NULL|         6040.6402|140.48000465116277|\n",
      "|              Breads|       NULL|        10011.5004|139.04861666666667|\n",
      "|        Baking Goods|       NULL|23433.838799999994|126.66939891891889|\n",
      "|Fruits and Vegeta...|       NULL|49758.730999999985|142.57516045845267|\n",
      "|        Frozen Foods|       High|12588.291000000001|         136.82925|\n",
      "|         Soft Drinks|       High| 6456.165199999999|131.75847346938772|\n",
      "|           Breakfast|      Small|3917.0407999999998|130.56802666666667|\n",
      "|                Meat|     Medium| 20326.45059999999|136.41913154362408|\n",
      "|Fruits and Vegeta...|       High| 20671.34759999999|145.57287042253515|\n",
      "|                Meat|       High| 5627.036400000002| 137.2447902439025|\n",
      "|        Baking Goods|       High| 9431.749199999998|129.20204383561642|\n",
      "|           Household|     Medium| 42688.57439999998|147.71133010380618|\n",
      "|                Meat|       NULL|16158.166000000005|139.29453448275865|\n",
      "|         Hard Drinks|       NULL| 8869.577199999998| 134.3875333333333|\n",
      "|         Hard Drinks|      Small|         6487.9392|        129.758784|\n",
      "|         Soft Drinks|       NULL|17745.318000000003|133.42344360902257|\n",
      "|           Household|       NULL| 38567.78840000001|147.76930421455944|\n",
      "|               Dairy|       High|12280.733799999996|153.50917249999995|\n",
      "+--------------------+-----------+------------------+------------------+\n",
      "only showing top 20 rows\n",
      "\n"
     ]
    }
   ],
   "source": [
    "df.groupBy('Item_Type','Outlet_Size').agg(sum('Item_MRP').alias('SUM'),avg('Item_MRP').alias(\"AVG\")).show()"
   ]
  },
  {
   "cell_type": "markdown",
   "metadata": {},
   "source": [
    "### COLLECT_LIST"
   ]
  },
  {
   "cell_type": "code",
   "execution_count": 18,
   "metadata": {},
   "outputs": [
    {
     "name": "stdout",
     "output_type": "stream",
     "text": [
      "+-----+-----+\n",
      "| user| book|\n",
      "+-----+-----+\n",
      "|user1|book1|\n",
      "|user1|book2|\n",
      "|user2|book2|\n",
      "|user2|book4|\n",
      "|user3|book1|\n",
      "+-----+-----+\n",
      "\n"
     ]
    }
   ],
   "source": [
    "data = [('user1','book1'),\n",
    "        ('user1','book2'),\n",
    "        ('user2','book2'),\n",
    "        ('user2','book4'),\n",
    "        ('user3','book1')]\n",
    "\n",
    "schema='user string, book string'\n",
    "\n",
    "df_book=spark.createDataFrame(data,schema)\n",
    "\n",
    "df_book.show()"
   ]
  },
  {
   "cell_type": "code",
   "execution_count": 19,
   "metadata": {},
   "outputs": [
    {
     "name": "stdout",
     "output_type": "stream",
     "text": [
      "+-----+------------------+\n",
      "| user|collect_list(book)|\n",
      "+-----+------------------+\n",
      "|user1|    [book1, book2]|\n",
      "|user2|    [book2, book4]|\n",
      "|user3|           [book1]|\n",
      "+-----+------------------+\n",
      "\n"
     ]
    }
   ],
   "source": [
    "df_book.groupBy('user').agg(collect_list('book')).show()"
   ]
  },
  {
   "cell_type": "markdown",
   "metadata": {},
   "source": [
    "### PIVOT"
   ]
  },
  {
   "cell_type": "code",
   "execution_count": 20,
   "metadata": {},
   "outputs": [
    {
     "name": "stdout",
     "output_type": "stream",
     "text": [
      "+--------------------+------------------+------------------+------------------+------------------+\n",
      "|           item_Type|              null|              High|            Medium|             Small|\n",
      "+--------------------+------------------+------------------+------------------+------------------+\n",
      "|       Starchy Foods|140.48000465116277|158.15707368421053| 148.4195041666666| 150.2701736842105|\n",
      "|              Breads|139.04861666666667|         133.75896| 140.8610385542169| 145.5236507042254|\n",
      "|        Baking Goods|126.66939891891889|129.20204383561642|126.17856847290639|125.21336363636368|\n",
      "|Fruits and Vegeta...|142.57516045845267|145.57287042253515| 142.9714702179177|148.31336951219507|\n",
      "|                Meat|139.29453448275865| 137.2447902439025|136.41913154362408|145.69925042016808|\n",
      "|         Hard Drinks| 134.3875333333333| 141.9275217391304|142.83769599999994|        129.758784|\n",
      "|         Soft Drinks|133.42344360902257|131.75847346938772| 128.2696817518248| 132.8550428571429|\n",
      "|           Household|147.76930421455944|147.09752233009704|147.71133010380618| 153.9654389105058|\n",
      "|           Breakfast| 158.6750903225807|147.49058461538462|134.53751111111112|130.56802666666667|\n",
      "|               Dairy| 149.0512677419355|153.50917249999995|148.51217431192666|145.94210101010103|\n",
      "|         Snack Foods| 145.0097524096384|145.84708639999994|148.77919509803917|144.35189611940308|\n",
      "|              Others|132.59299565217393|       132.5766125|127.83618076923078|137.88921090909088|\n",
      "|             Seafood|142.21686666666668|134.86424000000002|  140.857619047619|         144.28176|\n",
      "|              Canned|140.65181123595508| 135.4427076923077|138.12485069124423|142.29542857142857|\n",
      "|        Frozen Foods|137.49448464730293|         136.82925|140.55701532846714|137.83854377510033|\n",
      "|  Health and Hygiene|130.55989019607844|135.11098032786884|128.70186470588237|131.83153529411757|\n",
      "+--------------------+------------------+------------------+------------------+------------------+\n",
      "\n"
     ]
    }
   ],
   "source": [
    "df.groupby('item_Type').pivot('Outlet_Size').agg(avg('Item_MRP')).show()"
   ]
  },
  {
   "cell_type": "markdown",
   "metadata": {},
   "source": [
    "### WHEN-OTHERWISE"
   ]
  },
  {
   "cell_type": "markdown",
   "metadata": {},
   "source": [
    "Scenario - 1 - if item_type is meat is non-veg else veg"
   ]
  },
  {
   "cell_type": "code",
   "execution_count": 24,
   "metadata": {},
   "outputs": [],
   "source": [
    "df=df.withColumn('veg_flag',when(col('Item_Type')=='Meat','Non-Veg').otherwise('veg'))"
   ]
  },
  {
   "cell_type": "markdown",
   "metadata": {},
   "source": [
    "Scenario - 2 - if item type is veg and item mrp is <100 then it is inexpensive else veg expensive otherwise non veg"
   ]
  },
  {
   "cell_type": "code",
   "execution_count": 29,
   "metadata": {},
   "outputs": [
    {
     "name": "stdout",
     "output_type": "stream",
     "text": [
      "+---------------+-----------+----------------+---------------+--------------------+--------+-----------------+-------------------------+-----------+--------------------+-----------------+-----------------+--------+---------------+\n",
      "|Item_Identifier|Item_Weight|Item_Fat_Content|Item_Visibility|           Item_Type|Item_MRP|Outlet_Identifier|Outlet_Establishment_Year|Outlet_Size|Outlet_Location_Type|      Outlet_Type|Item_Outlet_Sales|veg_flag|    veg_exp_flg|\n",
      "+---------------+-----------+----------------+---------------+--------------------+--------+-----------------+-------------------------+-----------+--------------------+-----------------+-----------------+--------+---------------+\n",
      "|          FDA15|        9.3|         Low Fat|    0.016047301|               Dairy|249.8092|           OUT049|                     1999|     Medium|              Tier 1|Supermarket Type1|         3735.138|     veg|  Veg_Expensive|\n",
      "|          DRC01|       5.92|         Regular|    0.019278216|         Soft Drinks| 48.2692|           OUT018|                     2009|     Medium|              Tier 3|Supermarket Type2|         443.4228|     veg|Veg_Inexpensive|\n",
      "|          FDN15|       17.5|         Low Fat|    0.016760075|                Meat| 141.618|           OUT049|                     1999|     Medium|              Tier 1|Supermarket Type1|          2097.27| Non-Veg|        Non_Veg|\n",
      "|          FDX07|       19.2|         Regular|            0.0|Fruits and Vegeta...| 182.095|           OUT010|                     1998|       NULL|              Tier 3|    Grocery Store|           732.38|     veg|  Veg_Expensive|\n",
      "|          NCD19|       8.93|         Low Fat|            0.0|           Household| 53.8614|           OUT013|                     1987|       High|              Tier 3|Supermarket Type1|         994.7052|     veg|Veg_Inexpensive|\n",
      "|          FDP36|     10.395|         Regular|            0.0|        Baking Goods| 51.4008|           OUT018|                     2009|     Medium|              Tier 3|Supermarket Type2|         556.6088|     veg|Veg_Inexpensive|\n",
      "|          FDO10|      13.65|         Regular|    0.012741089|         Snack Foods| 57.6588|           OUT013|                     1987|       High|              Tier 3|Supermarket Type1|         343.5528|     veg|Veg_Inexpensive|\n",
      "|          FDP10|       NULL|         Low Fat|    0.127469857|         Snack Foods|107.7622|           OUT027|                     1985|     Medium|              Tier 3|Supermarket Type3|        4022.7636|     veg|  Veg_Expensive|\n",
      "|          FDH17|       16.2|         Regular|    0.016687114|        Frozen Foods| 96.9726|           OUT045|                     2002|       NULL|              Tier 2|Supermarket Type1|        1076.5986|     veg|Veg_Inexpensive|\n",
      "|          FDU28|       19.2|         Regular|     0.09444959|        Frozen Foods|187.8214|           OUT017|                     2007|       NULL|              Tier 2|Supermarket Type1|         4710.535|     veg|  Veg_Expensive|\n",
      "|          FDY07|       11.8|         Low Fat|            0.0|Fruits and Vegeta...| 45.5402|           OUT049|                     1999|     Medium|              Tier 1|Supermarket Type1|        1516.0266|     veg|Veg_Inexpensive|\n",
      "|          FDA03|       18.5|         Regular|    0.045463773|               Dairy|144.1102|           OUT046|                     1997|      Small|              Tier 1|Supermarket Type1|         2187.153|     veg|  Veg_Expensive|\n",
      "|          FDX32|       15.1|         Regular|      0.1000135|Fruits and Vegeta...|145.4786|           OUT049|                     1999|     Medium|              Tier 1|Supermarket Type1|        1589.2646|     veg|  Veg_Expensive|\n",
      "|          FDS46|       17.6|         Regular|    0.047257328|         Snack Foods|119.6782|           OUT046|                     1997|      Small|              Tier 1|Supermarket Type1|        2145.2076|     veg|  Veg_Expensive|\n",
      "|          FDF32|      16.35|         Low Fat|      0.0680243|Fruits and Vegeta...|196.4426|           OUT013|                     1987|       High|              Tier 3|Supermarket Type1|         1977.426|     veg|  Veg_Expensive|\n",
      "|          FDP49|        9.0|         Regular|    0.069088961|           Breakfast| 56.3614|           OUT046|                     1997|      Small|              Tier 1|Supermarket Type1|        1547.3192|     veg|Veg_Inexpensive|\n",
      "|          NCB42|       11.8|         Low Fat|    0.008596051|  Health and Hygiene|115.3492|           OUT018|                     2009|     Medium|              Tier 3|Supermarket Type2|        1621.8888|     veg|  Veg_Expensive|\n",
      "|          FDP49|        9.0|         Regular|    0.069196376|           Breakfast| 54.3614|           OUT049|                     1999|     Medium|              Tier 1|Supermarket Type1|         718.3982|     veg|Veg_Inexpensive|\n",
      "|          DRI11|       NULL|         Low Fat|    0.034237682|         Hard Drinks|113.2834|           OUT027|                     1985|     Medium|              Tier 3|Supermarket Type3|         2303.668|     veg|  Veg_Expensive|\n",
      "|          FDU02|      13.35|         Low Fat|     0.10249212|               Dairy|230.5352|           OUT035|                     2004|      Small|              Tier 2|Supermarket Type1|        2748.4224|     veg|  Veg_Expensive|\n",
      "+---------------+-----------+----------------+---------------+--------------------+--------+-----------------+-------------------------+-----------+--------------------+-----------------+-----------------+--------+---------------+\n",
      "only showing top 20 rows\n",
      "\n"
     ]
    }
   ],
   "source": [
    "df.withColumn('veg_exp_flg',when(((col('veg_flag')=='veg') \\\n",
    "              & (col('Item_MRP')<100)),'Veg_Inexpensive') \\\n",
    "              .when((col('veg_flag')=='veg') \\\n",
    "              & (col('Item_MRP')>100),'Veg_Expensive') \\\n",
    "              .otherwise('Non_Veg')).show()"
   ]
  },
  {
   "cell_type": "markdown",
   "metadata": {},
   "source": [
    "### JOINS"
   ]
  },
  {
   "cell_type": "markdown",
   "metadata": {},
   "source": [
    "- Inner Join\n",
    "- Left Join\n",
    "- Right Join\n",
    "- Full Join\n",
    "- Anti Join"
   ]
  },
  {
   "cell_type": "code",
   "execution_count": 30,
   "metadata": {},
   "outputs": [],
   "source": [
    "dataj1 = [('1','gaur','d01'),\n",
    "          ('2','kit','d02'),\n",
    "          ('3','sam','d03'),\n",
    "          ('4','tim','d03'),\n",
    "          ('5','aman','d05'),\n",
    "          ('6','nad','d06')] \n",
    "\n",
    "schemaj1 = 'emp_id STRING, emp_name STRING, dept_id STRING' \n",
    "\n",
    "df1 = spark.createDataFrame(dataj1,schemaj1)\n",
    "\n",
    "dataj2 = [('d01','HR'),\n",
    "          ('d02','Marketing'),\n",
    "          ('d03','Accounts'),\n",
    "          ('d04','IT'),\n",
    "          ('d05','Finance')]\n",
    "\n",
    "schemaj2 = 'dept_id STRING, department STRING'\n",
    "\n",
    "df2 = spark.createDataFrame(dataj2,schemaj2)"
   ]
  },
  {
   "cell_type": "code",
   "execution_count": 31,
   "metadata": {},
   "outputs": [
    {
     "name": "stdout",
     "output_type": "stream",
     "text": [
      "+------+--------+-------+\n",
      "|emp_id|emp_name|dept_id|\n",
      "+------+--------+-------+\n",
      "|     1|    gaur|    d01|\n",
      "|     2|     kit|    d02|\n",
      "|     3|     sam|    d03|\n",
      "|     4|     tim|    d03|\n",
      "|     5|    aman|    d05|\n",
      "|     6|     nad|    d06|\n",
      "+------+--------+-------+\n",
      "\n",
      "+-------+----------+\n",
      "|dept_id|department|\n",
      "+-------+----------+\n",
      "|    d01|        HR|\n",
      "|    d02| Marketing|\n",
      "|    d03|  Accounts|\n",
      "|    d04|        IT|\n",
      "|    d05|   Finance|\n",
      "+-------+----------+\n",
      "\n"
     ]
    }
   ],
   "source": [
    "df1.show()\n",
    "df2.show()"
   ]
  },
  {
   "cell_type": "markdown",
   "metadata": {},
   "source": [
    "INNER JOIN"
   ]
  },
  {
   "cell_type": "code",
   "execution_count": 32,
   "metadata": {},
   "outputs": [
    {
     "name": "stdout",
     "output_type": "stream",
     "text": [
      "+------+--------+-------+-------+----------+\n",
      "|emp_id|emp_name|dept_id|dept_id|department|\n",
      "+------+--------+-------+-------+----------+\n",
      "|     1|    gaur|    d01|    d01|        HR|\n",
      "|     2|     kit|    d02|    d02| Marketing|\n",
      "|     3|     sam|    d03|    d03|  Accounts|\n",
      "|     4|     tim|    d03|    d03|  Accounts|\n",
      "|     5|    aman|    d05|    d05|   Finance|\n",
      "+------+--------+-------+-------+----------+\n",
      "\n"
     ]
    }
   ],
   "source": [
    "df1.join(df2, df1['dept_id']==df2['dept_id'],'inner').show()"
   ]
  },
  {
   "cell_type": "markdown",
   "metadata": {},
   "source": [
    "LEFT JOIN"
   ]
  },
  {
   "cell_type": "code",
   "execution_count": 37,
   "metadata": {},
   "outputs": [
    {
     "name": "stdout",
     "output_type": "stream",
     "text": [
      "+------+--------+-------+-------+----------+\n",
      "|emp_id|emp_name|dept_id|dept_id|department|\n",
      "+------+--------+-------+-------+----------+\n",
      "|     1|    gaur|    d01|    d01|        HR|\n",
      "|     2|     kit|    d02|    d02| Marketing|\n",
      "|     3|     sam|    d03|    d03|  Accounts|\n",
      "|     4|     tim|    d03|    d03|  Accounts|\n",
      "|     5|    aman|    d05|    d05|   Finance|\n",
      "|     6|     nad|    d06|   NULL|      NULL|\n",
      "+------+--------+-------+-------+----------+\n",
      "\n"
     ]
    }
   ],
   "source": [
    "df1.join(df2, df1['dept_id']==df2['dept_id'],'LEFT').show()"
   ]
  },
  {
   "cell_type": "markdown",
   "metadata": {},
   "source": [
    "RIGHT JOIN"
   ]
  },
  {
   "cell_type": "code",
   "execution_count": 36,
   "metadata": {},
   "outputs": [
    {
     "name": "stdout",
     "output_type": "stream",
     "text": [
      "+------+--------+-------+-------+----------+\n",
      "|emp_id|emp_name|dept_id|dept_id|department|\n",
      "+------+--------+-------+-------+----------+\n",
      "|     1|    gaur|    d01|    d01|        HR|\n",
      "|     2|     kit|    d02|    d02| Marketing|\n",
      "|     4|     tim|    d03|    d03|  Accounts|\n",
      "|     3|     sam|    d03|    d03|  Accounts|\n",
      "|  NULL|    NULL|   NULL|    d04|        IT|\n",
      "|     5|    aman|    d05|    d05|   Finance|\n",
      "+------+--------+-------+-------+----------+\n",
      "\n"
     ]
    }
   ],
   "source": [
    "df1.join(df2, df1['dept_id']==df2['dept_id'],'right').show()"
   ]
  },
  {
   "cell_type": "markdown",
   "metadata": {},
   "source": [
    "ANTI JOIN"
   ]
  },
  {
   "cell_type": "code",
   "execution_count": 38,
   "metadata": {},
   "outputs": [
    {
     "name": "stdout",
     "output_type": "stream",
     "text": [
      "+------+--------+-------+\n",
      "|emp_id|emp_name|dept_id|\n",
      "+------+--------+-------+\n",
      "|     6|     nad|    d06|\n",
      "+------+--------+-------+\n",
      "\n"
     ]
    }
   ],
   "source": [
    "df1.join(df2, df1['dept_id']==df2['dept_id'],'anti').show()"
   ]
  },
  {
   "cell_type": "markdown",
   "metadata": {},
   "source": [
    "### WINDOW FUNCTIONS"
   ]
  },
  {
   "cell_type": "markdown",
   "metadata": {},
   "source": [
    "- ROW NUMBER()\n",
    "- RANK()\n",
    "- DENSE_RANK()"
   ]
  },
  {
   "cell_type": "markdown",
   "metadata": {},
   "source": [
    "ROW_NUMBER()"
   ]
  },
  {
   "cell_type": "code",
   "execution_count": 39,
   "metadata": {},
   "outputs": [],
   "source": [
    "from pyspark.sql.window import Window"
   ]
  },
  {
   "cell_type": "code",
   "execution_count": 40,
   "metadata": {},
   "outputs": [
    {
     "name": "stdout",
     "output_type": "stream",
     "text": [
      "+---------------+-----------+----------------+---------------+-----------+--------+-----------------+-------------------------+-----------+--------------------+-----------------+-----------------+--------+------+\n",
      "|Item_Identifier|Item_Weight|Item_Fat_Content|Item_Visibility|  Item_Type|Item_MRP|Outlet_Identifier|Outlet_Establishment_Year|Outlet_Size|Outlet_Location_Type|      Outlet_Type|Item_Outlet_Sales|veg_flag|rowCol|\n",
      "+---------------+-----------+----------------+---------------+-----------+--------+-----------------+-------------------------+-----------+--------------------+-----------------+-----------------+--------+------+\n",
      "|          DRA12|       11.6|         Low Fat|    0.041177505|Soft Drinks|140.3154|           OUT017|                     2007|       NULL|              Tier 2|Supermarket Type1|        2552.6772|     veg|     1|\n",
      "|          DRA12|       11.6|         Low Fat|            0.0|Soft Drinks|141.6154|           OUT045|                     2002|       NULL|              Tier 2|Supermarket Type1|        3829.0158|     veg|     2|\n",
      "|          DRA12|       11.6|         Low Fat|    0.040911824|Soft Drinks|142.3154|           OUT013|                     1987|       High|              Tier 3|Supermarket Type1|        2552.6772|     veg|     3|\n",
      "|          DRA12|       11.6|              LF|            0.0|Soft Drinks|141.9154|           OUT035|                     2004|      Small|              Tier 2|Supermarket Type1|         992.7078|     veg|     4|\n",
      "|          DRA12|       11.6|         Low Fat|    0.041112694|Soft Drinks|142.0154|           OUT018|                     2009|     Medium|              Tier 3|Supermarket Type2|         850.8924|     veg|     5|\n",
      "|          DRA12|       11.6|         Low Fat|    0.068535039|Soft Drinks|143.0154|           OUT010|                     1998|       NULL|              Tier 3|    Grocery Store|         283.6308|     veg|     6|\n",
      "|          DRA24|      19.35|         Regular|    0.040154087|Soft Drinks|164.6868|           OUT017|                     2007|       NULL|              Tier 2|Supermarket Type1|        1146.5076|     veg|     7|\n",
      "|          DRA24|       NULL|         Regular|    0.039734882|Soft Drinks|165.7868|           OUT027|                     1985|     Medium|              Tier 3|Supermarket Type3|         4913.604|     veg|     8|\n",
      "|          DRA24|      19.35|         Regular|    0.039920687|Soft Drinks|163.3868|           OUT035|                     2004|      Small|              Tier 2|Supermarket Type1|        3439.5228|     veg|     9|\n",
      "|          DRA24|       NULL|         Regular|    0.069909188|Soft Drinks|163.2868|           OUT019|                     1985|      Small|              Tier 1|    Grocery Store|         491.3604|     veg|    10|\n",
      "|          DRA24|      19.35|         Regular|    0.066831682|Soft Drinks|163.8868|           OUT010|                     1998|       NULL|              Tier 3|    Grocery Store|         327.5736|     veg|    11|\n",
      "|          DRA24|      19.35|         Regular|    0.039990314|Soft Drinks|165.0868|           OUT049|                     1999|     Medium|              Tier 1|Supermarket Type1|         982.7208|     veg|    12|\n",
      "|          DRA24|      19.35|         Regular|    0.039895009|Soft Drinks|162.4868|           OUT013|                     1987|       High|              Tier 3|Supermarket Type1|        4422.2436|     veg|    13|\n",
      "|          DRA59|       8.27|         Regular|    0.127927931|Soft Drinks|184.8924|           OUT046|                     1997|      Small|              Tier 1|Supermarket Type1|        4442.2176|     veg|    14|\n",
      "|          DRA59|       8.27|         Regular|    0.128126825|Soft Drinks|183.6924|           OUT049|                     1999|     Medium|              Tier 1|Supermarket Type1|        1295.6468|     veg|    15|\n",
      "|          DRA59|       8.27|         Regular|    0.127821472|Soft Drinks|185.9924|           OUT013|                     1987|       High|              Tier 3|Supermarket Type1|         555.2772|     veg|    16|\n",
      "|          DRA59|       8.27|         Regular|            0.0|Soft Drinks|183.2924|           OUT017|                     2007|       NULL|              Tier 2|Supermarket Type1|        2406.2012|     veg|    17|\n",
      "|          DRA59|       NULL|         Regular|    0.127308434|Soft Drinks|186.6924|           OUT027|                     1985|     Medium|              Tier 3|Supermarket Type3|        7033.5112|     veg|    18|\n",
      "|          DRA59|       NULL|         Regular|    0.223985293|Soft Drinks|186.2924|           OUT019|                     1985|      Small|              Tier 1|    Grocery Store|         555.2772|     veg|    19|\n",
      "|          DRA59|       8.27|         Regular|    0.128449055|Soft Drinks|186.5924|           OUT018|                     2009|     Medium|              Tier 3|Supermarket Type2|        4442.2176|     veg|    20|\n",
      "+---------------+-----------+----------------+---------------+-----------+--------+-----------------+-------------------------+-----------+--------------------+-----------------+-----------------+--------+------+\n",
      "only showing top 20 rows\n",
      "\n"
     ]
    }
   ],
   "source": [
    "df.withColumn('rowCol',row_number().over(Window.orderBy('Item_Identifier'))).show()"
   ]
  },
  {
   "cell_type": "markdown",
   "metadata": {},
   "source": [
    "RANK()"
   ]
  },
  {
   "cell_type": "code",
   "execution_count": 42,
   "metadata": {},
   "outputs": [
    {
     "name": "stdout",
     "output_type": "stream",
     "text": [
      "+---------------+-----------+----------------+---------------+------------------+--------+-----------------+-------------------------+-----------+--------------------+-----------------+-----------------+--------+----+\n",
      "|Item_Identifier|Item_Weight|Item_Fat_Content|Item_Visibility|         Item_Type|Item_MRP|Outlet_Identifier|Outlet_Establishment_Year|Outlet_Size|Outlet_Location_Type|      Outlet_Type|Item_Outlet_Sales|veg_flag|rank|\n",
      "+---------------+-----------+----------------+---------------+------------------+--------+-----------------+-------------------------+-----------+--------------------+-----------------+-----------------+--------+----+\n",
      "|          NCZ54|      14.65|         Low Fat|    0.083359391|         Household|161.9552|           OUT046|                     1997|      Small|              Tier 1|Supermarket Type1|        4711.2008|     veg|   1|\n",
      "|          NCZ54|       NULL|         Low Fat|    0.082955719|         Household|164.0552|           OUT027|                     1985|     Medium|              Tier 3|Supermarket Type3|        5523.4768|     veg|   1|\n",
      "|          NCZ54|      14.65|         Low Fat|    0.083528446|         Household|162.4552|           OUT045|                     2002|       NULL|              Tier 2|Supermarket Type1|        2274.3728|     veg|   1|\n",
      "|          NCZ54|      14.65|         Low Fat|            0.0|         Household|161.5552|           OUT010|                     1998|       NULL|              Tier 3|    Grocery Store|         324.9104|     veg|   1|\n",
      "|          NCZ54|       NULL|         Low Fat|    0.145951533|         Household|160.9552|           OUT019|                     1985|      Small|              Tier 1|    Grocery Store|         162.4552|     veg|   1|\n",
      "|          NCZ54|      14.65|         Low Fat|    0.083698962|         Household|163.4552|           OUT018|                     2009|     Medium|              Tier 3|Supermarket Type2|        2599.2832|     veg|   1|\n",
      "|          NCZ54|      14.65|         Low Fat|    0.083488992|         Household|161.3552|           OUT049|                     1999|     Medium|              Tier 1|Supermarket Type1|        7148.0288|     veg|   1|\n",
      "|          NCZ53|        9.6|         Low Fat|    0.040969757|Health and Hygiene|188.7214|           OUT010|                     1998|       NULL|              Tier 3|    Grocery Store|         376.8428|     veg|   8|\n",
      "|          NCZ53|       NULL|         Low Fat|    0.024358634|Health and Hygiene|190.4214|           OUT027|                     1985|     Medium|              Tier 3|Supermarket Type3|         5652.642|     veg|   8|\n",
      "|          NCZ53|        9.6|         Low Fat|    0.024576875|Health and Hygiene|186.6214|           OUT018|                     2009|     Medium|              Tier 3|Supermarket Type2|         1884.214|     veg|   8|\n",
      "|          NCZ53|        9.6|         Low Fat|    0.024456797|Health and Hygiene|186.6214|           OUT013|                     1987|       High|              Tier 3|Supermarket Type1|        3203.1638|     veg|   8|\n",
      "|          NCZ53|        9.6|         Low Fat|    0.024515221|Health and Hygiene|189.2214|           OUT049|                     1999|     Medium|              Tier 1|Supermarket Type1|        3956.8494|     veg|   8|\n",
      "|          NCZ42|       10.5|         Low Fat|            0.0|         Household|238.3248|           OUT010|                     1998|       NULL|              Tier 3|    Grocery Store|         711.0744|     veg|  13|\n",
      "|          NCZ42|       10.5|         Low Fat|    0.011351778|         Household|236.5248|           OUT017|                     2007|       NULL|              Tier 2|Supermarket Type1|        4029.4216|     veg|  13|\n",
      "|          NCZ42|       10.5|         Low Fat|    0.011278535|         Household|237.0248|           OUT013|                     1987|       High|              Tier 3|Supermarket Type1|        5451.5704|     veg|  13|\n",
      "|          NCZ42|       10.5|         Low Fat|    0.011285795|         Household|235.8248|           OUT035|                     2004|      Small|              Tier 2|Supermarket Type1|        4266.4464|     veg|  13|\n",
      "|          NCZ42|       10.5|              LF|    0.011305479|         Household|235.5248|           OUT049|                     1999|     Medium|              Tier 1|Supermarket Type1|         4740.496|     veg|  13|\n",
      "|          NCZ41|      19.85|         Low Fat|    0.064367627|Health and Hygiene|126.1704|           OUT013|                     1987|       High|              Tier 3|Supermarket Type1|         876.1928|     veg|  18|\n",
      "|          NCZ41|      19.85|         Low Fat|    0.064409056|Health and Hygiene|126.7704|           OUT035|                     2004|      Small|              Tier 2|Supermarket Type1|        1752.3856|     veg|  18|\n",
      "|          NCZ41|      19.85|         Low Fat|    0.064551885|Health and Hygiene|125.2704|           OUT045|                     2002|       NULL|              Tier 2|Supermarket Type1|        2127.8968|     veg|  18|\n",
      "+---------------+-----------+----------------+---------------+------------------+--------+-----------------+-------------------------+-----------+--------------------+-----------------+-----------------+--------+----+\n",
      "only showing top 20 rows\n",
      "\n"
     ]
    }
   ],
   "source": [
    "df.withColumn('rank',rank().over(Window.orderBy(col('Item_Identifier').desc()))).show()"
   ]
  },
  {
   "cell_type": "markdown",
   "metadata": {},
   "source": [
    "Dense_Rank()"
   ]
  },
  {
   "cell_type": "code",
   "execution_count": 43,
   "metadata": {},
   "outputs": [
    {
     "name": "stdout",
     "output_type": "stream",
     "text": [
      "+---------------+-----------+----------------+---------------+------------------+--------+-----------------+-------------------------+-----------+--------------------+-----------------+-----------------+--------+----+---------+\n",
      "|Item_Identifier|Item_Weight|Item_Fat_Content|Item_Visibility|         Item_Type|Item_MRP|Outlet_Identifier|Outlet_Establishment_Year|Outlet_Size|Outlet_Location_Type|      Outlet_Type|Item_Outlet_Sales|veg_flag|rank|denserank|\n",
      "+---------------+-----------+----------------+---------------+------------------+--------+-----------------+-------------------------+-----------+--------------------+-----------------+-----------------+--------+----+---------+\n",
      "|          NCZ54|      14.65|         Low Fat|    0.083359391|         Household|161.9552|           OUT046|                     1997|      Small|              Tier 1|Supermarket Type1|        4711.2008|     veg|   1|        1|\n",
      "|          NCZ54|       NULL|         Low Fat|    0.082955719|         Household|164.0552|           OUT027|                     1985|     Medium|              Tier 3|Supermarket Type3|        5523.4768|     veg|   1|        1|\n",
      "|          NCZ54|      14.65|         Low Fat|    0.083528446|         Household|162.4552|           OUT045|                     2002|       NULL|              Tier 2|Supermarket Type1|        2274.3728|     veg|   1|        1|\n",
      "|          NCZ54|      14.65|         Low Fat|            0.0|         Household|161.5552|           OUT010|                     1998|       NULL|              Tier 3|    Grocery Store|         324.9104|     veg|   1|        1|\n",
      "|          NCZ54|       NULL|         Low Fat|    0.145951533|         Household|160.9552|           OUT019|                     1985|      Small|              Tier 1|    Grocery Store|         162.4552|     veg|   1|        1|\n",
      "|          NCZ54|      14.65|         Low Fat|    0.083698962|         Household|163.4552|           OUT018|                     2009|     Medium|              Tier 3|Supermarket Type2|        2599.2832|     veg|   1|        1|\n",
      "|          NCZ54|      14.65|         Low Fat|    0.083488992|         Household|161.3552|           OUT049|                     1999|     Medium|              Tier 1|Supermarket Type1|        7148.0288|     veg|   1|        1|\n",
      "|          NCZ53|        9.6|         Low Fat|    0.040969757|Health and Hygiene|188.7214|           OUT010|                     1998|       NULL|              Tier 3|    Grocery Store|         376.8428|     veg|   8|        2|\n",
      "|          NCZ53|       NULL|         Low Fat|    0.024358634|Health and Hygiene|190.4214|           OUT027|                     1985|     Medium|              Tier 3|Supermarket Type3|         5652.642|     veg|   8|        2|\n",
      "|          NCZ53|        9.6|         Low Fat|    0.024576875|Health and Hygiene|186.6214|           OUT018|                     2009|     Medium|              Tier 3|Supermarket Type2|         1884.214|     veg|   8|        2|\n",
      "|          NCZ53|        9.6|         Low Fat|    0.024456797|Health and Hygiene|186.6214|           OUT013|                     1987|       High|              Tier 3|Supermarket Type1|        3203.1638|     veg|   8|        2|\n",
      "|          NCZ53|        9.6|         Low Fat|    0.024515221|Health and Hygiene|189.2214|           OUT049|                     1999|     Medium|              Tier 1|Supermarket Type1|        3956.8494|     veg|   8|        2|\n",
      "|          NCZ42|       10.5|         Low Fat|            0.0|         Household|238.3248|           OUT010|                     1998|       NULL|              Tier 3|    Grocery Store|         711.0744|     veg|  13|        3|\n",
      "|          NCZ42|       10.5|         Low Fat|    0.011351778|         Household|236.5248|           OUT017|                     2007|       NULL|              Tier 2|Supermarket Type1|        4029.4216|     veg|  13|        3|\n",
      "|          NCZ42|       10.5|         Low Fat|    0.011278535|         Household|237.0248|           OUT013|                     1987|       High|              Tier 3|Supermarket Type1|        5451.5704|     veg|  13|        3|\n",
      "|          NCZ42|       10.5|         Low Fat|    0.011285795|         Household|235.8248|           OUT035|                     2004|      Small|              Tier 2|Supermarket Type1|        4266.4464|     veg|  13|        3|\n",
      "|          NCZ42|       10.5|              LF|    0.011305479|         Household|235.5248|           OUT049|                     1999|     Medium|              Tier 1|Supermarket Type1|         4740.496|     veg|  13|        3|\n",
      "|          NCZ41|      19.85|         Low Fat|    0.064367627|Health and Hygiene|126.1704|           OUT013|                     1987|       High|              Tier 3|Supermarket Type1|         876.1928|     veg|  18|        4|\n",
      "|          NCZ41|      19.85|         Low Fat|    0.064409056|Health and Hygiene|126.7704|           OUT035|                     2004|      Small|              Tier 2|Supermarket Type1|        1752.3856|     veg|  18|        4|\n",
      "|          NCZ41|      19.85|         Low Fat|    0.064551885|Health and Hygiene|125.2704|           OUT045|                     2002|       NULL|              Tier 2|Supermarket Type1|        2127.8968|     veg|  18|        4|\n",
      "+---------------+-----------+----------------+---------------+------------------+--------+-----------------+-------------------------+-----------+--------------------+-----------------+-----------------+--------+----+---------+\n",
      "only showing top 20 rows\n",
      "\n"
     ]
    }
   ],
   "source": [
    "df.withColumn('rank',rank().over(Window.orderBy(col('Item_Identifier').desc()))) \\\n",
    "    .withColumn('denserank',dense_rank().over(Window.orderBy(col('Item_Identifier').desc()))).show()"
   ]
  },
  {
   "cell_type": "markdown",
   "metadata": {},
   "source": [
    "### WINDOW FUNCTIONS"
   ]
  },
  {
   "cell_type": "markdown",
   "metadata": {},
   "source": [
    "- Cumulative Sum"
   ]
  },
  {
   "cell_type": "code",
   "execution_count": 44,
   "metadata": {},
   "outputs": [
    {
     "name": "stdout",
     "output_type": "stream",
     "text": [
      "+---------------+-----------+----------------+---------------+------------+--------+-----------------+-------------------------+-----------+--------------------+-----------------+-----------------+--------+-----------------+\n",
      "|Item_Identifier|Item_Weight|Item_Fat_Content|Item_Visibility|   Item_Type|Item_MRP|Outlet_Identifier|Outlet_Establishment_Year|Outlet_Size|Outlet_Location_Type|      Outlet_Type|Item_Outlet_Sales|veg_flag|          cum_sum|\n",
      "+---------------+-----------+----------------+---------------+------------+--------+-----------------+-------------------------+-----------+--------------------+-----------------+-----------------+--------+-----------------+\n",
      "|          FDP36|     10.395|         Regular|            0.0|Baking Goods| 51.4008|           OUT018|                     2009|     Medium|              Tier 3|Supermarket Type2|         556.6088|     veg|81894.73640000001|\n",
      "|          FDW12|       NULL|         Regular|    0.035399923|Baking Goods|144.5444|           OUT027|                     1985|     Medium|              Tier 3|Supermarket Type3|        4064.0432|     veg|81894.73640000001|\n",
      "|          FDC37|       NULL|         Low Fat|    0.057556998|Baking Goods|107.6938|           OUT019|                     1985|      Small|              Tier 1|    Grocery Store|         214.3876|     veg|81894.73640000001|\n",
      "|          FDL12|      15.85|         Regular|    0.121632721|Baking Goods|  60.622|           OUT046|                     1997|      Small|              Tier 1|Supermarket Type1|         2576.646|     veg|81894.73640000001|\n",
      "|          FDL12|      15.85|         Regular|    0.121531501|Baking Goods|  59.222|           OUT013|                     1987|       High|              Tier 3|Supermarket Type1|           599.22|     veg|81894.73640000001|\n",
      "|          FDN48|       NULL|         Low Fat|    0.113720344|Baking Goods| 89.9804|           OUT019|                     1985|      Small|              Tier 1|    Grocery Store|         643.1628|     veg|81894.73640000001|\n",
      "|          FDR12|       NULL|         Regular|    0.031382044|Baking Goods|171.3764|           OUT027|                     1985|     Medium|              Tier 3|Supermarket Type3|        3091.9752|     veg|81894.73640000001|\n",
      "|          FDA47|       10.5|         Regular|    0.116576702|Baking Goods| 163.121|           OUT013|                     1987|       High|              Tier 3|Supermarket Type1|         1794.331|     veg|81894.73640000001|\n",
      "|          FDG12|      6.635|         Regular|            0.0|Baking Goods|121.3098|           OUT045|                     2002|       NULL|              Tier 2|Supermarket Type1|        2530.7058|     veg|81894.73640000001|\n",
      "|          FDB36|      5.465|         Regular|            0.0|Baking Goods|132.5626|           OUT018|                     2009|     Medium|              Tier 3|Supermarket Type2|         262.3252|     veg|81894.73640000001|\n",
      "|          FDO24|       11.1|         Low Fat|    0.176573035|Baking Goods|157.4604|           OUT045|                     2002|       NULL|              Tier 2|Supermarket Type1|        3010.7476|     veg|81894.73640000001|\n",
      "|          FDT12|       NULL|         Regular|    0.049381406|Baking Goods|226.8062|           OUT027|                     1985|     Medium|              Tier 3|Supermarket Type3|        4739.8302|     veg|81894.73640000001|\n",
      "|          FDE36|       5.26|         Regular|    0.041764487|Baking Goods|161.8868|           OUT035|                     2004|      Small|              Tier 2|Supermarket Type1|         3275.736|     veg|81894.73640000001|\n",
      "|          FDI24|       NULL|         Low Fat|    0.078362484|Baking Goods| 177.937|           OUT027|                     1985|     Medium|              Tier 3|Supermarket Type3|         6704.606|     veg|81894.73640000001|\n",
      "|          FDF24|       15.5|         Regular|    0.042464962|Baking Goods| 81.5934|           OUT010|                     1998|       NULL|              Tier 3|    Grocery Store|         327.5736|     veg|81894.73640000001|\n",
      "|          FDY24|       4.88|         Regular|    0.133700752|Baking Goods| 52.9298|           OUT049|                     1999|     Medium|              Tier 1|Supermarket Type1|        1995.4026|     veg|81894.73640000001|\n",
      "|          FDC60|      5.425|         Regular|    0.115119905|Baking Goods| 88.3514|           OUT017|                     2007|       NULL|              Tier 2|Supermarket Type1|        1416.8224|     veg|81894.73640000001|\n",
      "|          FDS12|        9.1|         Low Fat|    0.175103435|Baking Goods|127.5362|           OUT017|                     2007|       NULL|              Tier 2|Supermarket Type1|        4655.9394|     veg|81894.73640000001|\n",
      "|          FDG24|      7.975|         Low Fat|    0.014618973|Baking Goods|  85.225|           OUT013|                     1987|       High|              Tier 3|Supermarket Type1|         1081.925|     veg|81894.73640000001|\n",
      "|          FDV60|       NULL|         Regular|     0.11679292|Baking Goods| 196.211|           OUT027|                     1985|     Medium|              Tier 3|Supermarket Type3|         5499.508|     veg|81894.73640000001|\n",
      "+---------------+-----------+----------------+---------------+------------+--------+-----------------+-------------------------+-----------+--------------------+-----------------+-----------------+--------+-----------------+\n",
      "only showing top 20 rows\n",
      "\n"
     ]
    }
   ],
   "source": [
    "df.withColumn('cum_sum',sum('Item_MRP').over(Window.orderBy('Item_Type'))).show()"
   ]
  },
  {
   "cell_type": "code",
   "execution_count": 45,
   "metadata": {},
   "outputs": [
    {
     "name": "stdout",
     "output_type": "stream",
     "text": [
      "+---------------+-----------+----------------+---------------+------------+--------+-----------------+-------------------------+-----------+--------------------+-----------------+-----------------+--------+------------------+\n",
      "|Item_Identifier|Item_Weight|Item_Fat_Content|Item_Visibility|   Item_Type|Item_MRP|Outlet_Identifier|Outlet_Establishment_Year|Outlet_Size|Outlet_Location_Type|      Outlet_Type|Item_Outlet_Sales|veg_flag|           cum_sum|\n",
      "+---------------+-----------+----------------+---------------+------------+--------+-----------------+-------------------------+-----------+--------------------+-----------------+-----------------+--------+------------------+\n",
      "|          FDP36|     10.395|         Regular|            0.0|Baking Goods| 51.4008|           OUT018|                     2009|     Medium|              Tier 3|Supermarket Type2|         556.6088|     veg|           51.4008|\n",
      "|          FDW12|       NULL|         Regular|    0.035399923|Baking Goods|144.5444|           OUT027|                     1985|     Medium|              Tier 3|Supermarket Type3|        4064.0432|     veg|          195.9452|\n",
      "|          FDC37|       NULL|         Low Fat|    0.057556998|Baking Goods|107.6938|           OUT019|                     1985|      Small|              Tier 1|    Grocery Store|         214.3876|     veg|           303.639|\n",
      "|          FDL12|      15.85|         Regular|    0.121632721|Baking Goods|  60.622|           OUT046|                     1997|      Small|              Tier 1|Supermarket Type1|         2576.646|     veg|           364.261|\n",
      "|          FDL12|      15.85|         Regular|    0.121531501|Baking Goods|  59.222|           OUT013|                     1987|       High|              Tier 3|Supermarket Type1|           599.22|     veg|           423.483|\n",
      "|          FDN48|       NULL|         Low Fat|    0.113720344|Baking Goods| 89.9804|           OUT019|                     1985|      Small|              Tier 1|    Grocery Store|         643.1628|     veg|          513.4634|\n",
      "|          FDR12|       NULL|         Regular|    0.031382044|Baking Goods|171.3764|           OUT027|                     1985|     Medium|              Tier 3|Supermarket Type3|        3091.9752|     veg|          684.8398|\n",
      "|          FDA47|       10.5|         Regular|    0.116576702|Baking Goods| 163.121|           OUT013|                     1987|       High|              Tier 3|Supermarket Type1|         1794.331|     veg|          847.9608|\n",
      "|          FDG12|      6.635|         Regular|            0.0|Baking Goods|121.3098|           OUT045|                     2002|       NULL|              Tier 2|Supermarket Type1|        2530.7058|     veg|          969.2706|\n",
      "|          FDB36|      5.465|         Regular|            0.0|Baking Goods|132.5626|           OUT018|                     2009|     Medium|              Tier 3|Supermarket Type2|         262.3252|     veg|         1101.8332|\n",
      "|          FDO24|       11.1|         Low Fat|    0.176573035|Baking Goods|157.4604|           OUT045|                     2002|       NULL|              Tier 2|Supermarket Type1|        3010.7476|     veg|         1259.2936|\n",
      "|          FDT12|       NULL|         Regular|    0.049381406|Baking Goods|226.8062|           OUT027|                     1985|     Medium|              Tier 3|Supermarket Type3|        4739.8302|     veg|         1486.0998|\n",
      "|          FDE36|       5.26|         Regular|    0.041764487|Baking Goods|161.8868|           OUT035|                     2004|      Small|              Tier 2|Supermarket Type1|         3275.736|     veg|         1647.9866|\n",
      "|          FDI24|       NULL|         Low Fat|    0.078362484|Baking Goods| 177.937|           OUT027|                     1985|     Medium|              Tier 3|Supermarket Type3|         6704.606|     veg|         1825.9236|\n",
      "|          FDF24|       15.5|         Regular|    0.042464962|Baking Goods| 81.5934|           OUT010|                     1998|       NULL|              Tier 3|    Grocery Store|         327.5736|     veg|          1907.517|\n",
      "|          FDY24|       4.88|         Regular|    0.133700752|Baking Goods| 52.9298|           OUT049|                     1999|     Medium|              Tier 1|Supermarket Type1|        1995.4026|     veg|1960.4468000000002|\n",
      "|          FDC60|      5.425|         Regular|    0.115119905|Baking Goods| 88.3514|           OUT017|                     2007|       NULL|              Tier 2|Supermarket Type1|        1416.8224|     veg|         2048.7982|\n",
      "|          FDS12|        9.1|         Low Fat|    0.175103435|Baking Goods|127.5362|           OUT017|                     2007|       NULL|              Tier 2|Supermarket Type1|        4655.9394|     veg|         2176.3344|\n",
      "|          FDG24|      7.975|         Low Fat|    0.014618973|Baking Goods|  85.225|           OUT013|                     1987|       High|              Tier 3|Supermarket Type1|         1081.925|     veg|         2261.5594|\n",
      "|          FDV60|       NULL|         Regular|     0.11679292|Baking Goods| 196.211|           OUT027|                     1985|     Medium|              Tier 3|Supermarket Type3|         5499.508|     veg|2457.7704000000003|\n",
      "+---------------+-----------+----------------+---------------+------------+--------+-----------------+-------------------------+-----------+--------------------+-----------------+-----------------+--------+------------------+\n",
      "only showing top 20 rows\n",
      "\n"
     ]
    }
   ],
   "source": [
    "df.withColumn('cum_sum',sum('Item_MRP').over(Window.orderBy('Item_Type').rowsBetween(Window.unboundedPreceding,Window.currentRow))).show()"
   ]
  },
  {
   "cell_type": "code",
   "execution_count": 47,
   "metadata": {},
   "outputs": [
    {
     "name": "stdout",
     "output_type": "stream",
     "text": [
      "+---------------+-----------+----------------+---------------+------------+--------+-----------------+-------------------------+-----------+--------------------+-----------------+-----------------+--------+------------------+\n",
      "|Item_Identifier|Item_Weight|Item_Fat_Content|Item_Visibility|   Item_Type|Item_MRP|Outlet_Identifier|Outlet_Establishment_Year|Outlet_Size|Outlet_Location_Type|      Outlet_Type|Item_Outlet_Sales|veg_flag|         total_sum|\n",
      "+---------------+-----------+----------------+---------------+------------+--------+-----------------+-------------------------+-----------+--------------------+-----------------+-----------------+--------+------------------+\n",
      "|          FDP36|     10.395|         Regular|            0.0|Baking Goods| 51.4008|           OUT018|                     2009|     Medium|              Tier 3|Supermarket Type2|         556.6088|     veg|1201681.4808000019|\n",
      "|          FDW12|       NULL|         Regular|    0.035399923|Baking Goods|144.5444|           OUT027|                     1985|     Medium|              Tier 3|Supermarket Type3|        4064.0432|     veg|1201681.4808000019|\n",
      "|          FDC37|       NULL|         Low Fat|    0.057556998|Baking Goods|107.6938|           OUT019|                     1985|      Small|              Tier 1|    Grocery Store|         214.3876|     veg|1201681.4808000019|\n",
      "|          FDL12|      15.85|         Regular|    0.121632721|Baking Goods|  60.622|           OUT046|                     1997|      Small|              Tier 1|Supermarket Type1|         2576.646|     veg|1201681.4808000019|\n",
      "|          FDL12|      15.85|         Regular|    0.121531501|Baking Goods|  59.222|           OUT013|                     1987|       High|              Tier 3|Supermarket Type1|           599.22|     veg|1201681.4808000019|\n",
      "|          FDN48|       NULL|         Low Fat|    0.113720344|Baking Goods| 89.9804|           OUT019|                     1985|      Small|              Tier 1|    Grocery Store|         643.1628|     veg|1201681.4808000019|\n",
      "|          FDR12|       NULL|         Regular|    0.031382044|Baking Goods|171.3764|           OUT027|                     1985|     Medium|              Tier 3|Supermarket Type3|        3091.9752|     veg|1201681.4808000019|\n",
      "|          FDA47|       10.5|         Regular|    0.116576702|Baking Goods| 163.121|           OUT013|                     1987|       High|              Tier 3|Supermarket Type1|         1794.331|     veg|1201681.4808000019|\n",
      "|          FDG12|      6.635|         Regular|            0.0|Baking Goods|121.3098|           OUT045|                     2002|       NULL|              Tier 2|Supermarket Type1|        2530.7058|     veg|1201681.4808000019|\n",
      "|          FDB36|      5.465|         Regular|            0.0|Baking Goods|132.5626|           OUT018|                     2009|     Medium|              Tier 3|Supermarket Type2|         262.3252|     veg|1201681.4808000019|\n",
      "|          FDO24|       11.1|         Low Fat|    0.176573035|Baking Goods|157.4604|           OUT045|                     2002|       NULL|              Tier 2|Supermarket Type1|        3010.7476|     veg|1201681.4808000019|\n",
      "|          FDT12|       NULL|         Regular|    0.049381406|Baking Goods|226.8062|           OUT027|                     1985|     Medium|              Tier 3|Supermarket Type3|        4739.8302|     veg|1201681.4808000019|\n",
      "|          FDE36|       5.26|         Regular|    0.041764487|Baking Goods|161.8868|           OUT035|                     2004|      Small|              Tier 2|Supermarket Type1|         3275.736|     veg|1201681.4808000019|\n",
      "|          FDI24|       NULL|         Low Fat|    0.078362484|Baking Goods| 177.937|           OUT027|                     1985|     Medium|              Tier 3|Supermarket Type3|         6704.606|     veg|1201681.4808000019|\n",
      "|          FDF24|       15.5|         Regular|    0.042464962|Baking Goods| 81.5934|           OUT010|                     1998|       NULL|              Tier 3|    Grocery Store|         327.5736|     veg|1201681.4808000019|\n",
      "|          FDY24|       4.88|         Regular|    0.133700752|Baking Goods| 52.9298|           OUT049|                     1999|     Medium|              Tier 1|Supermarket Type1|        1995.4026|     veg|1201681.4808000019|\n",
      "|          FDC60|      5.425|         Regular|    0.115119905|Baking Goods| 88.3514|           OUT017|                     2007|       NULL|              Tier 2|Supermarket Type1|        1416.8224|     veg|1201681.4808000019|\n",
      "|          FDS12|        9.1|         Low Fat|    0.175103435|Baking Goods|127.5362|           OUT017|                     2007|       NULL|              Tier 2|Supermarket Type1|        4655.9394|     veg|1201681.4808000019|\n",
      "|          FDG24|      7.975|         Low Fat|    0.014618973|Baking Goods|  85.225|           OUT013|                     1987|       High|              Tier 3|Supermarket Type1|         1081.925|     veg|1201681.4808000019|\n",
      "|          FDV60|       NULL|         Regular|     0.11679292|Baking Goods| 196.211|           OUT027|                     1985|     Medium|              Tier 3|Supermarket Type3|         5499.508|     veg|1201681.4808000019|\n",
      "+---------------+-----------+----------------+---------------+------------+--------+-----------------+-------------------------+-----------+--------------------+-----------------+-----------------+--------+------------------+\n",
      "only showing top 20 rows\n",
      "\n"
     ]
    }
   ],
   "source": [
    "df.withColumn('total_sum',sum('Item_MRP').over(Window.orderBy('Item_Type').rowsBetween(Window.unboundedPreceding,Window.unboundedFollowing))).show()"
   ]
  },
  {
   "cell_type": "markdown",
   "metadata": {},
   "source": [
    "### USER DEFINED FUNCTIONS"
   ]
  },
  {
   "cell_type": "markdown",
   "metadata": {},
   "source": [
    "- create UDF\n",
    "- create python function using udf()"
   ]
  },
  {
   "cell_type": "code",
   "execution_count": 48,
   "metadata": {},
   "outputs": [],
   "source": [
    "def my_func(x):\n",
    "    return x*x"
   ]
  },
  {
   "cell_type": "code",
   "execution_count": 49,
   "metadata": {},
   "outputs": [],
   "source": [
    "my_udf=udf(my_func)"
   ]
  },
  {
   "cell_type": "code",
   "execution_count": 50,
   "metadata": {},
   "outputs": [
    {
     "name": "stdout",
     "output_type": "stream",
     "text": [
      "+---------------+-----------+----------------+---------------+--------------------+--------+-----------------+-------------------------+-----------+--------------------+-----------------+-----------------+--------+------------------+\n",
      "|Item_Identifier|Item_Weight|Item_Fat_Content|Item_Visibility|           Item_Type|Item_MRP|Outlet_Identifier|Outlet_Establishment_Year|Outlet_Size|Outlet_Location_Type|      Outlet_Type|Item_Outlet_Sales|veg_flag|           New_Col|\n",
      "+---------------+-----------+----------------+---------------+--------------------+--------+-----------------+-------------------------+-----------+--------------------+-----------------+-----------------+--------+------------------+\n",
      "|          FDA15|        9.3|         Low Fat|    0.016047301|               Dairy|249.8092|           OUT049|                     1999|     Medium|              Tier 1|Supermarket Type1|         3735.138|     veg|62404.636404640005|\n",
      "|          DRC01|       5.92|         Regular|    0.019278216|         Soft Drinks| 48.2692|           OUT018|                     2009|     Medium|              Tier 3|Supermarket Type2|         443.4228|     veg|2329.9156686399997|\n",
      "|          FDN15|       17.5|         Low Fat|    0.016760075|                Meat| 141.618|           OUT049|                     1999|     Medium|              Tier 1|Supermarket Type1|          2097.27| Non-Veg|      20055.657924|\n",
      "|          FDX07|       19.2|         Regular|            0.0|Fruits and Vegeta...| 182.095|           OUT010|                     1998|       NULL|              Tier 3|    Grocery Store|           732.38|     veg|      33158.589025|\n",
      "|          NCD19|       8.93|         Low Fat|            0.0|           Household| 53.8614|           OUT013|                     1987|       High|              Tier 3|Supermarket Type1|         994.7052|     veg|2901.0504099600003|\n",
      "|          FDP36|     10.395|         Regular|            0.0|        Baking Goods| 51.4008|           OUT018|                     2009|     Medium|              Tier 3|Supermarket Type2|         556.6088|     veg|     2642.04224064|\n",
      "|          FDO10|      13.65|         Regular|    0.012741089|         Snack Foods| 57.6588|           OUT013|                     1987|       High|              Tier 3|Supermarket Type1|         343.5528|     veg|     3324.53721744|\n",
      "|          FDP10|       NULL|         Low Fat|    0.127469857|         Snack Foods|107.7622|           OUT027|                     1985|     Medium|              Tier 3|Supermarket Type3|        4022.7636|     veg|11612.691748840001|\n",
      "|          FDH17|       16.2|         Regular|    0.016687114|        Frozen Foods| 96.9726|           OUT045|                     2002|       NULL|              Tier 2|Supermarket Type1|        1076.5986|     veg|     9403.68515076|\n",
      "|          FDU28|       19.2|         Regular|     0.09444959|        Frozen Foods|187.8214|           OUT017|                     2007|       NULL|              Tier 2|Supermarket Type1|         4710.535|     veg| 35276.87829796001|\n",
      "|          FDY07|       11.8|         Low Fat|            0.0|Fruits and Vegeta...| 45.5402|           OUT049|                     1999|     Medium|              Tier 1|Supermarket Type1|        1516.0266|     veg|     2073.90981604|\n",
      "|          FDA03|       18.5|         Regular|    0.045463773|               Dairy|144.1102|           OUT046|                     1997|      Small|              Tier 1|Supermarket Type1|         2187.153|     veg|20767.749744039997|\n",
      "|          FDX32|       15.1|         Regular|      0.1000135|Fruits and Vegeta...|145.4786|           OUT049|                     1999|     Medium|              Tier 1|Supermarket Type1|        1589.2646|     veg|    21164.02305796|\n",
      "|          FDS46|       17.6|         Regular|    0.047257328|         Snack Foods|119.6782|           OUT046|                     1997|      Small|              Tier 1|Supermarket Type1|        2145.2076|     veg|    14322.87155524|\n",
      "|          FDF32|      16.35|         Low Fat|      0.0680243|Fruits and Vegeta...|196.4426|           OUT013|                     1987|       High|              Tier 3|Supermarket Type1|         1977.426|     veg|    38589.69509476|\n",
      "|          FDP49|        9.0|         Regular|    0.069088961|           Breakfast| 56.3614|           OUT046|                     1997|      Small|              Tier 1|Supermarket Type1|        1547.3192|     veg|3176.6074099600005|\n",
      "|          NCB42|       11.8|         Low Fat|    0.008596051|  Health and Hygiene|115.3492|           OUT018|                     2009|     Medium|              Tier 3|Supermarket Type2|        1621.8888|     veg|13305.437940639998|\n",
      "|          FDP49|        9.0|         Regular|    0.069196376|           Breakfast| 54.3614|           OUT049|                     1999|     Medium|              Tier 1|Supermarket Type1|         718.3982|     veg|2955.1618099600005|\n",
      "|          DRI11|       NULL|         Low Fat|    0.034237682|         Hard Drinks|113.2834|           OUT027|                     1985|     Medium|              Tier 3|Supermarket Type3|         2303.668|     veg|    12833.12871556|\n",
      "|          FDU02|      13.35|         Low Fat|     0.10249212|               Dairy|230.5352|           OUT035|                     2004|      Small|              Tier 2|Supermarket Type1|        2748.4224|     veg|    53146.47843904|\n",
      "+---------------+-----------+----------------+---------------+--------------------+--------+-----------------+-------------------------+-----------+--------------------+-----------------+-----------------+--------+------------------+\n",
      "only showing top 20 rows\n",
      "\n"
     ]
    }
   ],
   "source": [
    "df.withColumn('New_Col',my_udf('Item_MRP')).show()"
   ]
  },
  {
   "cell_type": "markdown",
   "metadata": {},
   "source": [
    "### DATA WRITING"
   ]
  },
  {
   "cell_type": "markdown",
   "metadata": {},
   "source": [
    "- CSV"
   ]
  },
  {
   "cell_type": "code",
   "execution_count": 59,
   "metadata": {},
   "outputs": [],
   "source": [
    "df.write.format('csv')\\\n",
    "    .mode('overwrite')\\\n",
    "        .save('D:/Data Engineering/Pyspark/Ansh L/write/')"
   ]
  },
  {
   "cell_type": "markdown",
   "metadata": {},
   "source": [
    "###DATA WRITING MODES\n",
    "\n",
    "- APPEND - TO APPEND DATA\n",
    "- OVERWRITE - TO OVERWRITE DATA\n",
    "- ERROR - To Throw an error if file is already exists\n",
    "- IGNORE - To IGNORE any error"
   ]
  },
  {
   "cell_type": "code",
   "execution_count": 60,
   "metadata": {},
   "outputs": [],
   "source": [
    "df.write.format('csv')\\\n",
    "    .mode('append')\\\n",
    "        .save('D:/Data Engineering/Pyspark/Ansh L/write/')"
   ]
  },
  {
   "cell_type": "code",
   "execution_count": 61,
   "metadata": {},
   "outputs": [],
   "source": [
    "df.write.format('csv')\\\n",
    "    .mode('overwrite')\\\n",
    "        .save('D:/Data Engineering/Pyspark/Ansh L/write/')"
   ]
  },
  {
   "cell_type": "code",
   "execution_count": 62,
   "metadata": {},
   "outputs": [
    {
     "ename": "AnalysisException",
     "evalue": "[PATH_ALREADY_EXISTS] Path file:/D:/Data Engineering/Pyspark/Ansh L/write already exists. Set mode as \"overwrite\" to overwrite the existing path.",
     "output_type": "error",
     "traceback": [
      "\u001b[1;31m---------------------------------------------------------------------------\u001b[0m",
      "\u001b[1;31mAnalysisException\u001b[0m                         Traceback (most recent call last)",
      "Cell \u001b[1;32mIn[62], line 3\u001b[0m\n\u001b[0;32m      1\u001b[0m \u001b[43mdf\u001b[49m\u001b[38;5;241;43m.\u001b[39;49m\u001b[43mwrite\u001b[49m\u001b[38;5;241;43m.\u001b[39;49m\u001b[43mformat\u001b[49m\u001b[43m(\u001b[49m\u001b[38;5;124;43m'\u001b[39;49m\u001b[38;5;124;43mcsv\u001b[39;49m\u001b[38;5;124;43m'\u001b[39;49m\u001b[43m)\u001b[49m\u001b[43m\\\u001b[49m\n\u001b[0;32m      2\u001b[0m \u001b[43m    \u001b[49m\u001b[38;5;241;43m.\u001b[39;49m\u001b[43mmode\u001b[49m\u001b[43m(\u001b[49m\u001b[38;5;124;43m'\u001b[39;49m\u001b[38;5;124;43merror\u001b[39;49m\u001b[38;5;124;43m'\u001b[39;49m\u001b[43m)\u001b[49m\u001b[43m\\\u001b[49m\n\u001b[1;32m----> 3\u001b[0m \u001b[43m        \u001b[49m\u001b[38;5;241;43m.\u001b[39;49m\u001b[43msave\u001b[49m\u001b[43m(\u001b[49m\u001b[38;5;124;43m'\u001b[39;49m\u001b[38;5;124;43mD:/Data Engineering/Pyspark/Ansh L/write/\u001b[39;49m\u001b[38;5;124;43m'\u001b[39;49m\u001b[43m)\u001b[49m\n",
      "File \u001b[1;32mC:\\Program Files\\spark\\spark-3.5.3\\python\\pyspark\\sql\\readwriter.py:1463\u001b[0m, in \u001b[0;36mDataFrameWriter.save\u001b[1;34m(self, path, format, mode, partitionBy, **options)\u001b[0m\n\u001b[0;32m   1461\u001b[0m     \u001b[38;5;28mself\u001b[39m\u001b[38;5;241m.\u001b[39m_jwrite\u001b[38;5;241m.\u001b[39msave()\n\u001b[0;32m   1462\u001b[0m \u001b[38;5;28;01melse\u001b[39;00m:\n\u001b[1;32m-> 1463\u001b[0m     \u001b[38;5;28;43mself\u001b[39;49m\u001b[38;5;241;43m.\u001b[39;49m\u001b[43m_jwrite\u001b[49m\u001b[38;5;241;43m.\u001b[39;49m\u001b[43msave\u001b[49m\u001b[43m(\u001b[49m\u001b[43mpath\u001b[49m\u001b[43m)\u001b[49m\n",
      "File \u001b[1;32mC:\\Program Files\\spark\\spark-3.5.3\\python\\lib\\py4j-0.10.9.7-src.zip\\py4j\\java_gateway.py:1322\u001b[0m, in \u001b[0;36mJavaMember.__call__\u001b[1;34m(self, *args)\u001b[0m\n\u001b[0;32m   1316\u001b[0m command \u001b[38;5;241m=\u001b[39m proto\u001b[38;5;241m.\u001b[39mCALL_COMMAND_NAME \u001b[38;5;241m+\u001b[39m\\\n\u001b[0;32m   1317\u001b[0m     \u001b[38;5;28mself\u001b[39m\u001b[38;5;241m.\u001b[39mcommand_header \u001b[38;5;241m+\u001b[39m\\\n\u001b[0;32m   1318\u001b[0m     args_command \u001b[38;5;241m+\u001b[39m\\\n\u001b[0;32m   1319\u001b[0m     proto\u001b[38;5;241m.\u001b[39mEND_COMMAND_PART\n\u001b[0;32m   1321\u001b[0m answer \u001b[38;5;241m=\u001b[39m \u001b[38;5;28mself\u001b[39m\u001b[38;5;241m.\u001b[39mgateway_client\u001b[38;5;241m.\u001b[39msend_command(command)\n\u001b[1;32m-> 1322\u001b[0m return_value \u001b[38;5;241m=\u001b[39m \u001b[43mget_return_value\u001b[49m\u001b[43m(\u001b[49m\n\u001b[0;32m   1323\u001b[0m \u001b[43m    \u001b[49m\u001b[43manswer\u001b[49m\u001b[43m,\u001b[49m\u001b[43m \u001b[49m\u001b[38;5;28;43mself\u001b[39;49m\u001b[38;5;241;43m.\u001b[39;49m\u001b[43mgateway_client\u001b[49m\u001b[43m,\u001b[49m\u001b[43m \u001b[49m\u001b[38;5;28;43mself\u001b[39;49m\u001b[38;5;241;43m.\u001b[39;49m\u001b[43mtarget_id\u001b[49m\u001b[43m,\u001b[49m\u001b[43m \u001b[49m\u001b[38;5;28;43mself\u001b[39;49m\u001b[38;5;241;43m.\u001b[39;49m\u001b[43mname\u001b[49m\u001b[43m)\u001b[49m\n\u001b[0;32m   1325\u001b[0m \u001b[38;5;28;01mfor\u001b[39;00m temp_arg \u001b[38;5;129;01min\u001b[39;00m temp_args:\n\u001b[0;32m   1326\u001b[0m     \u001b[38;5;28;01mif\u001b[39;00m \u001b[38;5;28mhasattr\u001b[39m(temp_arg, \u001b[38;5;124m\"\u001b[39m\u001b[38;5;124m_detach\u001b[39m\u001b[38;5;124m\"\u001b[39m):\n",
      "File \u001b[1;32mC:\\Program Files\\spark\\spark-3.5.3\\python\\pyspark\\errors\\exceptions\\captured.py:185\u001b[0m, in \u001b[0;36mcapture_sql_exception.<locals>.deco\u001b[1;34m(*a, **kw)\u001b[0m\n\u001b[0;32m    181\u001b[0m converted \u001b[38;5;241m=\u001b[39m convert_exception(e\u001b[38;5;241m.\u001b[39mjava_exception)\n\u001b[0;32m    182\u001b[0m \u001b[38;5;28;01mif\u001b[39;00m \u001b[38;5;129;01mnot\u001b[39;00m \u001b[38;5;28misinstance\u001b[39m(converted, UnknownException):\n\u001b[0;32m    183\u001b[0m     \u001b[38;5;66;03m# Hide where the exception came from that shows a non-Pythonic\u001b[39;00m\n\u001b[0;32m    184\u001b[0m     \u001b[38;5;66;03m# JVM exception message.\u001b[39;00m\n\u001b[1;32m--> 185\u001b[0m     \u001b[38;5;28;01mraise\u001b[39;00m converted \u001b[38;5;28;01mfrom\u001b[39;00m \u001b[38;5;28;01mNone\u001b[39;00m\n\u001b[0;32m    186\u001b[0m \u001b[38;5;28;01melse\u001b[39;00m:\n\u001b[0;32m    187\u001b[0m     \u001b[38;5;28;01mraise\u001b[39;00m\n",
      "\u001b[1;31mAnalysisException\u001b[0m: [PATH_ALREADY_EXISTS] Path file:/D:/Data Engineering/Pyspark/Ansh L/write already exists. Set mode as \"overwrite\" to overwrite the existing path."
     ]
    }
   ],
   "source": [
    "df.write.format('csv')\\\n",
    "    .mode('error')\\\n",
    "        .save('D:/Data Engineering/Pyspark/Ansh L/write/')"
   ]
  },
  {
   "cell_type": "code",
   "execution_count": 63,
   "metadata": {},
   "outputs": [],
   "source": [
    "df.write.format('csv')\\\n",
    "    .mode('Ignore')\\\n",
    "        .save('D:/Data Engineering/Pyspark/Ansh L/write/')"
   ]
  },
  {
   "cell_type": "markdown",
   "metadata": {},
   "source": [
    "### PARQUET FILE FORMAT"
   ]
  },
  {
   "cell_type": "markdown",
   "metadata": {},
   "source": [
    "- ROW BASED FILE FORMAT"
   ]
  },
  {
   "cell_type": "code",
   "execution_count": 64,
   "metadata": {},
   "outputs": [],
   "source": [
    "df.write.format('parquet')\\\n",
    "    .mode('overwrite')\\\n",
    "        .save('D:/Data Engineering/Pyspark/Ansh L/write/')"
   ]
  },
  {
   "cell_type": "markdown",
   "metadata": {},
   "source": [
    "### Table"
   ]
  },
  {
   "cell_type": "code",
   "execution_count": 65,
   "metadata": {},
   "outputs": [],
   "source": [
    "df.write.format('parquet')\\\n",
    "    .mode('overwrite')\\\n",
    "        .saveAsTable('my_table')"
   ]
  },
  {
   "cell_type": "markdown",
   "metadata": {},
   "source": [
    "### SPARK SQL"
   ]
  },
  {
   "cell_type": "code",
   "execution_count": 66,
   "metadata": {},
   "outputs": [],
   "source": [
    "df.createTempView('my_view')"
   ]
  },
  {
   "cell_type": "code",
   "execution_count": 72,
   "metadata": {},
   "outputs": [],
   "source": [
    "data2=spark.sql(\"\"\"\n",
    "select * from my_view\"\"\")"
   ]
  },
  {
   "cell_type": "code",
   "execution_count": 73,
   "metadata": {},
   "outputs": [
    {
     "name": "stdout",
     "output_type": "stream",
     "text": [
      "+---------------+-----------+----------------+---------------+--------------------+--------+-----------------+-------------------------+-----------+--------------------+-----------------+-----------------+--------+\n",
      "|Item_Identifier|Item_Weight|Item_Fat_Content|Item_Visibility|           Item_Type|Item_MRP|Outlet_Identifier|Outlet_Establishment_Year|Outlet_Size|Outlet_Location_Type|      Outlet_Type|Item_Outlet_Sales|veg_flag|\n",
      "+---------------+-----------+----------------+---------------+--------------------+--------+-----------------+-------------------------+-----------+--------------------+-----------------+-----------------+--------+\n",
      "|          FDA15|        9.3|         Low Fat|    0.016047301|               Dairy|249.8092|           OUT049|                     1999|     Medium|              Tier 1|Supermarket Type1|         3735.138|     veg|\n",
      "|          DRC01|       5.92|         Regular|    0.019278216|         Soft Drinks| 48.2692|           OUT018|                     2009|     Medium|              Tier 3|Supermarket Type2|         443.4228|     veg|\n",
      "|          FDN15|       17.5|         Low Fat|    0.016760075|                Meat| 141.618|           OUT049|                     1999|     Medium|              Tier 1|Supermarket Type1|          2097.27| Non-Veg|\n",
      "|          FDX07|       19.2|         Regular|            0.0|Fruits and Vegeta...| 182.095|           OUT010|                     1998|       NULL|              Tier 3|    Grocery Store|           732.38|     veg|\n",
      "|          NCD19|       8.93|         Low Fat|            0.0|           Household| 53.8614|           OUT013|                     1987|       High|              Tier 3|Supermarket Type1|         994.7052|     veg|\n",
      "|          FDP36|     10.395|         Regular|            0.0|        Baking Goods| 51.4008|           OUT018|                     2009|     Medium|              Tier 3|Supermarket Type2|         556.6088|     veg|\n",
      "|          FDO10|      13.65|         Regular|    0.012741089|         Snack Foods| 57.6588|           OUT013|                     1987|       High|              Tier 3|Supermarket Type1|         343.5528|     veg|\n",
      "|          FDP10|       NULL|         Low Fat|    0.127469857|         Snack Foods|107.7622|           OUT027|                     1985|     Medium|              Tier 3|Supermarket Type3|        4022.7636|     veg|\n",
      "|          FDH17|       16.2|         Regular|    0.016687114|        Frozen Foods| 96.9726|           OUT045|                     2002|       NULL|              Tier 2|Supermarket Type1|        1076.5986|     veg|\n",
      "|          FDU28|       19.2|         Regular|     0.09444959|        Frozen Foods|187.8214|           OUT017|                     2007|       NULL|              Tier 2|Supermarket Type1|         4710.535|     veg|\n",
      "|          FDY07|       11.8|         Low Fat|            0.0|Fruits and Vegeta...| 45.5402|           OUT049|                     1999|     Medium|              Tier 1|Supermarket Type1|        1516.0266|     veg|\n",
      "|          FDA03|       18.5|         Regular|    0.045463773|               Dairy|144.1102|           OUT046|                     1997|      Small|              Tier 1|Supermarket Type1|         2187.153|     veg|\n",
      "|          FDX32|       15.1|         Regular|      0.1000135|Fruits and Vegeta...|145.4786|           OUT049|                     1999|     Medium|              Tier 1|Supermarket Type1|        1589.2646|     veg|\n",
      "|          FDS46|       17.6|         Regular|    0.047257328|         Snack Foods|119.6782|           OUT046|                     1997|      Small|              Tier 1|Supermarket Type1|        2145.2076|     veg|\n",
      "|          FDF32|      16.35|         Low Fat|      0.0680243|Fruits and Vegeta...|196.4426|           OUT013|                     1987|       High|              Tier 3|Supermarket Type1|         1977.426|     veg|\n",
      "|          FDP49|        9.0|         Regular|    0.069088961|           Breakfast| 56.3614|           OUT046|                     1997|      Small|              Tier 1|Supermarket Type1|        1547.3192|     veg|\n",
      "|          NCB42|       11.8|         Low Fat|    0.008596051|  Health and Hygiene|115.3492|           OUT018|                     2009|     Medium|              Tier 3|Supermarket Type2|        1621.8888|     veg|\n",
      "|          FDP49|        9.0|         Regular|    0.069196376|           Breakfast| 54.3614|           OUT049|                     1999|     Medium|              Tier 1|Supermarket Type1|         718.3982|     veg|\n",
      "|          DRI11|       NULL|         Low Fat|    0.034237682|         Hard Drinks|113.2834|           OUT027|                     1985|     Medium|              Tier 3|Supermarket Type3|         2303.668|     veg|\n",
      "|          FDU02|      13.35|         Low Fat|     0.10249212|               Dairy|230.5352|           OUT035|                     2004|      Small|              Tier 2|Supermarket Type1|        2748.4224|     veg|\n",
      "+---------------+-----------+----------------+---------------+--------------------+--------+-----------------+-------------------------+-----------+--------------------+-----------------+-----------------+--------+\n",
      "only showing top 20 rows\n",
      "\n"
     ]
    }
   ],
   "source": [
    "data2.show()"
   ]
  },
  {
   "cell_type": "code",
   "execution_count": 78,
   "metadata": {},
   "outputs": [
    {
     "name": "stdout",
     "output_type": "stream",
     "text": [
      "+---------------+-----------+----------------+---------------+--------------------+--------+-----------------+-------------------------+-----------+--------------------+-----------------+-----------------+--------+\n",
      "|Item_Identifier|Item_Weight|Item_Fat_Content|Item_Visibility|           Item_Type|Item_MRP|Outlet_Identifier|Outlet_Establishment_Year|Outlet_Size|Outlet_Location_Type|      Outlet_Type|Item_Outlet_Sales|veg_flag|\n",
      "+---------------+-----------+----------------+---------------+--------------------+--------+-----------------+-------------------------+-----------+--------------------+-----------------+-----------------+--------+\n",
      "|          FDA15|        9.3|         Low Fat|    0.016047301|               Dairy|249.8092|           OUT049|                     1999|     Medium|              Tier 1|Supermarket Type1|         3735.138|     veg|\n",
      "|          FDN15|       17.5|         Low Fat|    0.016760075|                Meat| 141.618|           OUT049|                     1999|     Medium|              Tier 1|Supermarket Type1|          2097.27| Non-Veg|\n",
      "|          NCD19|       8.93|         Low Fat|            0.0|           Household| 53.8614|           OUT013|                     1987|       High|              Tier 3|Supermarket Type1|         994.7052|     veg|\n",
      "|          FDP10|       NULL|         Low Fat|    0.127469857|         Snack Foods|107.7622|           OUT027|                     1985|     Medium|              Tier 3|Supermarket Type3|        4022.7636|     veg|\n",
      "|          FDY07|       11.8|         Low Fat|            0.0|Fruits and Vegeta...| 45.5402|           OUT049|                     1999|     Medium|              Tier 1|Supermarket Type1|        1516.0266|     veg|\n",
      "|          FDF32|      16.35|         Low Fat|      0.0680243|Fruits and Vegeta...|196.4426|           OUT013|                     1987|       High|              Tier 3|Supermarket Type1|         1977.426|     veg|\n",
      "|          NCB42|       11.8|         Low Fat|    0.008596051|  Health and Hygiene|115.3492|           OUT018|                     2009|     Medium|              Tier 3|Supermarket Type2|        1621.8888|     veg|\n",
      "|          DRI11|       NULL|         Low Fat|    0.034237682|         Hard Drinks|113.2834|           OUT027|                     1985|     Medium|              Tier 3|Supermarket Type3|         2303.668|     veg|\n",
      "|          FDU02|      13.35|         Low Fat|     0.10249212|               Dairy|230.5352|           OUT035|                     2004|      Small|              Tier 2|Supermarket Type1|        2748.4224|     veg|\n",
      "|          NCB30|       14.6|         Low Fat|    0.025698134|           Household|196.5084|           OUT035|                     2004|      Small|              Tier 2|Supermarket Type1|        1587.2672|     veg|\n",
      "|          FDC37|       NULL|         Low Fat|    0.057556998|        Baking Goods|107.6938|           OUT019|                     1985|      Small|              Tier 1|    Grocery Store|         214.3876|     veg|\n",
      "|          NCD06|       13.0|         Low Fat|    0.099887103|           Household|  45.906|           OUT017|                     2007|       NULL|              Tier 2|Supermarket Type1|          838.908|     veg|\n",
      "|          FDV38|      19.25|         Low Fat|    0.170348551|               Dairy| 55.7956|           OUT010|                     1998|       NULL|              Tier 3|    Grocery Store|         163.7868|     veg|\n",
      "|          NCS17|       18.6|         Low Fat|    0.080829372|  Health and Hygiene| 96.4436|           OUT018|                     2009|     Medium|              Tier 3|Supermarket Type2|        2741.7644|     veg|\n",
      "|          FDP33|       18.7|         Low Fat|            0.0|         Snack Foods|256.6672|           OUT018|                     2009|     Medium|              Tier 3|Supermarket Type2|        3068.0064|     veg|\n",
      "|          FDO23|      17.85|         Low Fat|            0.0|              Breads| 93.1436|           OUT045|                     2002|       NULL|              Tier 2|Supermarket Type1|        2174.5028|     veg|\n",
      "|          DRH01|       17.5|         Low Fat|    0.097904029|         Soft Drinks|174.8738|           OUT046|                     1997|      Small|              Tier 1|Supermarket Type1|        2085.2856|     veg|\n",
      "|          NCX29|       10.0|         Low Fat|    0.089291137|  Health and Hygiene|146.7102|           OUT049|                     1999|     Medium|              Tier 1|Supermarket Type1|        3791.0652|     veg|\n",
      "|          FDB34|       NULL|         Low Fat|    0.026480954|         Snack Foods| 87.6198|           OUT027|                     1985|     Medium|              Tier 3|Supermarket Type3|         2180.495|     veg|\n",
      "|          FDU02|      13.35|         Low Fat|    0.102511504|               Dairy|230.6352|           OUT046|                     1997|      Small|              Tier 1|Supermarket Type1|         3435.528|     veg|\n",
      "+---------------+-----------+----------------+---------------+--------------------+--------+-----------------+-------------------------+-----------+--------------------+-----------------+-----------------+--------+\n",
      "only showing top 20 rows\n",
      "\n"
     ]
    }
   ],
   "source": [
    "spark.sql(\"\"\"\n",
    "select * from my_view where Item_fat_content='Low Fat'\n",
    "                \"\"\").show()\n",
    "#data3.show()"
   ]
  },
  {
   "cell_type": "code",
   "execution_count": null,
   "metadata": {},
   "outputs": [],
   "source": []
  }
 ],
 "metadata": {
  "kernelspec": {
   "display_name": "Python 3",
   "language": "python",
   "name": "python3"
  },
  "language_info": {
   "codemirror_mode": {
    "name": "ipython",
    "version": 3
   },
   "file_extension": ".py",
   "mimetype": "text/x-python",
   "name": "python",
   "nbconvert_exporter": "python",
   "pygments_lexer": "ipython3",
   "version": "3.10.3"
  }
 },
 "nbformat": 4,
 "nbformat_minor": 2
}
